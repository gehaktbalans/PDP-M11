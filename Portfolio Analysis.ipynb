{
 "cells": [
  {
   "cell_type": "code",
   "execution_count": 13,
   "metadata": {},
   "outputs": [
    {
     "data": {
      "text/html": [
       "        <script type=\"text/javascript\">\n",
       "        window.PlotlyConfig = {MathJaxConfig: 'local'};\n",
       "        if (window.MathJax) {MathJax.Hub.Config({SVG: {font: \"STIX-Web\"}});}\n",
       "        if (typeof require !== 'undefined') {\n",
       "        require.undef(\"plotly\");\n",
       "        requirejs.config({\n",
       "            paths: {\n",
       "                'plotly': ['https://cdn.plot.ly/plotly-latest.min']\n",
       "            }\n",
       "        });\n",
       "        require(['plotly'], function(Plotly) {\n",
       "            window._Plotly = Plotly;\n",
       "        });\n",
       "        }\n",
       "        </script>\n",
       "        "
      ]
     },
     "metadata": {},
     "output_type": "display_data"
    }
   ],
   "source": [
    "%matplotlib inline\n",
    "import pandas as pd\n",
    "import numpy as np\n",
    "import yfinance as yf\n",
    "import math\n",
    "from pandas_datareader import data as pdr\n",
    "import cufflinks as cf\n",
    "import plotly as py\n",
    "import matplotlib as plt\n",
    "import plotly.express as px\n",
    "yf.pdr_override()\n",
    "cf.go_offline()\n",
    "from plotly.subplots import make_subplots\n",
    "\n",
    "from ipywidgets import interact, interactive, fixed, interact_manual\n",
    "import ipywidgets as wg\n",
    "from IPython.display import display, clear_output\n",
    "import tabulate as tb\n",
    "from IPython.core.display import HTML\n",
    "import plotly.graph_objects as go"
   ]
  },
  {
   "cell_type": "code",
   "execution_count": 14,
   "metadata": {},
   "outputs": [],
   "source": [
    "start_date = \"2017-01-01\"\n",
    "end_date = \"2018-01-01\"\n",
    "trading_days = 253\n",
    "riskfree = 0.01\n",
    "\n",
    "portfolio_dict = {}\n",
    "\n",
    "# Formula for calculating the Sharpe Ratio\n",
    "def sharpeRatio(riskfree, stockreturn, std):\n",
    "    return (stockreturn-riskfree)/std\n",
    "\n",
    "class Portfolio:\n",
    "    def __init__(self, name, assets, weights):\n",
    "        self.name = name\n",
    "        self.assets = assets\n",
    "        self.weights = pd.Series(weights)\n",
    "        \n",
    "#         Retrieving financial data from Yahoo Finance\n",
    "        self.stock_data = pdr.get_data_yahoo(assets, start = start_date, end = end_date)['Adj Close']\n",
    "        \n",
    "#         caclulating average returns\n",
    "        self.daily_returns = self.stock_data.pct_change()\n",
    "        \n",
    "#         Calculating logarithmic returns\n",
    "        self.log_return = np.log(self.stock_data/self.stock_data.shift(1))\n",
    "        self.log_portfolio = np.dot(self.weights.T, self.log_return.mean()) * trading_days\n",
    "        \n",
    "        self.port_logreturn = self.log_return * np.array(self.weights)\n",
    "        \n",
    "#         calculating variance of portfolio\n",
    "        self.covariance = self.log_return.cov() * trading_days\n",
    "        self.portfolio_var = np.dot(self.weights.T, np.dot(self.covariance, self.weights))\n",
    "\n",
    "#         calculating sharpe ratio of portfolio\n",
    "        self.sharpe_ratio = sharpeRatio(riskfree, self.log_portfolio, math.sqrt(self.portfolio_var))"
   ]
  },
  {
   "cell_type": "code",
   "execution_count": 15,
   "metadata": {},
   "outputs": [
    {
     "name": "stdout",
     "output_type": "stream",
     "text": [
      "[*********************100%***********************]  3 of 3 completed\n",
      "[*********************100%***********************]  2 of 2 completed\n",
      "[*********************100%***********************]  5 of 5 completed\n"
     ]
    }
   ],
   "source": [
    "# Testing different portfolios\n",
    "p1 = Portfolio('p1', ['AAPL', 'MSFT', 'BAC'], [0.34, 0.16, 0.5])\n",
    "p2 = Portfolio('p2', ['GOOG', 'TSLA'], [0.6, 0.4])\n",
    "p3 = Portfolio('p3', ['XOM', 'BUD', 'FB', 'ORCL', 'INTC'], [0.20, 0.20, 0.20, 0.20, 0.20])\n",
    "portfolio_dict['p1'] = p1\n",
    "portfolio_dict['p2'] = p2\n",
    "portfolio_dict['p3'] = p3"
   ]
  },
  {
   "cell_type": "code",
   "execution_count": 16,
   "metadata": {},
   "outputs": [
    {
     "name": "stdout",
     "output_type": "stream",
     "text": [
      "[*********************100%***********************]  1 of 1 completed\n"
     ]
    }
   ],
   "source": [
    "# Set market values\n",
    "SP500 = pdr.get_data_yahoo('^SP500TR', start = start_date, end = end_date)['Adj Close']\n",
    "market_dailyreturns = np.log(SP500/SP500.shift(1))\n",
    "market_var = market_dailyreturns.var() * trading_days\n",
    "market_return = market_dailyreturns.mean() * trading_days\n",
    "\n",
    "# function for calculating the beta of an portfolio\n",
    "def calculateBeta(portfolio):\n",
    "    df = pd.DataFrame({'market': market_dailyreturns,\n",
    "                        portfolio.name: portfolio.port_logreturn.sum(axis=1)})\n",
    "    cov = df.cov().iloc[0][1] * trading_days\n",
    "    beta = cov/market_var\n",
    "    return beta\n",
    "\n",
    "# calculating the return according to the capm model\n",
    "def capm(beta):\n",
    "    ret = beta * (market_return - riskfree) + riskfree\n",
    "    return ret\n",
    "\n",
    "# plot the capm model\n",
    "def capmPlot():\n",
    "    x = np.arange(0, 2, 0.01)\n",
    "    y = np.array([capm(i) for i in x])\n",
    "    d = pd.DataFrame({'x': x,\n",
    "                 'y': y})\n",
    "    \n",
    "    trace0 = go.Scatter(x=d['x'], y=d['y'], mode = 'lines', name='CAPM')\n",
    "    trace1 = go.Scatter(x=[1], y=[market_return], mode='markers', name='market portfolio')\n",
    "    data = [trace0, trace1]\n",
    "    for name in portfolio_dict.keys():\n",
    "        portfolio = portfolio_dict.get(name)\n",
    "        data.append(go.Scatter(x=[calculateBeta(portfolio)], y=[portfolio.log_portfolio], mode = 'markers', name=portfolio.name))\n",
    "        \n",
    "    layout = go.Layout(title = 'CAPM model')\n",
    "    figure = go.Figure(data=data, layout = layout)\n",
    "    figure.show()"
   ]
  },
  {
   "cell_type": "code",
   "execution_count": 17,
   "metadata": {
    "scrolled": true
   },
   "outputs": [],
   "source": [
    "# function for giving the stats of all portfolios\n",
    "def overviewPortfoliosStats():\n",
    "    df = pd.DataFrame(columns = ['Portfolio', 'Return', 'Volatility', 'Sharpe Ratio'])\n",
    "    \n",
    "    for name in portfolio_dict.keys():\n",
    "        portfolio = portfolio_dict.get(name)\n",
    "        df = df.append({'Portfolio': portfolio.name,\n",
    "                   'Return': portfolio.log_portfolio,\n",
    "                   'Volatility': np.sqrt(portfolio.portfolio_var),\n",
    "                   'Sharpe Ratio': portfolio.sharpe_ratio}, ignore_index = True)\n",
    "    df = df.set_index('Portfolio')\n",
    "    return df\n",
    "\n",
    "# function for printing the portfolio weights\n",
    "def overviewPortfolios():\n",
    "    for name in portfolio_dict.keys():\n",
    "        series_list = []\n",
    "        portfolio = portfolio_dict.get(name)\n",
    "        df = pd.DataFrame({'Company': portfolio.assets,\n",
    "                           'Weights': portfolio.weights})\n",
    "        print(\"Portfolio: \" + name)\n",
    "        print(df)\n",
    "        print(\"\\n\")"
   ]
  },
  {
   "cell_type": "code",
   "execution_count": 18,
   "metadata": {},
   "outputs": [],
   "source": [
    "# function or making a dataframe with the portfolio stocks\n",
    "def indexDataframe(name):\n",
    "    indexOverview = pd.DataFrame()\n",
    "    portfolio = portfolio_dict.get(name)\n",
    "    \n",
    "    \n",
    "    indexOverview = portfolio.stock_data/portfolio.stock_data.iloc[0]\n",
    "    indexOverview['S&P 500'] = SP500/SP500[0]\n",
    "    indexOverview['Portfolio'] = indexOverview.sum(axis = 1) - indexOverview['S&P 500']\n",
    "    indexOverview['Portfolio'] = indexOverview['Portfolio']/indexOverview['Portfolio'].iloc[0]\n",
    "    indexOverview = indexOverview * 100\n",
    "    return indexOverview\n",
    "\n",
    "# plot the dataframe with indices of portfolio stocks\n",
    "def indexDataframePlot(name):\n",
    "    indexDataframe(name).iplot(title='Stock Index Comparison')"
   ]
  },
  {
   "cell_type": "code",
   "execution_count": 19,
   "metadata": {},
   "outputs": [],
   "source": [
    "# function for creating a daframe for comparing the indices of portfolios\n",
    "def comparePortfolios():\n",
    "    df = pd.DataFrame()\n",
    "    df['S&P 500'] = (SP500/SP500[0])*100\n",
    "    for name in portfolio_dict.keys():\n",
    "        portfolio = portfolio_dict.get(name)\n",
    "        df[name] = indexDataframe(name)['Portfolio']\n",
    "    return df\n",
    "\n",
    "# plot the dataframe with portfolio indices\n",
    "def comparePortfoliosPlot():\n",
    "    comparePortfolios().iplot(title='Portfolio Index Comparison')"
   ]
  },
  {
   "cell_type": "code",
   "execution_count": 20,
   "metadata": {},
   "outputs": [],
   "source": [
    "\n",
    "def weightOpt(name, nr_randomnumbers, riskfree):\n",
    "    \n",
    "    portfolio = portfolio_dict.get(name)\n",
    "    np.random.seed(1)\n",
    "\n",
    "    df_random = pd.DataFrame(np.random.random(size = (len(portfolio.stock_data.T), nr_randomnumbers)))\n",
    "    df_random = df_random/df_random.sum()\n",
    "    data = portfolio.stock_data\n",
    "    stock_returns = np.log(data/data.shift(1))\n",
    "    expected_returns = np.dot(df_random.T * trading_days, stock_returns.mean() ) \n",
    "    \n",
    "    \n",
    "    \n",
    "    coveriances = stock_returns.cov()\n",
    "    variances = np.zeros(nr_randomnumbers)\n",
    "    sharpe_ratios = np.zeros(nr_randomnumbers)\n",
    "    \n",
    "    for i in range(nr_randomnumbers):\n",
    "        variances[i] = np.dot(df_random[i], np.dot(coveriances *trading_days, df_random[i]))\n",
    "        sharpe_ratios[i] = sharpeRatio(riskfree, expected_returns[i], np.sqrt(variances[i]))\n",
    "    df = pd.DataFrame({'Return': expected_returns,\n",
    "                        'Volatility': np.sqrt(variances),\n",
    "                        'Sharpe Ratio': sharpe_ratios})\n",
    "    \n",
    "    max = df['Sharpe Ratio'].idxmax(axis = 0)\n",
    "    opt_weights = df_random.T.iloc[max]\n",
    "    df_weights = pd.DataFrame({'Company': portfolio.assets,\n",
    "                                'Weight': opt_weights})\n",
    "    \n",
    "    \n",
    "    print('Optimal Portfolio: ')\n",
    "    print(tb.tabulate(df_weights, headers = ['Nr', 'Company', 'Weight']))\n",
    "    \n",
    "    opt_results = df.iloc[max]\n",
    "    print(\"\\n\")\n",
    "    print(opt_results)\n",
    "\n",
    "    scatter = go.Scatter(x=df['Volatility'], y=df['Return'], name='Portfolios', mode='markers', marker=dict(color=df['Sharpe Ratio'], colorbar = dict(title='Sharpe Ratio', x=-0.2)))\n",
    "    point1 = go.Scatter(x=[df['Volatility'].iloc[max]], y=[df['Return'].iloc[max]], mode='markers', name='Optimal', marker=dict(color='red', size=10))\n",
    "    data = [scatter, point1]\n",
    "    \n",
    "    layout = go.Layout(title = 'Efficient Frontier')\n",
    "    figure = go.Figure(data=data, layout = layout)\n",
    "    figure.show()"
   ]
  },
  {
   "cell_type": "markdown",
   "metadata": {},
   "source": [
    "<h1>Portfolio Analysis Tools</h1>"
   ]
  },
  {
   "cell_type": "code",
   "execution_count": 21,
   "metadata": {},
   "outputs": [
    {
     "data": {
      "application/vnd.jupyter.widget-view+json": {
       "model_id": "3c213c4c98c545eea061bb253557d1e2",
       "version_major": 2,
       "version_minor": 0
      },
      "text/plain": [
       "interactive(children=(Text(value='TechPortfolio', description='name'), Text(value='AAPL, MSFT', description='a…"
      ]
     },
     "metadata": {},
     "output_type": "display_data"
    },
    {
     "data": {
      "application/vnd.jupyter.widget-view+json": {
       "model_id": "25dc9a398a6e40e4962507f706729f64",
       "version_major": 2,
       "version_minor": 0
      },
      "text/plain": [
       "VBox(children=(Button(description='Reset', style=ButtonStyle()), Output()))"
      ]
     },
     "metadata": {},
     "output_type": "display_data"
    }
   ],
   "source": [
    "\n",
    "# method for adding a new portfolio\n",
    "def addPortfolio(name, assets, weights):\n",
    "    assets = assets.split(', ')\n",
    "    weights = [float(weight) for weight in weights.split(', ')]\n",
    "    portfolio_dict[name] = Portfolio(name, assets, weights)   \n",
    "    overviewPortfolios()\n",
    "    \n",
    "# method for resetting list of portfolios\n",
    "def resetPortfolio(x):\n",
    "    portfolio_dict.clear()\n",
    "    with out: \n",
    "        clear_output()\n",
    "        print('Portfolio list has been reset')\n",
    "\n",
    "wg.interact_manual(addPortfolio, name = 'TechPortfolio', assets = 'AAPL, MSFT', weights = '0.50, 0.50')\n",
    "\n",
    "button = wg.Button(description=\"Reset\")\n",
    "out = wg.Output()\n",
    "button.on_click(resetPortfolio)\n",
    "\n",
    "\n",
    "wg.VBox([button, out])\n"
   ]
  },
  {
   "cell_type": "code",
   "execution_count": 22,
   "metadata": {},
   "outputs": [
    {
     "data": {
      "application/vnd.jupyter.widget-view+json": {
       "model_id": "5df7551fc02340828c642ca32b711f83",
       "version_major": 2,
       "version_minor": 0
      },
      "text/plain": [
       "interactive(children=(Dropdown(description='name', options=('p1', 'p2', 'p3', 'TechPortfolio'), value='p1'), B…"
      ]
     },
     "metadata": {},
     "output_type": "display_data"
    },
    {
     "data": {
      "text/plain": [
       "<function __main__.indexDataframePlot(name)>"
      ]
     },
     "execution_count": 22,
     "metadata": {},
     "output_type": "execute_result"
    }
   ],
   "source": [
    "wg.interact_manual(indexDataframePlot, name=portfolio_dict.keys())"
   ]
  },
  {
   "cell_type": "code",
   "execution_count": 23,
   "metadata": {},
   "outputs": [
    {
     "name": "stdout",
     "output_type": "stream",
     "text": [
      "Portfolio: p1\n",
      "  Company  Weights\n",
      "0    AAPL     0.34\n",
      "1    MSFT     0.16\n",
      "2     BAC     0.50\n",
      "\n",
      "\n",
      "Portfolio: p2\n",
      "  Company  Weights\n",
      "0    GOOG      0.6\n",
      "1    TSLA      0.4\n",
      "\n",
      "\n",
      "Portfolio: p3\n",
      "  Company  Weights\n",
      "0     XOM      0.2\n",
      "1     BUD      0.2\n",
      "2      FB      0.2\n",
      "3    ORCL      0.2\n",
      "4    INTC      0.2\n",
      "\n",
      "\n",
      "Portfolio: TechPortfolio\n",
      "  Company  Weights\n",
      "0    AAPL      0.5\n",
      "1    MSFT      0.5\n",
      "\n",
      "\n",
      "Name             Return    Volatility    Sharpe Ratio\n",
      "-------------  --------  ------------  --------------\n",
      "p1             0.350604     0.126117          2.70069\n",
      "p2             0.319804     0.18697           1.65698\n",
      "p3             0.190837     0.0892383         2.02645\n",
      "TechPortfolio  0.367837     0.137626          2.60007\n"
     ]
    },
    {
     "data": {
      "application/vnd.plotly.v1+json": {
       "config": {
        "linkText": "Export to plot.ly",
        "plotlyServerURL": "https://plot.ly",
        "showLink": true
       },
       "data": [
        {
         "line": {
          "color": "rgba(255, 153, 51, 1.0)",
          "dash": "solid",
          "shape": "linear",
          "width": 1.3
         },
         "mode": "lines",
         "name": "S&P 500",
         "text": "",
         "type": "scatter",
         "x": [
          "2017-01-03",
          "2017-01-04",
          "2017-01-05",
          "2017-01-06",
          "2017-01-09",
          "2017-01-10",
          "2017-01-11",
          "2017-01-12",
          "2017-01-13",
          "2017-01-17",
          "2017-01-18",
          "2017-01-19",
          "2017-01-20",
          "2017-01-23",
          "2017-01-24",
          "2017-01-25",
          "2017-01-26",
          "2017-01-27",
          "2017-01-30",
          "2017-01-31",
          "2017-02-01",
          "2017-02-02",
          "2017-02-03",
          "2017-02-06",
          "2017-02-07",
          "2017-02-08",
          "2017-02-09",
          "2017-02-10",
          "2017-02-13",
          "2017-02-14",
          "2017-02-15",
          "2017-02-16",
          "2017-02-17",
          "2017-02-21",
          "2017-02-22",
          "2017-02-23",
          "2017-02-24",
          "2017-02-27",
          "2017-02-28",
          "2017-03-01",
          "2017-03-02",
          "2017-03-03",
          "2017-03-06",
          "2017-03-07",
          "2017-03-08",
          "2017-03-09",
          "2017-03-10",
          "2017-03-13",
          "2017-03-14",
          "2017-03-15",
          "2017-03-16",
          "2017-03-17",
          "2017-03-20",
          "2017-03-21",
          "2017-03-22",
          "2017-03-23",
          "2017-03-24",
          "2017-03-27",
          "2017-03-28",
          "2017-03-29",
          "2017-03-30",
          "2017-03-31",
          "2017-04-03",
          "2017-04-04",
          "2017-04-05",
          "2017-04-06",
          "2017-04-07",
          "2017-04-10",
          "2017-04-11",
          "2017-04-12",
          "2017-04-13",
          "2017-04-17",
          "2017-04-18",
          "2017-04-19",
          "2017-04-20",
          "2017-04-21",
          "2017-04-24",
          "2017-04-25",
          "2017-04-26",
          "2017-04-27",
          "2017-04-28",
          "2017-05-01",
          "2017-05-02",
          "2017-05-03",
          "2017-05-04",
          "2017-05-05",
          "2017-05-08",
          "2017-05-09",
          "2017-05-10",
          "2017-05-11",
          "2017-05-12",
          "2017-05-15",
          "2017-05-16",
          "2017-05-17",
          "2017-05-18",
          "2017-05-19",
          "2017-05-22",
          "2017-05-23",
          "2017-05-24",
          "2017-05-25",
          "2017-05-26",
          "2017-05-30",
          "2017-05-31",
          "2017-06-01",
          "2017-06-02",
          "2017-06-05",
          "2017-06-06",
          "2017-06-07",
          "2017-06-08",
          "2017-06-09",
          "2017-06-12",
          "2017-06-13",
          "2017-06-14",
          "2017-06-15",
          "2017-06-16",
          "2017-06-19",
          "2017-06-20",
          "2017-06-21",
          "2017-06-22",
          "2017-06-23",
          "2017-06-26",
          "2017-06-27",
          "2017-06-28",
          "2017-06-29",
          "2017-06-30",
          "2017-07-03",
          "2017-07-05",
          "2017-07-06",
          "2017-07-07",
          "2017-07-10",
          "2017-07-11",
          "2017-07-12",
          "2017-07-13",
          "2017-07-14",
          "2017-07-17",
          "2017-07-18",
          "2017-07-19",
          "2017-07-20",
          "2017-07-21",
          "2017-07-24",
          "2017-07-25",
          "2017-07-26",
          "2017-07-27",
          "2017-07-28",
          "2017-07-31",
          "2017-08-01",
          "2017-08-02",
          "2017-08-03",
          "2017-08-04",
          "2017-08-07",
          "2017-08-08",
          "2017-08-09",
          "2017-08-10",
          "2017-08-11",
          "2017-08-14",
          "2017-08-15",
          "2017-08-16",
          "2017-08-17",
          "2017-08-18",
          "2017-08-21",
          "2017-08-22",
          "2017-08-23",
          "2017-08-24",
          "2017-08-25",
          "2017-08-28",
          "2017-08-29",
          "2017-08-30",
          "2017-08-31",
          "2017-09-01",
          "2017-09-05",
          "2017-09-06",
          "2017-09-07",
          "2017-09-08",
          "2017-09-11",
          "2017-09-12",
          "2017-09-13",
          "2017-09-14",
          "2017-09-15",
          "2017-09-18",
          "2017-09-19",
          "2017-09-20",
          "2017-09-21",
          "2017-09-22",
          "2017-09-25",
          "2017-09-26",
          "2017-09-27",
          "2017-09-28",
          "2017-09-29",
          "2017-10-02",
          "2017-10-03",
          "2017-10-04",
          "2017-10-05",
          "2017-10-06",
          "2017-10-09",
          "2017-10-10",
          "2017-10-11",
          "2017-10-12",
          "2017-10-13",
          "2017-10-16",
          "2017-10-17",
          "2017-10-18",
          "2017-10-19",
          "2017-10-20",
          "2017-10-23",
          "2017-10-24",
          "2017-10-25",
          "2017-10-26",
          "2017-10-27",
          "2017-10-30",
          "2017-10-31",
          "2017-11-01",
          "2017-11-02",
          "2017-11-03",
          "2017-11-06",
          "2017-11-07",
          "2017-11-08",
          "2017-11-09",
          "2017-11-10",
          "2017-11-13",
          "2017-11-14",
          "2017-11-15",
          "2017-11-16",
          "2017-11-17",
          "2017-11-20",
          "2017-11-21",
          "2017-11-22",
          "2017-11-24",
          "2017-11-27",
          "2017-11-28",
          "2017-11-29",
          "2017-11-30",
          "2017-12-01",
          "2017-12-04",
          "2017-12-05",
          "2017-12-06",
          "2017-12-07",
          "2017-12-08",
          "2017-12-11",
          "2017-12-12",
          "2017-12-13",
          "2017-12-14",
          "2017-12-15",
          "2017-12-18",
          "2017-12-19",
          "2017-12-20",
          "2017-12-21",
          "2017-12-22",
          "2017-12-26",
          "2017-12-27",
          "2017-12-28",
          "2017-12-29"
         ],
         "y": [
          100,
          100.59488865583587,
          100.5184171969578,
          100.90310552427646,
          100.54552959936561,
          100.54599354281248,
          100.83983948009364,
          100.62593891969524,
          100.8117991907921,
          100.51262356171873,
          100.70658586959522,
          100.34483445366247,
          100.68573104587337,
          100.41760568065936,
          101.07715221101867,
          101.8884874583639,
          101.81572754706083,
          101.73276087992646,
          101.12604732404209,
          101.03659676434525,
          101.08966736839055,
          101.15339735602025,
          101.8973023838546,
          101.68223630699207,
          101.71005028241709,
          101.81294388637959,
          102.41756403890608,
          102.78882063765293,
          103.35451480341698,
          103.79830499959037,
          104.33155707115445,
          104.25206432202474,
          104.42912098332474,
          105.06085353825905,
          104.95680573352628,
          105.01288631212937,
          105.19503503565122,
          105.31692768954805,
          105.04857601045752,
          106.5039326562324,
          105.88841549055117,
          105.94473369872463,
          105.59989924506216,
          105.29932046995434,
          105.08913145713095,
          105.17440652580589,
          105.52016886636211,
          105.59340403680588,
          105.24161043144025,
          106.1264184787996,
          105.95771279954337,
          105.81889186768242,
          105.60916679830589,
          104.30814490062784,
          104.5090663602075,
          104.3994512341122,
          104.31115487518564,
          104.205013667095,
          104.96143385230124,
          105.0967695504637,
          105.40847165260277,
          105.17093260780122,
          105.00338112931529,
          105.07916233086998,
          104.76885205907153,
          105.00222692854501,
          104.91578634340597,
          104.9938759465012,
          104.85807630489185,
          104.46526330940593,
          103.75403800534191,
          104.64811360594499,
          104.34708220308411,
          104.18254069915598,
          104.97255717933247,
          104.65390724118406,
          105.79016132105747,
          106.434646662934,
          106.3841220899996,
          106.45387202674488,
          106.25109479337769,
          106.43556323413392,
          106.56210663819337,
          106.4480783915058,
          106.51575755628086,
          106.9525886007511,
          106.96742347535736,
          106.86267409760737,
          107.02443194085423,
          106.8274483427261,
          106.67148413471833,
          107.19406550700418,
          107.14192278985264,
          105.22585898563406,
          105.61588832043873,
          106.3329072597418,
          106.88376655089957,
          107.0826059228152,
          107.3530510052636,
          107.84480842756665,
          107.8925493398198,
          107.77922266614945,
          107.7463166285026,
          108.57527041113538,
          108.97967067709943,
          108.85081887149943,
          108.54862195217446,
          108.74166768885101,
          108.77364583960411,
          108.68373133646038,
          108.58523953739633,
          109.1029551613369,
          109.00214364503846,
          108.77804764450254,
          108.80979948137912,
          109.71940021391187,
          108.98569062621502,
          108.93192976484632,
          108.88326096569942,
          109.05313216141974,
          109.08882185974787,
          108.2081893034104,
          109.1829118539135,
          108.24735291974321,
          108.41884225968069,
          108.67955584543849,
          108.85869459440254,
          107.87795209478388,
          108.56994071934318,
          108.6712161790885,
          108.58755925463073,
          109.39031720605561,
          109.59819781733844,
          110.11221320939781,
          110.10989349216342,
          110.17802528469154,
          110.78009940610714,
          110.77059422329303,
          110.72957483317272,
          110.61440370140872,
          110.93745544445557,
          110.96920728133213,
          110.87302388380864,
          110.72842063240245,
          110.64823762594933,
          110.9196105952915,
          110.99539179684619,
          110.77407945699153,
          110.98542267058522,
          111.17128294168208,
          110.91613667728681,
          110.88878664530868,
          109.32357724386814,
          109.4702738986322,
          110.5757040285228,
          110.54603427931025,
          110.73444058151803,
          109.02995762046348,
          108.83274770845884,
          108.96251608525877,
          110.04963742253841,
          109.67953502456184,
          109.4540471936853,
          109.64941264759625,
          109.70758662955721,
          109.81534598186502,
          110.35068014109312,
          110.9870521304962,
          111.21439573516025,
          110.37454493937278,
          110.72077122337586,
          110.72633854473841,
          110.56619884570871,
          111.76617159751797,
          112.14878915286641,
          112.23522973800549,
          112.14832520941955,
          112.36963754927419,
          112.53742665733046,
          112.6634948022492,
          112.73510051278197,
          112.39536943703519,
          112.470686695143,
          112.22063249296956,
          112.23754945523987,
          112.69617452601955,
          112.85561265203201,
          113.2764659368195,
          113.71561669852413,
          113.96613484414442,
          114.11584147346628,
          114.78002743829438,
          114.6928852801381,
          114.48594387144286,
          114.75499712355064,
          114.96403193560374,
          114.78002743829438,
          114.88245709881,
          115.08592458950058,
          115.16309762139589,
          115.2534760679865,
          115.30075303679274,
          115.8984253533099,
          115.44096579899434,
          115.63076393154277,
          115.09149191086311,
          115.2377246221803,
          116.16818017843491,
          115.80665507637866,
          115.91974412047865,
          116.10422387692871,
          116.13874805879271,
          116.50977834366304,
          116.66758700976455,
          116.64626824259581,
          116.81684101133334,
          116.40594553711298,
          116.34338106594741,
          116.46040797149892,
          116.20942588243174,
          115.593682402874,
          116.57906433696144,
          116.2771050472068,
          116.42912007806923,
          117.19249941497863,
          117.11486243963643,
          117.36120509423485,
          117.32922694348173,
          118.4893458216348,
          118.46084158888637,
          119.47495406959877,
          119.23787896824409,
          119.11505842745352,
          118.6749684631613,
          118.66430907957695,
          119.03301964721287,
          119.70090584392219,
          120.08467760004092,
          120.27493967603621,
          120.22210670156126,
          119.75328619064409,
          120.83437626311434,
          121.48742758521736,
          121.09694562265962,
          121.01258712518461,
          121.25290983066743,
          121.1979834528346,
          121.07561553979707,
          121.17990097410018,
          121.42508942792831,
          120.80331468356115
         ]
        },
        {
         "line": {
          "color": "rgba(55, 128, 191, 1.0)",
          "dash": "solid",
          "shape": "linear",
          "width": 1.3
         },
         "mode": "lines",
         "name": "p1",
         "text": "",
         "type": "scatter",
         "x": [
          "2017-01-03",
          "2017-01-04",
          "2017-01-05",
          "2017-01-06",
          "2017-01-09",
          "2017-01-10",
          "2017-01-11",
          "2017-01-12",
          "2017-01-13",
          "2017-01-17",
          "2017-01-18",
          "2017-01-19",
          "2017-01-20",
          "2017-01-23",
          "2017-01-24",
          "2017-01-25",
          "2017-01-26",
          "2017-01-27",
          "2017-01-30",
          "2017-01-31",
          "2017-02-01",
          "2017-02-02",
          "2017-02-03",
          "2017-02-06",
          "2017-02-07",
          "2017-02-08",
          "2017-02-09",
          "2017-02-10",
          "2017-02-13",
          "2017-02-14",
          "2017-02-15",
          "2017-02-16",
          "2017-02-17",
          "2017-02-21",
          "2017-02-22",
          "2017-02-23",
          "2017-02-24",
          "2017-02-27",
          "2017-02-28",
          "2017-03-01",
          "2017-03-02",
          "2017-03-03",
          "2017-03-06",
          "2017-03-07",
          "2017-03-08",
          "2017-03-09",
          "2017-03-10",
          "2017-03-13",
          "2017-03-14",
          "2017-03-15",
          "2017-03-16",
          "2017-03-17",
          "2017-03-20",
          "2017-03-21",
          "2017-03-22",
          "2017-03-23",
          "2017-03-24",
          "2017-03-27",
          "2017-03-28",
          "2017-03-29",
          "2017-03-30",
          "2017-03-31",
          "2017-04-03",
          "2017-04-04",
          "2017-04-05",
          "2017-04-06",
          "2017-04-07",
          "2017-04-10",
          "2017-04-11",
          "2017-04-12",
          "2017-04-13",
          "2017-04-17",
          "2017-04-18",
          "2017-04-19",
          "2017-04-20",
          "2017-04-21",
          "2017-04-24",
          "2017-04-25",
          "2017-04-26",
          "2017-04-27",
          "2017-04-28",
          "2017-05-01",
          "2017-05-02",
          "2017-05-03",
          "2017-05-04",
          "2017-05-05",
          "2017-05-08",
          "2017-05-09",
          "2017-05-10",
          "2017-05-11",
          "2017-05-12",
          "2017-05-15",
          "2017-05-16",
          "2017-05-17",
          "2017-05-18",
          "2017-05-19",
          "2017-05-22",
          "2017-05-23",
          "2017-05-24",
          "2017-05-25",
          "2017-05-26",
          "2017-05-30",
          "2017-05-31",
          "2017-06-01",
          "2017-06-02",
          "2017-06-05",
          "2017-06-06",
          "2017-06-07",
          "2017-06-08",
          "2017-06-09",
          "2017-06-12",
          "2017-06-13",
          "2017-06-14",
          "2017-06-15",
          "2017-06-16",
          "2017-06-19",
          "2017-06-20",
          "2017-06-21",
          "2017-06-22",
          "2017-06-23",
          "2017-06-26",
          "2017-06-27",
          "2017-06-28",
          "2017-06-29",
          "2017-06-30",
          "2017-07-03",
          "2017-07-05",
          "2017-07-06",
          "2017-07-07",
          "2017-07-10",
          "2017-07-11",
          "2017-07-12",
          "2017-07-13",
          "2017-07-14",
          "2017-07-17",
          "2017-07-18",
          "2017-07-19",
          "2017-07-20",
          "2017-07-21",
          "2017-07-24",
          "2017-07-25",
          "2017-07-26",
          "2017-07-27",
          "2017-07-28",
          "2017-07-31",
          "2017-08-01",
          "2017-08-02",
          "2017-08-03",
          "2017-08-04",
          "2017-08-07",
          "2017-08-08",
          "2017-08-09",
          "2017-08-10",
          "2017-08-11",
          "2017-08-14",
          "2017-08-15",
          "2017-08-16",
          "2017-08-17",
          "2017-08-18",
          "2017-08-21",
          "2017-08-22",
          "2017-08-23",
          "2017-08-24",
          "2017-08-25",
          "2017-08-28",
          "2017-08-29",
          "2017-08-30",
          "2017-08-31",
          "2017-09-01",
          "2017-09-05",
          "2017-09-06",
          "2017-09-07",
          "2017-09-08",
          "2017-09-11",
          "2017-09-12",
          "2017-09-13",
          "2017-09-14",
          "2017-09-15",
          "2017-09-18",
          "2017-09-19",
          "2017-09-20",
          "2017-09-21",
          "2017-09-22",
          "2017-09-25",
          "2017-09-26",
          "2017-09-27",
          "2017-09-28",
          "2017-09-29",
          "2017-10-02",
          "2017-10-03",
          "2017-10-04",
          "2017-10-05",
          "2017-10-06",
          "2017-10-09",
          "2017-10-10",
          "2017-10-11",
          "2017-10-12",
          "2017-10-13",
          "2017-10-16",
          "2017-10-17",
          "2017-10-18",
          "2017-10-19",
          "2017-10-20",
          "2017-10-23",
          "2017-10-24",
          "2017-10-25",
          "2017-10-26",
          "2017-10-27",
          "2017-10-30",
          "2017-10-31",
          "2017-11-01",
          "2017-11-02",
          "2017-11-03",
          "2017-11-06",
          "2017-11-07",
          "2017-11-08",
          "2017-11-09",
          "2017-11-10",
          "2017-11-13",
          "2017-11-14",
          "2017-11-15",
          "2017-11-16",
          "2017-11-17",
          "2017-11-20",
          "2017-11-21",
          "2017-11-22",
          "2017-11-24",
          "2017-11-27",
          "2017-11-28",
          "2017-11-29",
          "2017-11-30",
          "2017-12-01",
          "2017-12-04",
          "2017-12-05",
          "2017-12-06",
          "2017-12-07",
          "2017-12-08",
          "2017-12-11",
          "2017-12-12",
          "2017-12-13",
          "2017-12-14",
          "2017-12-15",
          "2017-12-18",
          "2017-12-19",
          "2017-12-20",
          "2017-12-21",
          "2017-12-22",
          "2017-12-26",
          "2017-12-27",
          "2017-12-28",
          "2017-12-29"
         ],
         "y": [
          100,
          100.4349467789376,
          100.20480479688298,
          100.86552050858373,
          100.87658811852084,
          101.47739021589605,
          102.1570012140329,
          101.48263783770723,
          101.60348041881018,
          100.36810082062695,
          101.2073636705626,
          100.89261547631159,
          101.35286540784271,
          101.37465348170458,
          102.21838429447271,
          103.47313701136656,
          103.90818042442771,
          104.59699838089772,
          103.55233054401187,
          102.75765462106712,
          104.68129758739633,
          104.14825290900083,
          105.42107135969762,
          105.49550334665653,
          105.4140071909326,
          105.17214905961832,
          106.49525683489607,
          106.31764084052746,
          107.51182328444145,
          109.11555314921502,
          110.00468886457789,
          109.9532083100257,
          110.02468875420253,
          110.62216570266192,
          110.68545927376317,
          110.34691175531346,
          109.86656747340345,
          110.23841795780002,
          110.28450081012278,
          112.93417669728257,
          111.79589310459636,
          112.47249129272478,
          112.07441623869718,
          112.13661713518508,
          112.37709782074951,
          112.2791051901969,
          112.45949746340564,
          112.34405870083373,
          112.15245251617849,
          112.55059322737135,
          112.61728449079777,
          112.00454136715499,
          111.83710062380432,
          108.87702860542092,
          109.65313292075267,
          109.6161870337286,
          109.66865014182237,
          109.66857334868887,
          111.27982095123461,
          111.27557810423656,
          112.12111363687782,
          111.70816082536597,
          111.5535720522377,
          111.73582756148379,
          111.02787099784808,
          111.14877562720046,
          110.88133781987406,
          110.544184675361,
          109.92512408117217,
          109.4394622718066,
          108.61320555223661,
          109.81952186384667,
          109.44131527202805,
          109.1483865199626,
          110.39191429418165,
          110.29095830259588,
          112.65666883150018,
          113.64161060886155,
          113.21481779168036,
          113.12613447144851,
          112.72756907861299,
          114.48185363847843,
          114.57222180452521,
          114.68081682503923,
          114.50205997939011,
          115.14104323603856,
          116.60270317826867,
          116.96844824871235,
          117.15500019489579,
          116.96280685348148,
          117.43831492180139,
          117.43838726249413,
          118.00628895485615,
          113.34805047360368,
          114.38704327819748,
          114.98681415030083,
          115.65073955963506,
          116.23912004550097,
          116.10997278832549,
          116.55822444244777,
          116.65139119319392,
          116.42156452068797,
          115.21819428810586,
          115.80743303577722,
          117.09109012661507,
          116.87186189566219,
          116.88370564844932,
          117.63080699352908,
          117.83458164398806,
          116.25890096834188,
          115.10130679081627,
          115.8939293300878,
          115.26037685584625,
          114.4816045933232,
          113.78710770984166,
          116.1485783988931,
          114.62093439335649,
          114.52784687007312,
          114.15523387773068,
          114.69157151500018,
          114.2961764882909,
          113.5456495666011,
          115.37965010845619,
          114.70647563128311,
          114.95268012960844,
          115.01790396442615,
          116.03644602883068,
          115.05531513370578,
          116.13330164665815,
          116.75757616107718,
          116.46720805146455,
          116.78095678477563,
          118.10464170694442,
          118.40609121820876,
          118.58089672112536,
          118.52577939462046,
          119.33787114133783,
          119.15641650117009,
          118.6959650310361,
          119.28408957938015,
          120.63887062258418,
          120.36978783307116,
          118.90192341081791,
          118.41134376389321,
          118.13925502062447,
          118.94795822380058,
          121.03590389642645,
          120.19468234365324,
          121.61098593988274,
          122.14558632927293,
          122.634002749677,
          122.50694389000334,
          119.52780551548983,
          120.35575176457624,
          122.46560006250145,
          123.05935269107752,
          122.68659549634266,
          120.29260098611098,
          120.20699837124337,
          119.58117662190124,
          121.54515872251824,
          121.26064107926791,
          121.15719954159823,
          121.29482804760544,
          121.69360862688808,
          122.02276273135193,
          123.28433100740386,
          123.91490189821496,
          123.77902649050971,
          121.8605481779478,
          121.84701141797048,
          121.50900258825195,
          120.4300766678327,
          122.38994718753932,
          123.04359830993666,
          123.54786398526258,
          122.77670372284328,
          123.74368489805659,
          123.78973127761546,
          124.19830544445745,
          123.45382759150156,
          122.4292464267611,
          121.89226452622842,
          120.49074235386988,
          121.31809520773962,
          122.85238648959051,
          122.64706308512892,
          123.06242987815472,
          123.45640195696004,
          123.82061169531352,
          123.53856177589692,
          125.41558082229865,
          125.5254058920529,
          125.30069802777035,
          125.43785345249299,
          125.54749635104908,
          125.1982971209839,
          126.25509155071828,
          127.79506096982422,
          127.87411848413777,
          128.09768460750925,
          127.31158194653818,
          128.76061121784372,
          128.73324431716046,
          129.79788813609153,
          129.39796714041168,
          129.92356582679008,
          134.38829756700744,
          135.19869833821173,
          135.1738169122123,
          134.758644923021,
          136.09332212236666,
          137.34279369321837,
          137.92531826953612,
          137.12662849319125,
          137.1156373478346,
          136.30742584015942,
          136.04902753976538,
          135.71279627673644,
          134.77145729209846,
          134.5815763083736,
          135.2455139932232,
          134.32335074897816,
          134.52414473316125,
          136.07864764914376,
          136.17243847191514,
          136.15227054204135,
          136.22784249779107,
          138.0517312751906,
          137.12406846174662,
          138.28214534860737,
          137.99267309474982,
          137.3392858758036,
          137.37496466521054,
          137.40343164380536,
          137.5463195190512,
          138.87606898762456,
          140.25569650342035,
          140.7345265480832,
          140.0541126825112,
          139.51481130506548,
          141.6672318358799,
          142.78698306484515,
          141.8941820947063,
          141.7150599833746,
          142.4076118642323,
          142.50321874639135,
          140.998339982336,
          141.10074736181943,
          141.3513604418118,
          140.29308245116695
         ]
        },
        {
         "line": {
          "color": "rgba(50, 171, 96, 1.0)",
          "dash": "solid",
          "shape": "linear",
          "width": 1.3
         },
         "mode": "lines",
         "name": "p2",
         "text": "",
         "type": "scatter",
         "x": [
          "2017-01-03",
          "2017-01-04",
          "2017-01-05",
          "2017-01-06",
          "2017-01-09",
          "2017-01-10",
          "2017-01-11",
          "2017-01-12",
          "2017-01-13",
          "2017-01-17",
          "2017-01-18",
          "2017-01-19",
          "2017-01-20",
          "2017-01-23",
          "2017-01-24",
          "2017-01-25",
          "2017-01-26",
          "2017-01-27",
          "2017-01-30",
          "2017-01-31",
          "2017-02-01",
          "2017-02-02",
          "2017-02-03",
          "2017-02-06",
          "2017-02-07",
          "2017-02-08",
          "2017-02-09",
          "2017-02-10",
          "2017-02-13",
          "2017-02-14",
          "2017-02-15",
          "2017-02-16",
          "2017-02-17",
          "2017-02-21",
          "2017-02-22",
          "2017-02-23",
          "2017-02-24",
          "2017-02-27",
          "2017-02-28",
          "2017-03-01",
          "2017-03-02",
          "2017-03-03",
          "2017-03-06",
          "2017-03-07",
          "2017-03-08",
          "2017-03-09",
          "2017-03-10",
          "2017-03-13",
          "2017-03-14",
          "2017-03-15",
          "2017-03-16",
          "2017-03-17",
          "2017-03-20",
          "2017-03-21",
          "2017-03-22",
          "2017-03-23",
          "2017-03-24",
          "2017-03-27",
          "2017-03-28",
          "2017-03-29",
          "2017-03-30",
          "2017-03-31",
          "2017-04-03",
          "2017-04-04",
          "2017-04-05",
          "2017-04-06",
          "2017-04-07",
          "2017-04-10",
          "2017-04-11",
          "2017-04-12",
          "2017-04-13",
          "2017-04-17",
          "2017-04-18",
          "2017-04-19",
          "2017-04-20",
          "2017-04-21",
          "2017-04-24",
          "2017-04-25",
          "2017-04-26",
          "2017-04-27",
          "2017-04-28",
          "2017-05-01",
          "2017-05-02",
          "2017-05-03",
          "2017-05-04",
          "2017-05-05",
          "2017-05-08",
          "2017-05-09",
          "2017-05-10",
          "2017-05-11",
          "2017-05-12",
          "2017-05-15",
          "2017-05-16",
          "2017-05-17",
          "2017-05-18",
          "2017-05-19",
          "2017-05-22",
          "2017-05-23",
          "2017-05-24",
          "2017-05-25",
          "2017-05-26",
          "2017-05-30",
          "2017-05-31",
          "2017-06-01",
          "2017-06-02",
          "2017-06-05",
          "2017-06-06",
          "2017-06-07",
          "2017-06-08",
          "2017-06-09",
          "2017-06-12",
          "2017-06-13",
          "2017-06-14",
          "2017-06-15",
          "2017-06-16",
          "2017-06-19",
          "2017-06-20",
          "2017-06-21",
          "2017-06-22",
          "2017-06-23",
          "2017-06-26",
          "2017-06-27",
          "2017-06-28",
          "2017-06-29",
          "2017-06-30",
          "2017-07-03",
          "2017-07-05",
          "2017-07-06",
          "2017-07-07",
          "2017-07-10",
          "2017-07-11",
          "2017-07-12",
          "2017-07-13",
          "2017-07-14",
          "2017-07-17",
          "2017-07-18",
          "2017-07-19",
          "2017-07-20",
          "2017-07-21",
          "2017-07-24",
          "2017-07-25",
          "2017-07-26",
          "2017-07-27",
          "2017-07-28",
          "2017-07-31",
          "2017-08-01",
          "2017-08-02",
          "2017-08-03",
          "2017-08-04",
          "2017-08-07",
          "2017-08-08",
          "2017-08-09",
          "2017-08-10",
          "2017-08-11",
          "2017-08-14",
          "2017-08-15",
          "2017-08-16",
          "2017-08-17",
          "2017-08-18",
          "2017-08-21",
          "2017-08-22",
          "2017-08-23",
          "2017-08-24",
          "2017-08-25",
          "2017-08-28",
          "2017-08-29",
          "2017-08-30",
          "2017-08-31",
          "2017-09-01",
          "2017-09-05",
          "2017-09-06",
          "2017-09-07",
          "2017-09-08",
          "2017-09-11",
          "2017-09-12",
          "2017-09-13",
          "2017-09-14",
          "2017-09-15",
          "2017-09-18",
          "2017-09-19",
          "2017-09-20",
          "2017-09-21",
          "2017-09-22",
          "2017-09-25",
          "2017-09-26",
          "2017-09-27",
          "2017-09-28",
          "2017-09-29",
          "2017-10-02",
          "2017-10-03",
          "2017-10-04",
          "2017-10-05",
          "2017-10-06",
          "2017-10-09",
          "2017-10-10",
          "2017-10-11",
          "2017-10-12",
          "2017-10-13",
          "2017-10-16",
          "2017-10-17",
          "2017-10-18",
          "2017-10-19",
          "2017-10-20",
          "2017-10-23",
          "2017-10-24",
          "2017-10-25",
          "2017-10-26",
          "2017-10-27",
          "2017-10-30",
          "2017-10-31",
          "2017-11-01",
          "2017-11-02",
          "2017-11-03",
          "2017-11-06",
          "2017-11-07",
          "2017-11-08",
          "2017-11-09",
          "2017-11-10",
          "2017-11-13",
          "2017-11-14",
          "2017-11-15",
          "2017-11-16",
          "2017-11-17",
          "2017-11-20",
          "2017-11-21",
          "2017-11-22",
          "2017-11-24",
          "2017-11-27",
          "2017-11-28",
          "2017-11-29",
          "2017-11-30",
          "2017-12-01",
          "2017-12-04",
          "2017-12-05",
          "2017-12-06",
          "2017-12-07",
          "2017-12-08",
          "2017-12-11",
          "2017-12-12",
          "2017-12-13",
          "2017-12-14",
          "2017-12-15",
          "2017-12-18",
          "2017-12-19",
          "2017-12-20",
          "2017-12-21",
          "2017-12-22",
          "2017-12-26",
          "2017-12-27",
          "2017-12-28",
          "2017-12-29"
         ],
         "y": [
          100,
          102.35259166037723,
          102.75013353850373,
          104.04238496415678,
          104.59725246534943,
          104.15404937716394,
          104.32022759049903,
          104.18938600945027,
          106.1663339188591,
          105.4583318498445,
          106.19177424177741,
          107.18833912641097,
          107.59280143549113,
          109.46715403288904,
          111.06829940724143,
          111.78654166222586,
          111.1110303562227,
          110.65017555708879,
          108.780587254298,
          108.72841702849514,
          108.03893354606733,
          108.7515283527583,
          108.88909363724211,
          110.36349204217326,
          110.65474888665415,
          111.80438076964157,
          113.52006501367566,
          113.78838037783945,
          116.76257864776049,
          116.92710110811402,
          116.55248507413889,
          114.39104488709089,
          115.39552539448002,
          116.81284974629081,
          115.86155884429598,
          111.86075911313473,
          111.9223981892787,
          109.48142223296529,
          109.96175982486078,
          110.73380116420583,
          110.54659102500403,
          110.69917516753472,
          110.53354020158493,
          110.19249565206393,
          110.01622773030533,
          109.77281163065062,
          109.78466007174062,
          110.50176093612896,
          113.23278259873423,
          112.81020814019848,
          114.3669866749879,
          114.45268371819728,
          114.31286825193314,
          110.58186415732317,
          111.52427304141153,
          110.70741673169894,
          112.43803482511888,
          114.3879360478652,
          116.14359090124644,
          116.79464276700328,
          116.92480030926053,
          116.8889681941903,
          122.11994971827988,
          123.06042409738805,
          120.85473647434748,
          121.48280042222162,
          122.16346945621109,
          124.43697661144539,
          123.5012350095308,
          120.82778298202976,
          122.4292913326436,
          122.70502392677403,
          122.40855807369341,
          123.71130476130293,
          123.23651990872693,
          124.04647895664635,
          125.85110057602411,
          127.78511364187838,
          126.91472141615607,
          126.7201424284472,
          129.9904746491634,
          132.42940365477415,
          131.7676732575831,
          130.6283983784042,
          127.33682082452846,
          130.01889248598323,
          130.2076227740903,
          133.31423690705063,
          134.01111186450834,
          133.63836327285222,
          134.1354234387776,
          132.3868348600553,
          133.02373881290453,
          129.0250839956625,
          131.30199494262698,
          131.02792427160622,
          131.41659797581607,
          130.36380324551087,
          132.21982879651068,
          134.67024997971583,
          136.70784239032488,
          139.28336356165153,
          139.9442840796124,
          139.9297381570178,
          140.360073622922,
          142.5952557922129,
          143.4172991583493,
          145.2621287896371,
          147.80412749980695,
          142.74658656352065,
          142.69524526992558,
          147.2664713892998,
          148.18386291068654,
          146.42056146457745,
          145.3517741931173,
          146.1018474901713,
          146.23540973273643,
          147.75494931121304,
          149.0357892675226,
          149.7699689227545,
          147.54945092013273,
          142.47918902549927,
          145.36006015758912,
          141.4991364409429,
          141.12106579976432,
          138.41161901281095,
          133.3563212321615,
          128.82946913025623,
          130.5979040173621,
          131.89937762311138,
          134.55528091934892,
          135.95914594253583,
          134.76304190996342,
          136.3316054850756,
          134.2763579000242,
          137.0360952511076,
          136.6986060002988,
          137.59812042912802,
          137.55124781414,
          141.27678166985734,
          138.7187822578283,
          139.51364296728585,
          136.47796587822677,
          137.09172730865737,
          133.71726089330545,
          132.83959311262086,
          134.26789807959426,
          138.7242352825568,
          141.26113804087151,
          140.94924049910512,
          143.10155519475563,
          142.46472732716754,
          139.59536007436782,
          140.61926614387949,
          142.51230856553684,
          142.14496137375812,
          142.58008829543326,
          139.0313548157419,
          137.98393621552628,
          135.51680711170323,
          137.46774055025298,
          140.24611445440644,
          139.91918234088538,
          138.45189027965063,
          137.76888428470184,
          138.63634415957037,
          140.50404704901825,
          141.75155949036494,
          141.509779647232,
          139.60558703320604,
          138.3989291284397,
          140.31763263163478,
          138.05522901114546,
          142.89465551570274,
          142.86822418053467,
          143.86218594835546,
          145.8565905233188,
          146.0500479828315,
          146.9095034976986,
          145.061422642003,
          145.4086077244184,
          143.7518823358254,
          139.95631431138165,
          138.06988410853265,
          138.3772092818295,
          138.63949466748983,
          138.64245919929738,
          139.59931058285775,
          139.32695886718574,
          141.13755210574763,
          142.3319665114088,
          143.56834191002088,
          144.49346995338644,
          141.16113135487518,
          143.79616082413594,
          144.62701518606798,
          144.78555786653317,
          144.87787641789095,
          143.8802189784098,
          145.07835604935508,
          146.01708305325488,
          143.67883811222868,
          142.37119305137162,
          139.25321464932918,
          139.45987825285505,
          136.98743841028562,
          137.01450801021983,
          138.7640956160585,
          138.44467533142682,
          141.05315747876102,
          139.20872157845247,
          134.18593093801803,
          136.19858772365663,
          135.01738262790255,
          136.24342880404976,
          136.27561453749703,
          135.4066752463007,
          135.20378114238025,
          137.91580770024373,
          136.3878624869849,
          136.66322740764363,
          137.67688840145564,
          137.4115704602308,
          135.91242825726675,
          139.02701366069698,
          137.9199924395222,
          138.89549342658665,
          140.050815941146,
          139.78884018306007,
          135.84453426444787,
          136.1304904472421,
          134.88101717083163,
          133.8437693065485,
          133.90963759061844,
          136.95395538220905,
          137.2866986286926,
          138.57229998045554,
          142.00514419546354,
          144.75846555760788,
          144.30588339661406,
          144.58636486924394,
          146.82409662826944,
          146.59239383076857,
          144.3911255187555,
          143.5381794630699,
          144.071766644315,
          142.3599774952428,
          140.32233732003226,
          138.55168974028777,
          139.3306362295096,
          138.29596863213675
         ]
        },
        {
         "line": {
          "color": "rgba(128, 0, 128, 1.0)",
          "dash": "solid",
          "shape": "linear",
          "width": 1.3
         },
         "mode": "lines",
         "name": "p3",
         "text": "",
         "type": "scatter",
         "x": [
          "2017-01-03",
          "2017-01-04",
          "2017-01-05",
          "2017-01-06",
          "2017-01-09",
          "2017-01-10",
          "2017-01-11",
          "2017-01-12",
          "2017-01-13",
          "2017-01-17",
          "2017-01-18",
          "2017-01-19",
          "2017-01-20",
          "2017-01-23",
          "2017-01-24",
          "2017-01-25",
          "2017-01-26",
          "2017-01-27",
          "2017-01-30",
          "2017-01-31",
          "2017-02-01",
          "2017-02-02",
          "2017-02-03",
          "2017-02-06",
          "2017-02-07",
          "2017-02-08",
          "2017-02-09",
          "2017-02-10",
          "2017-02-13",
          "2017-02-14",
          "2017-02-15",
          "2017-02-16",
          "2017-02-17",
          "2017-02-21",
          "2017-02-22",
          "2017-02-23",
          "2017-02-24",
          "2017-02-27",
          "2017-02-28",
          "2017-03-01",
          "2017-03-02",
          "2017-03-03",
          "2017-03-06",
          "2017-03-07",
          "2017-03-08",
          "2017-03-09",
          "2017-03-10",
          "2017-03-13",
          "2017-03-14",
          "2017-03-15",
          "2017-03-16",
          "2017-03-17",
          "2017-03-20",
          "2017-03-21",
          "2017-03-22",
          "2017-03-23",
          "2017-03-24",
          "2017-03-27",
          "2017-03-28",
          "2017-03-29",
          "2017-03-30",
          "2017-03-31",
          "2017-04-03",
          "2017-04-04",
          "2017-04-05",
          "2017-04-06",
          "2017-04-07",
          "2017-04-10",
          "2017-04-11",
          "2017-04-12",
          "2017-04-13",
          "2017-04-17",
          "2017-04-18",
          "2017-04-19",
          "2017-04-20",
          "2017-04-21",
          "2017-04-24",
          "2017-04-25",
          "2017-04-26",
          "2017-04-27",
          "2017-04-28",
          "2017-05-01",
          "2017-05-02",
          "2017-05-03",
          "2017-05-04",
          "2017-05-05",
          "2017-05-08",
          "2017-05-09",
          "2017-05-10",
          "2017-05-11",
          "2017-05-12",
          "2017-05-15",
          "2017-05-16",
          "2017-05-17",
          "2017-05-18",
          "2017-05-19",
          "2017-05-22",
          "2017-05-23",
          "2017-05-24",
          "2017-05-25",
          "2017-05-26",
          "2017-05-30",
          "2017-05-31",
          "2017-06-01",
          "2017-06-02",
          "2017-06-05",
          "2017-06-06",
          "2017-06-07",
          "2017-06-08",
          "2017-06-09",
          "2017-06-12",
          "2017-06-13",
          "2017-06-14",
          "2017-06-15",
          "2017-06-16",
          "2017-06-19",
          "2017-06-20",
          "2017-06-21",
          "2017-06-22",
          "2017-06-23",
          "2017-06-26",
          "2017-06-27",
          "2017-06-28",
          "2017-06-29",
          "2017-06-30",
          "2017-07-03",
          "2017-07-05",
          "2017-07-06",
          "2017-07-07",
          "2017-07-10",
          "2017-07-11",
          "2017-07-12",
          "2017-07-13",
          "2017-07-14",
          "2017-07-17",
          "2017-07-18",
          "2017-07-19",
          "2017-07-20",
          "2017-07-21",
          "2017-07-24",
          "2017-07-25",
          "2017-07-26",
          "2017-07-27",
          "2017-07-28",
          "2017-07-31",
          "2017-08-01",
          "2017-08-02",
          "2017-08-03",
          "2017-08-04",
          "2017-08-07",
          "2017-08-08",
          "2017-08-09",
          "2017-08-10",
          "2017-08-11",
          "2017-08-14",
          "2017-08-15",
          "2017-08-16",
          "2017-08-17",
          "2017-08-18",
          "2017-08-21",
          "2017-08-22",
          "2017-08-23",
          "2017-08-24",
          "2017-08-25",
          "2017-08-28",
          "2017-08-29",
          "2017-08-30",
          "2017-08-31",
          "2017-09-01",
          "2017-09-05",
          "2017-09-06",
          "2017-09-07",
          "2017-09-08",
          "2017-09-11",
          "2017-09-12",
          "2017-09-13",
          "2017-09-14",
          "2017-09-15",
          "2017-09-18",
          "2017-09-19",
          "2017-09-20",
          "2017-09-21",
          "2017-09-22",
          "2017-09-25",
          "2017-09-26",
          "2017-09-27",
          "2017-09-28",
          "2017-09-29",
          "2017-10-02",
          "2017-10-03",
          "2017-10-04",
          "2017-10-05",
          "2017-10-06",
          "2017-10-09",
          "2017-10-10",
          "2017-10-11",
          "2017-10-12",
          "2017-10-13",
          "2017-10-16",
          "2017-10-17",
          "2017-10-18",
          "2017-10-19",
          "2017-10-20",
          "2017-10-23",
          "2017-10-24",
          "2017-10-25",
          "2017-10-26",
          "2017-10-27",
          "2017-10-30",
          "2017-10-31",
          "2017-11-01",
          "2017-11-02",
          "2017-11-03",
          "2017-11-06",
          "2017-11-07",
          "2017-11-08",
          "2017-11-09",
          "2017-11-10",
          "2017-11-13",
          "2017-11-14",
          "2017-11-15",
          "2017-11-16",
          "2017-11-17",
          "2017-11-20",
          "2017-11-21",
          "2017-11-22",
          "2017-11-24",
          "2017-11-27",
          "2017-11-28",
          "2017-11-29",
          "2017-11-30",
          "2017-12-01",
          "2017-12-04",
          "2017-12-05",
          "2017-12-06",
          "2017-12-07",
          "2017-12-08",
          "2017-12-11",
          "2017-12-12",
          "2017-12-13",
          "2017-12-14",
          "2017-12-15",
          "2017-12-18",
          "2017-12-19",
          "2017-12-20",
          "2017-12-21",
          "2017-12-22",
          "2017-12-26",
          "2017-12-27",
          "2017-12-28",
          "2017-12-29"
         ],
         "y": [
          100,
          100.2179907149353,
          100.47960014641006,
          100.74356505123947,
          101.0511624525446,
          100.38500080550492,
          101.28036978725778,
          101.33434007712015,
          101.69044473171863,
          101.82932588645492,
          101.45670966982556,
          100.86130183056925,
          101.67525816265692,
          101.76742588411267,
          102.5362108432788,
          103.08429664261796,
          102.95654934946452,
          103.1843129674592,
          102.39980171764205,
          101.63928059683285,
          101.64146949430713,
          101.5315043365828,
          102.0187344733761,
          101.78868275060165,
          101.7333691899174,
          102.10551089987322,
          101.86580867401634,
          102.15802447040853,
          102.82929183398115,
          103.14175117615633,
          103.28020491357329,
          103.60608666757831,
          103.72504519101209,
          104.01496842186214,
          104.05687018444023,
          104.33303301091324,
          104.58850210250026,
          104.61712781015584,
          104.22040031220374,
          105.02835197959102,
          104.16852776956058,
          104.49388825487785,
          104.08799122593395,
          104.22875959609294,
          103.5564002607418,
          103.9605287285636,
          104.36843730362094,
          104.06145230545243,
          103.9059895949261,
          104.5574303816109,
          106.45440125708507,
          106.62060626096807,
          106.54095506252634,
          105.75922461352528,
          105.97322808958873,
          106.02079267299473,
          105.78038575080888,
          106.10413587192657,
          106.54994968084934,
          106.5992759563439,
          106.90862351357393,
          106.5158659739349,
          106.8055764790184,
          106.85477740657699,
          106.75515388732344,
          106.48188381320378,
          106.31146787559862,
          106.39909610518153,
          106.07804853782967,
          106.0316625863027,
          105.18050085590458,
          106.039457512073,
          106.2066534676413,
          106.04516609777028,
          106.58370939218158,
          106.36209166244114,
          108.02889137569885,
          108.60675218113809,
          108.23377094170003,
          108.72040869280552,
          108.83119638487825,
          109.50424354631272,
          110.13142928902397,
          110.29012209937814,
          111.3767294969549,
          111.61394767102499,
          111.49501722934639,
          111.13101830429825,
          110.98447266521777,
          110.7088902134447,
          110.79806643194534,
          110.96967061550036,
          111.09509957624233,
          108.95767167361774,
          108.96364948525235,
          109.4422401861434,
          110.005607158562,
          110.08811237885499,
          110.63339439430978,
          111.0781896458462,
          111.11907842936411,
          110.75079339392128,
          110.45317554565048,
          110.80588961508361,
          111.09990733930859,
          111.42593673103079,
          111.17783698311582,
          110.95657325346957,
          110.77519529364412,
          109.4177941331433,
          109.21054583455852,
          109.93102025016344,
          109.39481031276938,
          109.02044971536387,
          109.73271841531283,
          110.49931106847323,
          109.99511425248636,
          110.11402638801333,
          111.80091557936393,
          112.44019454033207,
          112.11149335556362,
          111.21850193203812,
          112.15096216375568,
          110.28028801391912,
          110.29784510241873,
          109.6185599369069,
          110.12332541548268,
          109.06025434332496,
          110.01799201523652,
          110.55364880223011,
          111.1057581943486,
          112.56860117161871,
          112.68016532489725,
          113.46645231289307,
          113.23189311346955,
          113.80632013391518,
          114.44814595098596,
          114.82703546803694,
          114.31013596285308,
          114.1851202247115,
          114.49730800104435,
          114.96197415021537,
          117.028132784054,
          116.88262747010778,
          116.22734825384042,
          116.80520613504932,
          116.55577342507495,
          116.9198383592455,
          116.83282558138607,
          117.03323399029391,
          116.42792515887118,
          116.32483515337309,
          114.50982444228947,
          114.3297737725768,
          115.48793974593406,
          115.40829454031676,
          115.36213230844956,
          113.66415002281292,
          113.67175100201736,
          113.86214302868711,
          114.32477098006939,
          113.88632698318165,
          113.704716507034,
          113.67472529938615,
          113.63176006671448,
          114.12326974823397,
          114.814056001345,
          115.71371702034634,
          115.99016241980102,
          116.06973300608558,
          117.24052913560215,
          118.0858362382343,
          117.4321798119135,
          118.7948777334297,
          119.0961831645313,
          119.26392008134204,
          119.12354436150284,
          117.23601095806563,
          116.6125162856085,
          117.03076847133612,
          116.53328697710748,
          116.05661211738169,
          115.93893777200653,
          114.8434089646954,
          115.32621267710917,
          116.40396129146353,
          116.97338409212182,
          117.6314919216701,
          118.02185345863461,
          118.48214138948742,
          118.48257996449578,
          119.44662980788816,
          119.14579425221106,
          119.52610737940364,
          119.65777515950235,
          119.7883897371541,
          119.7155449400888,
          120.52669894932339,
          121.002494957207,
          121.557125982294,
          121.91698724577226,
          121.47804439145719,
          121.68329098284975,
          121.25663410325338,
          121.60362370339111,
          120.61234297707395,
          121.01570798691152,
          124.2574066460501,
          124.65624186662336,
          125.77124409169383,
          126.75402315565046,
          125.82976525034528,
          125.42958261455219,
          126.01937107505343,
          125.71221696832609,
          125.4510350859529,
          124.62209941496644,
          124.04856981415031,
          124.15164588334177,
          123.61290459252471,
          122.6810734175673,
          123.3990368452535,
          122.5311553845927,
          122.70089431190927,
          123.30083119587934,
          123.0204993717392,
          124.06121198707854,
          123.80892657675848,
          124.02168430328729,
          121.90828543636043,
          122.99827059565693,
          123.07227586348175,
          121.72413098290744,
          120.51262963803642,
          121.16343279534382,
          121.42309536393499,
          122.05515168989662,
          122.72598633798792,
          122.02143243874552,
          122.11846612046435,
          122.03090818320597,
          122.12884091584128,
          123.02383634132501,
          123.25085727048064,
          123.37628834010968,
          122.69426221427904,
          122.7288012642898,
          122.18264103964951,
          122.58060791705829,
          122.61828039541413,
          122.18133211008431
         ]
        },
        {
         "line": {
          "color": "rgba(219, 64, 82, 1.0)",
          "dash": "solid",
          "shape": "linear",
          "width": 1.3
         },
         "mode": "lines",
         "name": "TechPortfolio",
         "text": "",
         "type": "scatter",
         "x": [
          "2017-01-03",
          "2017-01-04",
          "2017-01-05",
          "2017-01-06",
          "2017-01-09",
          "2017-01-10",
          "2017-01-11",
          "2017-01-12",
          "2017-01-13",
          "2017-01-17",
          "2017-01-18",
          "2017-01-19",
          "2017-01-20",
          "2017-01-23",
          "2017-01-24",
          "2017-01-25",
          "2017-01-26",
          "2017-01-27",
          "2017-01-30",
          "2017-01-31",
          "2017-02-01",
          "2017-02-02",
          "2017-02-03",
          "2017-02-06",
          "2017-02-07",
          "2017-02-08",
          "2017-02-09",
          "2017-02-10",
          "2017-02-13",
          "2017-02-14",
          "2017-02-15",
          "2017-02-16",
          "2017-02-17",
          "2017-02-21",
          "2017-02-22",
          "2017-02-23",
          "2017-02-24",
          "2017-02-27",
          "2017-02-28",
          "2017-03-01",
          "2017-03-02",
          "2017-03-03",
          "2017-03-06",
          "2017-03-07",
          "2017-03-08",
          "2017-03-09",
          "2017-03-10",
          "2017-03-13",
          "2017-03-14",
          "2017-03-15",
          "2017-03-16",
          "2017-03-17",
          "2017-03-20",
          "2017-03-21",
          "2017-03-22",
          "2017-03-23",
          "2017-03-24",
          "2017-03-27",
          "2017-03-28",
          "2017-03-29",
          "2017-03-30",
          "2017-03-31",
          "2017-04-03",
          "2017-04-04",
          "2017-04-05",
          "2017-04-06",
          "2017-04-07",
          "2017-04-10",
          "2017-04-11",
          "2017-04-12",
          "2017-04-13",
          "2017-04-17",
          "2017-04-18",
          "2017-04-19",
          "2017-04-20",
          "2017-04-21",
          "2017-04-24",
          "2017-04-25",
          "2017-04-26",
          "2017-04-27",
          "2017-04-28",
          "2017-05-01",
          "2017-05-02",
          "2017-05-03",
          "2017-05-04",
          "2017-05-05",
          "2017-05-08",
          "2017-05-09",
          "2017-05-10",
          "2017-05-11",
          "2017-05-12",
          "2017-05-15",
          "2017-05-16",
          "2017-05-17",
          "2017-05-18",
          "2017-05-19",
          "2017-05-22",
          "2017-05-23",
          "2017-05-24",
          "2017-05-25",
          "2017-05-26",
          "2017-05-30",
          "2017-05-31",
          "2017-06-01",
          "2017-06-02",
          "2017-06-05",
          "2017-06-06",
          "2017-06-07",
          "2017-06-08",
          "2017-06-09",
          "2017-06-12",
          "2017-06-13",
          "2017-06-14",
          "2017-06-15",
          "2017-06-16",
          "2017-06-19",
          "2017-06-20",
          "2017-06-21",
          "2017-06-22",
          "2017-06-23",
          "2017-06-26",
          "2017-06-27",
          "2017-06-28",
          "2017-06-29",
          "2017-06-30",
          "2017-07-03",
          "2017-07-05",
          "2017-07-06",
          "2017-07-07",
          "2017-07-10",
          "2017-07-11",
          "2017-07-12",
          "2017-07-13",
          "2017-07-14",
          "2017-07-17",
          "2017-07-18",
          "2017-07-19",
          "2017-07-20",
          "2017-07-21",
          "2017-07-24",
          "2017-07-25",
          "2017-07-26",
          "2017-07-27",
          "2017-07-28",
          "2017-07-31",
          "2017-08-01",
          "2017-08-02",
          "2017-08-03",
          "2017-08-04",
          "2017-08-07",
          "2017-08-08",
          "2017-08-09",
          "2017-08-10",
          "2017-08-11",
          "2017-08-14",
          "2017-08-15",
          "2017-08-16",
          "2017-08-17",
          "2017-08-18",
          "2017-08-21",
          "2017-08-22",
          "2017-08-23",
          "2017-08-24",
          "2017-08-25",
          "2017-08-28",
          "2017-08-29",
          "2017-08-30",
          "2017-08-31",
          "2017-09-01",
          "2017-09-05",
          "2017-09-06",
          "2017-09-07",
          "2017-09-08",
          "2017-09-11",
          "2017-09-12",
          "2017-09-13",
          "2017-09-14",
          "2017-09-15",
          "2017-09-18",
          "2017-09-19",
          "2017-09-20",
          "2017-09-21",
          "2017-09-22",
          "2017-09-25",
          "2017-09-26",
          "2017-09-27",
          "2017-09-28",
          "2017-09-29",
          "2017-10-02",
          "2017-10-03",
          "2017-10-04",
          "2017-10-05",
          "2017-10-06",
          "2017-10-09",
          "2017-10-10",
          "2017-10-11",
          "2017-10-12",
          "2017-10-13",
          "2017-10-16",
          "2017-10-17",
          "2017-10-18",
          "2017-10-19",
          "2017-10-20",
          "2017-10-23",
          "2017-10-24",
          "2017-10-25",
          "2017-10-26",
          "2017-10-27",
          "2017-10-30",
          "2017-10-31",
          "2017-11-01",
          "2017-11-02",
          "2017-11-03",
          "2017-11-06",
          "2017-11-07",
          "2017-11-08",
          "2017-11-09",
          "2017-11-10",
          "2017-11-13",
          "2017-11-14",
          "2017-11-15",
          "2017-11-16",
          "2017-11-17",
          "2017-11-20",
          "2017-11-21",
          "2017-11-22",
          "2017-11-24",
          "2017-11-27",
          "2017-11-28",
          "2017-11-29",
          "2017-11-30",
          "2017-12-01",
          "2017-12-04",
          "2017-12-05",
          "2017-12-06",
          "2017-12-07",
          "2017-12-08",
          "2017-12-11",
          "2017-12-12",
          "2017-12-13",
          "2017-12-14",
          "2017-12-15",
          "2017-12-18",
          "2017-12-19",
          "2017-12-20",
          "2017-12-21",
          "2017-12-22",
          "2017-12-26",
          "2017-12-27",
          "2017-12-28",
          "2017-12-29"
         ],
         "y": [
          100,
          99.72032844619649,
          99.97431729453523,
          100.96539086208635,
          101.27050587175405,
          101.30618626168682,
          102.03710268524704,
          101.35844752154782,
          101.33996843865067,
          101.61740342050503,
          101.58912341235676,
          101.33892321446734,
          101.78518786526327,
          101.99540674943802,
          102.39548471949918,
          103.34552207262999,
          103.84274307889241,
          105.05350678697931,
          104.39640409380786,
          103.89237168509986,
          106.22301061920028,
          105.80071882250151,
          106.44496487554753,
          106.93388356984137,
          107.29988236445207,
          107.44752634869084,
          108.4335138022007,
          108.25586946493627,
          109.3369735020845,
          110.27786174985015,
          110.45755150719734,
          110.38033067536905,
          110.62069828787205,
          110.93990454919305,
          111.01265224579234,
          110.97088584330072,
          111.02710801523826,
          110.83034231412219,
          110.65533381091055,
          112.63755161355942,
          111.53115790378618,
          112.07858510054879,
          111.90443108774008,
          112.0867644809446,
          112.3361841811029,
          111.98884383045696,
          112.34848682393772,
          112.19758443867853,
          111.86565463042032,
          112.77450941613702,
          112.78550975576498,
          112.66776012621781,
          113.35152566093485,
          112.07237986094758,
          113.4146184590465,
          113.0698206822597,
          113.03720500213403,
          113.23742769613378,
          114.65260066737441,
          114.93561985016699,
          115.04638933597016,
          115.05024755655708,
          114.81836439686468,
          115.42565164529881,
          114.96473495798429,
          114.94575401831284,
          114.76720447073889,
          114.57311396585767,
          113.86713474502908,
          113.7396601891198,
          113.19034334453248,
          113.95359434105518,
          113.60889161674295,
          113.10271318469273,
          114.23341157293932,
          114.88335616259468,
          116.38397301024672,
          117.0822673648924,
          116.64242503689866,
          117.04364643185485,
          117.13585756329124,
          119.16625723087239,
          119.47990061912196,
          119.10853776051096,
          118.66232487397492,
          119.8656626809619,
          121.56842224323943,
          122.07252382466862,
          121.97392722810343,
          121.86372384812225,
          122.73280330302683,
          122.59935022023991,
          123.60703363232462,
          119.78062010987772,
          120.96069832204512,
          121.17028188839343,
          122.1884257609934,
          122.29188719247392,
          122.16495161066273,
          123.0821920138605,
          123.24419339153935,
          123.6340511629015,
          122.77816470702203,
          123.17069247861517,
          125.49816092358293,
          125.25866611835647,
          125.67843709144317,
          125.9727505500281,
          125.45206945964284,
          121.52520985522904,
          119.54315792102264,
          120.75442861523067,
          119.82642326805207,
          119.14959973122036,
          118.35352408799402,
          120.82373990869648,
          119.47026533665692,
          120.13464924658285,
          120.02238633738168,
          121.0725579682429,
          120.32312525922988,
          118.34866844643773,
          119.73733559374833,
          117.74490867112189,
          118.24821419521925,
          117.40804949710247,
          118.39986298023292,
          117.39716010215871,
          118.74614682540764,
          119.54855080634883,
          119.76067366783187,
          120.78963777361453,
          122.17214587341121,
          123.54000173350632,
          124.22653418893192,
          124.41186927351025,
          125.27266630620377,
          125.26849091324878,
          124.89047601778994,
          125.52700667942709,
          126.28616057069095,
          126.48554665579992,
          124.50707380503725,
          123.94987237482202,
          123.34073433444637,
          123.81679361433973,
          126.63605432057543,
          125.8655478342905,
          126.65000194142438,
          127.47423941081041,
          128.34085831098685,
          128.50760610181993,
          125.42356007674442,
          127.24616184852984,
          129.1602625212542,
          129.93922957280967,
          130.00541840019162,
          127.64276603074585,
          127.55902686496788,
          127.15630286850899,
          129.09726942022797,
          128.82681960318453,
          128.49298925650828,
          128.85577669150715,
          129.5656094517397,
          130.3720029181776,
          131.34400444664936,
          132.24497067439245,
          131.59220239363037,
          130.46540197201355,
          130.22061924744546,
          130.70130557230124,
          129.26249515372282,
          131.14726169409977,
          130.80332243135913,
          130.7067097284913,
          129.75200637226658,
          130.88821131945926,
          130.23895351947868,
          130.49266235267973,
          128.92698138996374,
          127.16563656528996,
          126.67443503715728,
          125.15577727324447,
          126.2845767758261,
          127.23915269802895,
          126.84138286735029,
          127.7113602027669,
          127.67378018268123,
          127.68135038998203,
          127.5949873807213,
          129.46772001048097,
          129.4528791530619,
          129.92392494290414,
          129.95007511089864,
          130.33902605741287,
          130.66823392113278,
          131.40041885691662,
          132.79002209996946,
          132.998397602465,
          132.70520864922858,
          131.30157707316988,
          132.15071404786957,
          132.13210875108143,
          132.5618009550331,
          132.0741627608533,
          132.61562463046505,
          139.1780429012923,
          140.8425992273028,
          141.27667280470564,
          140.33964349825234,
          141.5784418194784,
          143.56488796805698,
          144.59581274738628,
          144.67730392073207,
          145.53625995167354,
          144.99737544396703,
          144.56487887082437,
          144.30746362919785,
          143.2546165833808,
          141.73516839248208,
          142.7984190965449,
          141.72944104580463,
          141.7612688360426,
          144.11546375721414,
          144.41328339918488,
          144.54016491218783,
          144.6535228458125,
          145.03235940174588,
          142.20420593590325,
          143.9187815641385,
          143.64237813997724,
          140.49814788626853,
          140.84472276045642,
          141.54118726394412,
          141.43990916356256,
          142.82585774901685,
          145.14327630867623,
          145.00487748637707,
          145.06633365418327,
          144.50535887398038,
          147.03514623049472,
          147.7228729441579,
          146.4512996091953,
          146.11498832195213,
          146.38734007624674,
          146.3954941589941,
          144.36360458274282,
          144.6299366974424,
          144.84805586784475,
          143.8918496943001
         ]
        }
       ],
       "layout": {
        "legend": {
         "bgcolor": "#F5F6F9",
         "font": {
          "color": "#4D5663"
         }
        },
        "paper_bgcolor": "#F5F6F9",
        "plot_bgcolor": "#F5F6F9",
        "template": {
         "data": {
          "bar": [
           {
            "error_x": {
             "color": "#2a3f5f"
            },
            "error_y": {
             "color": "#2a3f5f"
            },
            "marker": {
             "line": {
              "color": "#E5ECF6",
              "width": 0.5
             }
            },
            "type": "bar"
           }
          ],
          "barpolar": [
           {
            "marker": {
             "line": {
              "color": "#E5ECF6",
              "width": 0.5
             }
            },
            "type": "barpolar"
           }
          ],
          "carpet": [
           {
            "aaxis": {
             "endlinecolor": "#2a3f5f",
             "gridcolor": "white",
             "linecolor": "white",
             "minorgridcolor": "white",
             "startlinecolor": "#2a3f5f"
            },
            "baxis": {
             "endlinecolor": "#2a3f5f",
             "gridcolor": "white",
             "linecolor": "white",
             "minorgridcolor": "white",
             "startlinecolor": "#2a3f5f"
            },
            "type": "carpet"
           }
          ],
          "choropleth": [
           {
            "colorbar": {
             "outlinewidth": 0,
             "ticks": ""
            },
            "type": "choropleth"
           }
          ],
          "contour": [
           {
            "colorbar": {
             "outlinewidth": 0,
             "ticks": ""
            },
            "colorscale": [
             [
              0,
              "#0d0887"
             ],
             [
              0.1111111111111111,
              "#46039f"
             ],
             [
              0.2222222222222222,
              "#7201a8"
             ],
             [
              0.3333333333333333,
              "#9c179e"
             ],
             [
              0.4444444444444444,
              "#bd3786"
             ],
             [
              0.5555555555555556,
              "#d8576b"
             ],
             [
              0.6666666666666666,
              "#ed7953"
             ],
             [
              0.7777777777777778,
              "#fb9f3a"
             ],
             [
              0.8888888888888888,
              "#fdca26"
             ],
             [
              1,
              "#f0f921"
             ]
            ],
            "type": "contour"
           }
          ],
          "contourcarpet": [
           {
            "colorbar": {
             "outlinewidth": 0,
             "ticks": ""
            },
            "type": "contourcarpet"
           }
          ],
          "heatmap": [
           {
            "colorbar": {
             "outlinewidth": 0,
             "ticks": ""
            },
            "colorscale": [
             [
              0,
              "#0d0887"
             ],
             [
              0.1111111111111111,
              "#46039f"
             ],
             [
              0.2222222222222222,
              "#7201a8"
             ],
             [
              0.3333333333333333,
              "#9c179e"
             ],
             [
              0.4444444444444444,
              "#bd3786"
             ],
             [
              0.5555555555555556,
              "#d8576b"
             ],
             [
              0.6666666666666666,
              "#ed7953"
             ],
             [
              0.7777777777777778,
              "#fb9f3a"
             ],
             [
              0.8888888888888888,
              "#fdca26"
             ],
             [
              1,
              "#f0f921"
             ]
            ],
            "type": "heatmap"
           }
          ],
          "heatmapgl": [
           {
            "colorbar": {
             "outlinewidth": 0,
             "ticks": ""
            },
            "colorscale": [
             [
              0,
              "#0d0887"
             ],
             [
              0.1111111111111111,
              "#46039f"
             ],
             [
              0.2222222222222222,
              "#7201a8"
             ],
             [
              0.3333333333333333,
              "#9c179e"
             ],
             [
              0.4444444444444444,
              "#bd3786"
             ],
             [
              0.5555555555555556,
              "#d8576b"
             ],
             [
              0.6666666666666666,
              "#ed7953"
             ],
             [
              0.7777777777777778,
              "#fb9f3a"
             ],
             [
              0.8888888888888888,
              "#fdca26"
             ],
             [
              1,
              "#f0f921"
             ]
            ],
            "type": "heatmapgl"
           }
          ],
          "histogram": [
           {
            "marker": {
             "colorbar": {
              "outlinewidth": 0,
              "ticks": ""
             }
            },
            "type": "histogram"
           }
          ],
          "histogram2d": [
           {
            "colorbar": {
             "outlinewidth": 0,
             "ticks": ""
            },
            "colorscale": [
             [
              0,
              "#0d0887"
             ],
             [
              0.1111111111111111,
              "#46039f"
             ],
             [
              0.2222222222222222,
              "#7201a8"
             ],
             [
              0.3333333333333333,
              "#9c179e"
             ],
             [
              0.4444444444444444,
              "#bd3786"
             ],
             [
              0.5555555555555556,
              "#d8576b"
             ],
             [
              0.6666666666666666,
              "#ed7953"
             ],
             [
              0.7777777777777778,
              "#fb9f3a"
             ],
             [
              0.8888888888888888,
              "#fdca26"
             ],
             [
              1,
              "#f0f921"
             ]
            ],
            "type": "histogram2d"
           }
          ],
          "histogram2dcontour": [
           {
            "colorbar": {
             "outlinewidth": 0,
             "ticks": ""
            },
            "colorscale": [
             [
              0,
              "#0d0887"
             ],
             [
              0.1111111111111111,
              "#46039f"
             ],
             [
              0.2222222222222222,
              "#7201a8"
             ],
             [
              0.3333333333333333,
              "#9c179e"
             ],
             [
              0.4444444444444444,
              "#bd3786"
             ],
             [
              0.5555555555555556,
              "#d8576b"
             ],
             [
              0.6666666666666666,
              "#ed7953"
             ],
             [
              0.7777777777777778,
              "#fb9f3a"
             ],
             [
              0.8888888888888888,
              "#fdca26"
             ],
             [
              1,
              "#f0f921"
             ]
            ],
            "type": "histogram2dcontour"
           }
          ],
          "mesh3d": [
           {
            "colorbar": {
             "outlinewidth": 0,
             "ticks": ""
            },
            "type": "mesh3d"
           }
          ],
          "parcoords": [
           {
            "line": {
             "colorbar": {
              "outlinewidth": 0,
              "ticks": ""
             }
            },
            "type": "parcoords"
           }
          ],
          "pie": [
           {
            "automargin": true,
            "type": "pie"
           }
          ],
          "scatter": [
           {
            "marker": {
             "colorbar": {
              "outlinewidth": 0,
              "ticks": ""
             }
            },
            "type": "scatter"
           }
          ],
          "scatter3d": [
           {
            "line": {
             "colorbar": {
              "outlinewidth": 0,
              "ticks": ""
             }
            },
            "marker": {
             "colorbar": {
              "outlinewidth": 0,
              "ticks": ""
             }
            },
            "type": "scatter3d"
           }
          ],
          "scattercarpet": [
           {
            "marker": {
             "colorbar": {
              "outlinewidth": 0,
              "ticks": ""
             }
            },
            "type": "scattercarpet"
           }
          ],
          "scattergeo": [
           {
            "marker": {
             "colorbar": {
              "outlinewidth": 0,
              "ticks": ""
             }
            },
            "type": "scattergeo"
           }
          ],
          "scattergl": [
           {
            "marker": {
             "colorbar": {
              "outlinewidth": 0,
              "ticks": ""
             }
            },
            "type": "scattergl"
           }
          ],
          "scattermapbox": [
           {
            "marker": {
             "colorbar": {
              "outlinewidth": 0,
              "ticks": ""
             }
            },
            "type": "scattermapbox"
           }
          ],
          "scatterpolar": [
           {
            "marker": {
             "colorbar": {
              "outlinewidth": 0,
              "ticks": ""
             }
            },
            "type": "scatterpolar"
           }
          ],
          "scatterpolargl": [
           {
            "marker": {
             "colorbar": {
              "outlinewidth": 0,
              "ticks": ""
             }
            },
            "type": "scatterpolargl"
           }
          ],
          "scatterternary": [
           {
            "marker": {
             "colorbar": {
              "outlinewidth": 0,
              "ticks": ""
             }
            },
            "type": "scatterternary"
           }
          ],
          "surface": [
           {
            "colorbar": {
             "outlinewidth": 0,
             "ticks": ""
            },
            "colorscale": [
             [
              0,
              "#0d0887"
             ],
             [
              0.1111111111111111,
              "#46039f"
             ],
             [
              0.2222222222222222,
              "#7201a8"
             ],
             [
              0.3333333333333333,
              "#9c179e"
             ],
             [
              0.4444444444444444,
              "#bd3786"
             ],
             [
              0.5555555555555556,
              "#d8576b"
             ],
             [
              0.6666666666666666,
              "#ed7953"
             ],
             [
              0.7777777777777778,
              "#fb9f3a"
             ],
             [
              0.8888888888888888,
              "#fdca26"
             ],
             [
              1,
              "#f0f921"
             ]
            ],
            "type": "surface"
           }
          ],
          "table": [
           {
            "cells": {
             "fill": {
              "color": "#EBF0F8"
             },
             "line": {
              "color": "white"
             }
            },
            "header": {
             "fill": {
              "color": "#C8D4E3"
             },
             "line": {
              "color": "white"
             }
            },
            "type": "table"
           }
          ]
         },
         "layout": {
          "annotationdefaults": {
           "arrowcolor": "#2a3f5f",
           "arrowhead": 0,
           "arrowwidth": 1
          },
          "coloraxis": {
           "colorbar": {
            "outlinewidth": 0,
            "ticks": ""
           }
          },
          "colorscale": {
           "diverging": [
            [
             0,
             "#8e0152"
            ],
            [
             0.1,
             "#c51b7d"
            ],
            [
             0.2,
             "#de77ae"
            ],
            [
             0.3,
             "#f1b6da"
            ],
            [
             0.4,
             "#fde0ef"
            ],
            [
             0.5,
             "#f7f7f7"
            ],
            [
             0.6,
             "#e6f5d0"
            ],
            [
             0.7,
             "#b8e186"
            ],
            [
             0.8,
             "#7fbc41"
            ],
            [
             0.9,
             "#4d9221"
            ],
            [
             1,
             "#276419"
            ]
           ],
           "sequential": [
            [
             0,
             "#0d0887"
            ],
            [
             0.1111111111111111,
             "#46039f"
            ],
            [
             0.2222222222222222,
             "#7201a8"
            ],
            [
             0.3333333333333333,
             "#9c179e"
            ],
            [
             0.4444444444444444,
             "#bd3786"
            ],
            [
             0.5555555555555556,
             "#d8576b"
            ],
            [
             0.6666666666666666,
             "#ed7953"
            ],
            [
             0.7777777777777778,
             "#fb9f3a"
            ],
            [
             0.8888888888888888,
             "#fdca26"
            ],
            [
             1,
             "#f0f921"
            ]
           ],
           "sequentialminus": [
            [
             0,
             "#0d0887"
            ],
            [
             0.1111111111111111,
             "#46039f"
            ],
            [
             0.2222222222222222,
             "#7201a8"
            ],
            [
             0.3333333333333333,
             "#9c179e"
            ],
            [
             0.4444444444444444,
             "#bd3786"
            ],
            [
             0.5555555555555556,
             "#d8576b"
            ],
            [
             0.6666666666666666,
             "#ed7953"
            ],
            [
             0.7777777777777778,
             "#fb9f3a"
            ],
            [
             0.8888888888888888,
             "#fdca26"
            ],
            [
             1,
             "#f0f921"
            ]
           ]
          },
          "colorway": [
           "#636efa",
           "#EF553B",
           "#00cc96",
           "#ab63fa",
           "#FFA15A",
           "#19d3f3",
           "#FF6692",
           "#B6E880",
           "#FF97FF",
           "#FECB52"
          ],
          "font": {
           "color": "#2a3f5f"
          },
          "geo": {
           "bgcolor": "white",
           "lakecolor": "white",
           "landcolor": "#E5ECF6",
           "showlakes": true,
           "showland": true,
           "subunitcolor": "white"
          },
          "hoverlabel": {
           "align": "left"
          },
          "hovermode": "closest",
          "mapbox": {
           "style": "light"
          },
          "paper_bgcolor": "white",
          "plot_bgcolor": "#E5ECF6",
          "polar": {
           "angularaxis": {
            "gridcolor": "white",
            "linecolor": "white",
            "ticks": ""
           },
           "bgcolor": "#E5ECF6",
           "radialaxis": {
            "gridcolor": "white",
            "linecolor": "white",
            "ticks": ""
           }
          },
          "scene": {
           "xaxis": {
            "backgroundcolor": "#E5ECF6",
            "gridcolor": "white",
            "gridwidth": 2,
            "linecolor": "white",
            "showbackground": true,
            "ticks": "",
            "zerolinecolor": "white"
           },
           "yaxis": {
            "backgroundcolor": "#E5ECF6",
            "gridcolor": "white",
            "gridwidth": 2,
            "linecolor": "white",
            "showbackground": true,
            "ticks": "",
            "zerolinecolor": "white"
           },
           "zaxis": {
            "backgroundcolor": "#E5ECF6",
            "gridcolor": "white",
            "gridwidth": 2,
            "linecolor": "white",
            "showbackground": true,
            "ticks": "",
            "zerolinecolor": "white"
           }
          },
          "shapedefaults": {
           "line": {
            "color": "#2a3f5f"
           }
          },
          "ternary": {
           "aaxis": {
            "gridcolor": "white",
            "linecolor": "white",
            "ticks": ""
           },
           "baxis": {
            "gridcolor": "white",
            "linecolor": "white",
            "ticks": ""
           },
           "bgcolor": "#E5ECF6",
           "caxis": {
            "gridcolor": "white",
            "linecolor": "white",
            "ticks": ""
           }
          },
          "title": {
           "x": 0.05
          },
          "xaxis": {
           "automargin": true,
           "gridcolor": "white",
           "linecolor": "white",
           "ticks": "",
           "title": {
            "standoff": 15
           },
           "zerolinecolor": "white",
           "zerolinewidth": 2
          },
          "yaxis": {
           "automargin": true,
           "gridcolor": "white",
           "linecolor": "white",
           "ticks": "",
           "title": {
            "standoff": 15
           },
           "zerolinecolor": "white",
           "zerolinewidth": 2
          }
         }
        },
        "title": {
         "font": {
          "color": "#4D5663"
         },
         "text": "Portfolio Index Comparison"
        },
        "xaxis": {
         "gridcolor": "#E1E5ED",
         "showgrid": true,
         "tickfont": {
          "color": "#4D5663"
         },
         "title": {
          "font": {
           "color": "#4D5663"
          },
          "text": ""
         },
         "zerolinecolor": "#E1E5ED"
        },
        "yaxis": {
         "gridcolor": "#E1E5ED",
         "showgrid": true,
         "tickfont": {
          "color": "#4D5663"
         },
         "title": {
          "font": {
           "color": "#4D5663"
          },
          "text": ""
         },
         "zerolinecolor": "#E1E5ED"
        }
       }
      },
      "text/html": [
       "<div>\n",
       "        \n",
       "        \n",
       "            <div id=\"4380299b-1fb7-4b02-8258-8c351e7f9a8b\" class=\"plotly-graph-div\" style=\"height:525px; width:100%;\"></div>\n",
       "            <script type=\"text/javascript\">\n",
       "                require([\"plotly\"], function(Plotly) {\n",
       "                    window.PLOTLYENV=window.PLOTLYENV || {};\n",
       "                    window.PLOTLYENV.BASE_URL='https://plot.ly';\n",
       "                    \n",
       "                if (document.getElementById(\"4380299b-1fb7-4b02-8258-8c351e7f9a8b\")) {\n",
       "                    Plotly.newPlot(\n",
       "                        '4380299b-1fb7-4b02-8258-8c351e7f9a8b',\n",
       "                        [{\"line\": {\"color\": \"rgba(255, 153, 51, 1.0)\", \"dash\": \"solid\", \"shape\": \"linear\", \"width\": 1.3}, \"mode\": \"lines\", \"name\": \"S&P 500\", \"text\": \"\", \"type\": \"scatter\", \"x\": [\"2017-01-03\", \"2017-01-04\", \"2017-01-05\", \"2017-01-06\", \"2017-01-09\", \"2017-01-10\", \"2017-01-11\", \"2017-01-12\", \"2017-01-13\", \"2017-01-17\", \"2017-01-18\", \"2017-01-19\", \"2017-01-20\", \"2017-01-23\", \"2017-01-24\", \"2017-01-25\", \"2017-01-26\", \"2017-01-27\", \"2017-01-30\", \"2017-01-31\", \"2017-02-01\", \"2017-02-02\", \"2017-02-03\", \"2017-02-06\", \"2017-02-07\", \"2017-02-08\", \"2017-02-09\", \"2017-02-10\", \"2017-02-13\", \"2017-02-14\", \"2017-02-15\", \"2017-02-16\", \"2017-02-17\", \"2017-02-21\", \"2017-02-22\", \"2017-02-23\", \"2017-02-24\", \"2017-02-27\", \"2017-02-28\", \"2017-03-01\", \"2017-03-02\", \"2017-03-03\", \"2017-03-06\", \"2017-03-07\", \"2017-03-08\", \"2017-03-09\", \"2017-03-10\", \"2017-03-13\", \"2017-03-14\", \"2017-03-15\", \"2017-03-16\", \"2017-03-17\", \"2017-03-20\", \"2017-03-21\", \"2017-03-22\", \"2017-03-23\", \"2017-03-24\", \"2017-03-27\", \"2017-03-28\", \"2017-03-29\", \"2017-03-30\", \"2017-03-31\", \"2017-04-03\", \"2017-04-04\", \"2017-04-05\", \"2017-04-06\", \"2017-04-07\", \"2017-04-10\", \"2017-04-11\", \"2017-04-12\", \"2017-04-13\", \"2017-04-17\", \"2017-04-18\", \"2017-04-19\", \"2017-04-20\", \"2017-04-21\", \"2017-04-24\", \"2017-04-25\", \"2017-04-26\", \"2017-04-27\", \"2017-04-28\", \"2017-05-01\", \"2017-05-02\", \"2017-05-03\", \"2017-05-04\", \"2017-05-05\", \"2017-05-08\", \"2017-05-09\", \"2017-05-10\", \"2017-05-11\", \"2017-05-12\", \"2017-05-15\", \"2017-05-16\", \"2017-05-17\", \"2017-05-18\", \"2017-05-19\", \"2017-05-22\", \"2017-05-23\", \"2017-05-24\", \"2017-05-25\", \"2017-05-26\", \"2017-05-30\", \"2017-05-31\", \"2017-06-01\", \"2017-06-02\", \"2017-06-05\", \"2017-06-06\", \"2017-06-07\", \"2017-06-08\", \"2017-06-09\", \"2017-06-12\", \"2017-06-13\", \"2017-06-14\", \"2017-06-15\", \"2017-06-16\", \"2017-06-19\", \"2017-06-20\", \"2017-06-21\", \"2017-06-22\", \"2017-06-23\", \"2017-06-26\", \"2017-06-27\", \"2017-06-28\", \"2017-06-29\", \"2017-06-30\", \"2017-07-03\", \"2017-07-05\", \"2017-07-06\", \"2017-07-07\", \"2017-07-10\", \"2017-07-11\", \"2017-07-12\", \"2017-07-13\", \"2017-07-14\", \"2017-07-17\", \"2017-07-18\", \"2017-07-19\", \"2017-07-20\", \"2017-07-21\", \"2017-07-24\", \"2017-07-25\", \"2017-07-26\", \"2017-07-27\", \"2017-07-28\", \"2017-07-31\", \"2017-08-01\", \"2017-08-02\", \"2017-08-03\", \"2017-08-04\", \"2017-08-07\", \"2017-08-08\", \"2017-08-09\", \"2017-08-10\", \"2017-08-11\", \"2017-08-14\", \"2017-08-15\", \"2017-08-16\", \"2017-08-17\", \"2017-08-18\", \"2017-08-21\", \"2017-08-22\", \"2017-08-23\", \"2017-08-24\", \"2017-08-25\", \"2017-08-28\", \"2017-08-29\", \"2017-08-30\", \"2017-08-31\", \"2017-09-01\", \"2017-09-05\", \"2017-09-06\", \"2017-09-07\", \"2017-09-08\", \"2017-09-11\", \"2017-09-12\", \"2017-09-13\", \"2017-09-14\", \"2017-09-15\", \"2017-09-18\", \"2017-09-19\", \"2017-09-20\", \"2017-09-21\", \"2017-09-22\", \"2017-09-25\", \"2017-09-26\", \"2017-09-27\", \"2017-09-28\", \"2017-09-29\", \"2017-10-02\", \"2017-10-03\", \"2017-10-04\", \"2017-10-05\", \"2017-10-06\", \"2017-10-09\", \"2017-10-10\", \"2017-10-11\", \"2017-10-12\", \"2017-10-13\", \"2017-10-16\", \"2017-10-17\", \"2017-10-18\", \"2017-10-19\", \"2017-10-20\", \"2017-10-23\", \"2017-10-24\", \"2017-10-25\", \"2017-10-26\", \"2017-10-27\", \"2017-10-30\", \"2017-10-31\", \"2017-11-01\", \"2017-11-02\", \"2017-11-03\", \"2017-11-06\", \"2017-11-07\", \"2017-11-08\", \"2017-11-09\", \"2017-11-10\", \"2017-11-13\", \"2017-11-14\", \"2017-11-15\", \"2017-11-16\", \"2017-11-17\", \"2017-11-20\", \"2017-11-21\", \"2017-11-22\", \"2017-11-24\", \"2017-11-27\", \"2017-11-28\", \"2017-11-29\", \"2017-11-30\", \"2017-12-01\", \"2017-12-04\", \"2017-12-05\", \"2017-12-06\", \"2017-12-07\", \"2017-12-08\", \"2017-12-11\", \"2017-12-12\", \"2017-12-13\", \"2017-12-14\", \"2017-12-15\", \"2017-12-18\", \"2017-12-19\", \"2017-12-20\", \"2017-12-21\", \"2017-12-22\", \"2017-12-26\", \"2017-12-27\", \"2017-12-28\", \"2017-12-29\"], \"y\": [100.0, 100.59488865583587, 100.5184171969578, 100.90310552427646, 100.54552959936561, 100.54599354281248, 100.83983948009364, 100.62593891969524, 100.8117991907921, 100.51262356171873, 100.70658586959522, 100.34483445366247, 100.68573104587337, 100.41760568065936, 101.07715221101867, 101.8884874583639, 101.81572754706083, 101.73276087992646, 101.12604732404209, 101.03659676434525, 101.08966736839055, 101.15339735602025, 101.8973023838546, 101.68223630699207, 101.71005028241709, 101.81294388637959, 102.41756403890608, 102.78882063765293, 103.35451480341698, 103.79830499959037, 104.33155707115445, 104.25206432202474, 104.42912098332474, 105.06085353825905, 104.95680573352628, 105.01288631212937, 105.19503503565122, 105.31692768954805, 105.04857601045752, 106.5039326562324, 105.88841549055117, 105.94473369872463, 105.59989924506216, 105.29932046995434, 105.08913145713095, 105.17440652580589, 105.52016886636211, 105.59340403680588, 105.24161043144025, 106.1264184787996, 105.95771279954337, 105.81889186768242, 105.60916679830589, 104.30814490062784, 104.5090663602075, 104.3994512341122, 104.31115487518564, 104.205013667095, 104.96143385230124, 105.0967695504637, 105.40847165260277, 105.17093260780122, 105.00338112931529, 105.07916233086998, 104.76885205907153, 105.00222692854501, 104.91578634340597, 104.9938759465012, 104.85807630489185, 104.46526330940593, 103.75403800534191, 104.64811360594499, 104.34708220308411, 104.18254069915598, 104.97255717933247, 104.65390724118406, 105.79016132105747, 106.434646662934, 106.3841220899996, 106.45387202674488, 106.25109479337769, 106.43556323413392, 106.56210663819337, 106.4480783915058, 106.51575755628086, 106.9525886007511, 106.96742347535736, 106.86267409760737, 107.02443194085423, 106.8274483427261, 106.67148413471833, 107.19406550700418, 107.14192278985264, 105.22585898563406, 105.61588832043873, 106.3329072597418, 106.88376655089957, 107.0826059228152, 107.3530510052636, 107.84480842756665, 107.8925493398198, 107.77922266614945, 107.7463166285026, 108.57527041113538, 108.97967067709943, 108.85081887149943, 108.54862195217446, 108.74166768885101, 108.77364583960411, 108.68373133646038, 108.58523953739633, 109.1029551613369, 109.00214364503846, 108.77804764450254, 108.80979948137912, 109.71940021391187, 108.98569062621502, 108.93192976484632, 108.88326096569942, 109.05313216141974, 109.08882185974787, 108.2081893034104, 109.1829118539135, 108.24735291974321, 108.41884225968069, 108.67955584543849, 108.85869459440254, 107.87795209478388, 108.56994071934318, 108.6712161790885, 108.58755925463073, 109.39031720605561, 109.59819781733844, 110.11221320939781, 110.10989349216342, 110.17802528469154, 110.78009940610714, 110.77059422329303, 110.72957483317272, 110.61440370140872, 110.93745544445557, 110.96920728133213, 110.87302388380864, 110.72842063240245, 110.64823762594933, 110.9196105952915, 110.99539179684619, 110.77407945699153, 110.98542267058522, 111.17128294168208, 110.91613667728681, 110.88878664530868, 109.32357724386814, 109.4702738986322, 110.5757040285228, 110.54603427931025, 110.73444058151803, 109.02995762046348, 108.83274770845884, 108.96251608525877, 110.04963742253841, 109.67953502456184, 109.4540471936853, 109.64941264759625, 109.70758662955721, 109.81534598186502, 110.35068014109312, 110.9870521304962, 111.21439573516025, 110.37454493937278, 110.72077122337586, 110.72633854473841, 110.56619884570871, 111.76617159751797, 112.14878915286641, 112.23522973800549, 112.14832520941955, 112.36963754927419, 112.53742665733046, 112.6634948022492, 112.73510051278197, 112.39536943703519, 112.470686695143, 112.22063249296956, 112.23754945523987, 112.69617452601955, 112.85561265203201, 113.2764659368195, 113.71561669852413, 113.96613484414442, 114.11584147346628, 114.78002743829438, 114.6928852801381, 114.48594387144286, 114.75499712355064, 114.96403193560374, 114.78002743829438, 114.88245709881, 115.08592458950058, 115.16309762139589, 115.2534760679865, 115.30075303679274, 115.8984253533099, 115.44096579899434, 115.63076393154277, 115.09149191086311, 115.2377246221803, 116.16818017843491, 115.80665507637866, 115.91974412047865, 116.10422387692871, 116.13874805879271, 116.50977834366304, 116.66758700976455, 116.64626824259581, 116.81684101133334, 116.40594553711298, 116.34338106594741, 116.46040797149892, 116.20942588243174, 115.593682402874, 116.57906433696144, 116.2771050472068, 116.42912007806923, 117.19249941497863, 117.11486243963643, 117.36120509423485, 117.32922694348173, 118.4893458216348, 118.46084158888637, 119.47495406959877, 119.23787896824409, 119.11505842745352, 118.6749684631613, 118.66430907957695, 119.03301964721287, 119.70090584392219, 120.08467760004092, 120.27493967603621, 120.22210670156126, 119.75328619064409, 120.83437626311434, 121.48742758521736, 121.09694562265962, 121.01258712518461, 121.25290983066743, 121.1979834528346, 121.07561553979707, 121.17990097410018, 121.42508942792831, 120.80331468356115]}, {\"line\": {\"color\": \"rgba(55, 128, 191, 1.0)\", \"dash\": \"solid\", \"shape\": \"linear\", \"width\": 1.3}, \"mode\": \"lines\", \"name\": \"p1\", \"text\": \"\", \"type\": \"scatter\", \"x\": [\"2017-01-03\", \"2017-01-04\", \"2017-01-05\", \"2017-01-06\", \"2017-01-09\", \"2017-01-10\", \"2017-01-11\", \"2017-01-12\", \"2017-01-13\", \"2017-01-17\", \"2017-01-18\", \"2017-01-19\", \"2017-01-20\", \"2017-01-23\", \"2017-01-24\", \"2017-01-25\", \"2017-01-26\", \"2017-01-27\", \"2017-01-30\", \"2017-01-31\", \"2017-02-01\", \"2017-02-02\", \"2017-02-03\", \"2017-02-06\", \"2017-02-07\", \"2017-02-08\", \"2017-02-09\", \"2017-02-10\", \"2017-02-13\", \"2017-02-14\", \"2017-02-15\", \"2017-02-16\", \"2017-02-17\", \"2017-02-21\", \"2017-02-22\", \"2017-02-23\", \"2017-02-24\", \"2017-02-27\", \"2017-02-28\", \"2017-03-01\", \"2017-03-02\", \"2017-03-03\", \"2017-03-06\", \"2017-03-07\", \"2017-03-08\", \"2017-03-09\", \"2017-03-10\", \"2017-03-13\", \"2017-03-14\", \"2017-03-15\", \"2017-03-16\", \"2017-03-17\", \"2017-03-20\", \"2017-03-21\", \"2017-03-22\", \"2017-03-23\", \"2017-03-24\", \"2017-03-27\", \"2017-03-28\", \"2017-03-29\", \"2017-03-30\", \"2017-03-31\", \"2017-04-03\", \"2017-04-04\", \"2017-04-05\", \"2017-04-06\", \"2017-04-07\", \"2017-04-10\", \"2017-04-11\", \"2017-04-12\", \"2017-04-13\", \"2017-04-17\", \"2017-04-18\", \"2017-04-19\", \"2017-04-20\", \"2017-04-21\", \"2017-04-24\", \"2017-04-25\", \"2017-04-26\", \"2017-04-27\", \"2017-04-28\", \"2017-05-01\", \"2017-05-02\", \"2017-05-03\", \"2017-05-04\", \"2017-05-05\", \"2017-05-08\", \"2017-05-09\", \"2017-05-10\", \"2017-05-11\", \"2017-05-12\", \"2017-05-15\", \"2017-05-16\", \"2017-05-17\", \"2017-05-18\", \"2017-05-19\", \"2017-05-22\", \"2017-05-23\", \"2017-05-24\", \"2017-05-25\", \"2017-05-26\", \"2017-05-30\", \"2017-05-31\", \"2017-06-01\", \"2017-06-02\", \"2017-06-05\", \"2017-06-06\", \"2017-06-07\", \"2017-06-08\", \"2017-06-09\", \"2017-06-12\", \"2017-06-13\", \"2017-06-14\", \"2017-06-15\", \"2017-06-16\", \"2017-06-19\", \"2017-06-20\", \"2017-06-21\", \"2017-06-22\", \"2017-06-23\", \"2017-06-26\", \"2017-06-27\", \"2017-06-28\", \"2017-06-29\", \"2017-06-30\", \"2017-07-03\", \"2017-07-05\", \"2017-07-06\", \"2017-07-07\", \"2017-07-10\", \"2017-07-11\", \"2017-07-12\", \"2017-07-13\", \"2017-07-14\", \"2017-07-17\", \"2017-07-18\", \"2017-07-19\", \"2017-07-20\", \"2017-07-21\", \"2017-07-24\", \"2017-07-25\", \"2017-07-26\", \"2017-07-27\", \"2017-07-28\", \"2017-07-31\", \"2017-08-01\", \"2017-08-02\", \"2017-08-03\", \"2017-08-04\", \"2017-08-07\", \"2017-08-08\", \"2017-08-09\", \"2017-08-10\", \"2017-08-11\", \"2017-08-14\", \"2017-08-15\", \"2017-08-16\", \"2017-08-17\", \"2017-08-18\", \"2017-08-21\", \"2017-08-22\", \"2017-08-23\", \"2017-08-24\", \"2017-08-25\", \"2017-08-28\", \"2017-08-29\", \"2017-08-30\", \"2017-08-31\", \"2017-09-01\", \"2017-09-05\", \"2017-09-06\", \"2017-09-07\", \"2017-09-08\", \"2017-09-11\", \"2017-09-12\", \"2017-09-13\", \"2017-09-14\", \"2017-09-15\", \"2017-09-18\", \"2017-09-19\", \"2017-09-20\", \"2017-09-21\", \"2017-09-22\", \"2017-09-25\", \"2017-09-26\", \"2017-09-27\", \"2017-09-28\", \"2017-09-29\", \"2017-10-02\", \"2017-10-03\", \"2017-10-04\", \"2017-10-05\", \"2017-10-06\", \"2017-10-09\", \"2017-10-10\", \"2017-10-11\", \"2017-10-12\", \"2017-10-13\", \"2017-10-16\", \"2017-10-17\", \"2017-10-18\", \"2017-10-19\", \"2017-10-20\", \"2017-10-23\", \"2017-10-24\", \"2017-10-25\", \"2017-10-26\", \"2017-10-27\", \"2017-10-30\", \"2017-10-31\", \"2017-11-01\", \"2017-11-02\", \"2017-11-03\", \"2017-11-06\", \"2017-11-07\", \"2017-11-08\", \"2017-11-09\", \"2017-11-10\", \"2017-11-13\", \"2017-11-14\", \"2017-11-15\", \"2017-11-16\", \"2017-11-17\", \"2017-11-20\", \"2017-11-21\", \"2017-11-22\", \"2017-11-24\", \"2017-11-27\", \"2017-11-28\", \"2017-11-29\", \"2017-11-30\", \"2017-12-01\", \"2017-12-04\", \"2017-12-05\", \"2017-12-06\", \"2017-12-07\", \"2017-12-08\", \"2017-12-11\", \"2017-12-12\", \"2017-12-13\", \"2017-12-14\", \"2017-12-15\", \"2017-12-18\", \"2017-12-19\", \"2017-12-20\", \"2017-12-21\", \"2017-12-22\", \"2017-12-26\", \"2017-12-27\", \"2017-12-28\", \"2017-12-29\"], \"y\": [100.0, 100.4349467789376, 100.20480479688298, 100.86552050858373, 100.87658811852084, 101.47739021589605, 102.1570012140329, 101.48263783770723, 101.60348041881018, 100.36810082062695, 101.2073636705626, 100.89261547631159, 101.35286540784271, 101.37465348170458, 102.21838429447271, 103.47313701136656, 103.90818042442771, 104.59699838089772, 103.55233054401187, 102.75765462106712, 104.68129758739633, 104.14825290900083, 105.42107135969762, 105.49550334665653, 105.4140071909326, 105.17214905961832, 106.49525683489607, 106.31764084052746, 107.51182328444145, 109.11555314921502, 110.00468886457789, 109.9532083100257, 110.02468875420253, 110.62216570266192, 110.68545927376317, 110.34691175531346, 109.86656747340345, 110.23841795780002, 110.28450081012278, 112.93417669728257, 111.79589310459636, 112.47249129272478, 112.07441623869718, 112.13661713518508, 112.37709782074951, 112.2791051901969, 112.45949746340564, 112.34405870083373, 112.15245251617849, 112.55059322737135, 112.61728449079777, 112.00454136715499, 111.83710062380432, 108.87702860542092, 109.65313292075267, 109.6161870337286, 109.66865014182237, 109.66857334868887, 111.27982095123461, 111.27557810423656, 112.12111363687782, 111.70816082536597, 111.5535720522377, 111.73582756148379, 111.02787099784808, 111.14877562720046, 110.88133781987406, 110.544184675361, 109.92512408117217, 109.4394622718066, 108.61320555223661, 109.81952186384667, 109.44131527202805, 109.1483865199626, 110.39191429418165, 110.29095830259588, 112.65666883150018, 113.64161060886155, 113.21481779168036, 113.12613447144851, 112.72756907861299, 114.48185363847843, 114.57222180452521, 114.68081682503923, 114.50205997939011, 115.14104323603856, 116.60270317826867, 116.96844824871235, 117.15500019489579, 116.96280685348148, 117.43831492180139, 117.43838726249413, 118.00628895485615, 113.34805047360368, 114.38704327819748, 114.98681415030083, 115.65073955963506, 116.23912004550097, 116.10997278832549, 116.55822444244777, 116.65139119319392, 116.42156452068797, 115.21819428810586, 115.80743303577722, 117.09109012661507, 116.87186189566219, 116.88370564844932, 117.63080699352908, 117.83458164398806, 116.25890096834188, 115.10130679081627, 115.8939293300878, 115.26037685584625, 114.4816045933232, 113.78710770984166, 116.1485783988931, 114.62093439335649, 114.52784687007312, 114.15523387773068, 114.69157151500018, 114.2961764882909, 113.5456495666011, 115.37965010845619, 114.70647563128311, 114.95268012960844, 115.01790396442615, 116.03644602883068, 115.05531513370578, 116.13330164665815, 116.75757616107718, 116.46720805146455, 116.78095678477563, 118.10464170694442, 118.40609121820876, 118.58089672112536, 118.52577939462046, 119.33787114133783, 119.15641650117009, 118.6959650310361, 119.28408957938015, 120.63887062258418, 120.36978783307116, 118.90192341081791, 118.41134376389321, 118.13925502062447, 118.94795822380058, 121.03590389642645, 120.19468234365324, 121.61098593988274, 122.14558632927293, 122.634002749677, 122.50694389000334, 119.52780551548983, 120.35575176457624, 122.46560006250145, 123.05935269107752, 122.68659549634266, 120.29260098611098, 120.20699837124337, 119.58117662190124, 121.54515872251824, 121.26064107926791, 121.15719954159823, 121.29482804760544, 121.69360862688808, 122.02276273135193, 123.28433100740386, 123.91490189821496, 123.77902649050971, 121.8605481779478, 121.84701141797048, 121.50900258825195, 120.4300766678327, 122.38994718753932, 123.04359830993666, 123.54786398526258, 122.77670372284328, 123.74368489805659, 123.78973127761546, 124.19830544445745, 123.45382759150156, 122.4292464267611, 121.89226452622842, 120.49074235386988, 121.31809520773962, 122.85238648959051, 122.64706308512892, 123.06242987815472, 123.45640195696004, 123.82061169531352, 123.53856177589692, 125.41558082229865, 125.5254058920529, 125.30069802777035, 125.43785345249299, 125.54749635104908, 125.1982971209839, 126.25509155071828, 127.79506096982422, 127.87411848413777, 128.09768460750925, 127.31158194653818, 128.76061121784372, 128.73324431716046, 129.79788813609153, 129.39796714041168, 129.92356582679008, 134.38829756700744, 135.19869833821173, 135.1738169122123, 134.758644923021, 136.09332212236666, 137.34279369321837, 137.92531826953612, 137.12662849319125, 137.1156373478346, 136.30742584015942, 136.04902753976538, 135.71279627673644, 134.77145729209846, 134.5815763083736, 135.2455139932232, 134.32335074897816, 134.52414473316125, 136.07864764914376, 136.17243847191514, 136.15227054204135, 136.22784249779107, 138.0517312751906, 137.12406846174662, 138.28214534860737, 137.99267309474982, 137.3392858758036, 137.37496466521054, 137.40343164380536, 137.5463195190512, 138.87606898762456, 140.25569650342035, 140.7345265480832, 140.0541126825112, 139.51481130506548, 141.6672318358799, 142.78698306484515, 141.8941820947063, 141.7150599833746, 142.4076118642323, 142.50321874639135, 140.998339982336, 141.10074736181943, 141.3513604418118, 140.29308245116695]}, {\"line\": {\"color\": \"rgba(50, 171, 96, 1.0)\", \"dash\": \"solid\", \"shape\": \"linear\", \"width\": 1.3}, \"mode\": \"lines\", \"name\": \"p2\", \"text\": \"\", \"type\": \"scatter\", \"x\": [\"2017-01-03\", \"2017-01-04\", \"2017-01-05\", \"2017-01-06\", \"2017-01-09\", \"2017-01-10\", \"2017-01-11\", \"2017-01-12\", \"2017-01-13\", \"2017-01-17\", \"2017-01-18\", \"2017-01-19\", \"2017-01-20\", \"2017-01-23\", \"2017-01-24\", \"2017-01-25\", \"2017-01-26\", \"2017-01-27\", \"2017-01-30\", \"2017-01-31\", \"2017-02-01\", \"2017-02-02\", \"2017-02-03\", \"2017-02-06\", \"2017-02-07\", \"2017-02-08\", \"2017-02-09\", \"2017-02-10\", \"2017-02-13\", \"2017-02-14\", \"2017-02-15\", \"2017-02-16\", \"2017-02-17\", \"2017-02-21\", \"2017-02-22\", \"2017-02-23\", \"2017-02-24\", \"2017-02-27\", \"2017-02-28\", \"2017-03-01\", \"2017-03-02\", \"2017-03-03\", \"2017-03-06\", \"2017-03-07\", \"2017-03-08\", \"2017-03-09\", \"2017-03-10\", \"2017-03-13\", \"2017-03-14\", \"2017-03-15\", \"2017-03-16\", \"2017-03-17\", \"2017-03-20\", \"2017-03-21\", \"2017-03-22\", \"2017-03-23\", \"2017-03-24\", \"2017-03-27\", \"2017-03-28\", \"2017-03-29\", \"2017-03-30\", \"2017-03-31\", \"2017-04-03\", \"2017-04-04\", \"2017-04-05\", \"2017-04-06\", \"2017-04-07\", \"2017-04-10\", \"2017-04-11\", \"2017-04-12\", \"2017-04-13\", \"2017-04-17\", \"2017-04-18\", \"2017-04-19\", \"2017-04-20\", \"2017-04-21\", \"2017-04-24\", \"2017-04-25\", \"2017-04-26\", \"2017-04-27\", \"2017-04-28\", \"2017-05-01\", \"2017-05-02\", \"2017-05-03\", \"2017-05-04\", \"2017-05-05\", \"2017-05-08\", \"2017-05-09\", \"2017-05-10\", \"2017-05-11\", \"2017-05-12\", \"2017-05-15\", \"2017-05-16\", \"2017-05-17\", \"2017-05-18\", \"2017-05-19\", \"2017-05-22\", \"2017-05-23\", \"2017-05-24\", \"2017-05-25\", \"2017-05-26\", \"2017-05-30\", \"2017-05-31\", \"2017-06-01\", \"2017-06-02\", \"2017-06-05\", \"2017-06-06\", \"2017-06-07\", \"2017-06-08\", \"2017-06-09\", \"2017-06-12\", \"2017-06-13\", \"2017-06-14\", \"2017-06-15\", \"2017-06-16\", \"2017-06-19\", \"2017-06-20\", \"2017-06-21\", \"2017-06-22\", \"2017-06-23\", \"2017-06-26\", \"2017-06-27\", \"2017-06-28\", \"2017-06-29\", \"2017-06-30\", \"2017-07-03\", \"2017-07-05\", \"2017-07-06\", \"2017-07-07\", \"2017-07-10\", \"2017-07-11\", \"2017-07-12\", \"2017-07-13\", \"2017-07-14\", \"2017-07-17\", \"2017-07-18\", \"2017-07-19\", \"2017-07-20\", \"2017-07-21\", \"2017-07-24\", \"2017-07-25\", \"2017-07-26\", \"2017-07-27\", \"2017-07-28\", \"2017-07-31\", \"2017-08-01\", \"2017-08-02\", \"2017-08-03\", \"2017-08-04\", \"2017-08-07\", \"2017-08-08\", \"2017-08-09\", \"2017-08-10\", \"2017-08-11\", \"2017-08-14\", \"2017-08-15\", \"2017-08-16\", \"2017-08-17\", \"2017-08-18\", \"2017-08-21\", \"2017-08-22\", \"2017-08-23\", \"2017-08-24\", \"2017-08-25\", \"2017-08-28\", \"2017-08-29\", \"2017-08-30\", \"2017-08-31\", \"2017-09-01\", \"2017-09-05\", \"2017-09-06\", \"2017-09-07\", \"2017-09-08\", \"2017-09-11\", \"2017-09-12\", \"2017-09-13\", \"2017-09-14\", \"2017-09-15\", \"2017-09-18\", \"2017-09-19\", \"2017-09-20\", \"2017-09-21\", \"2017-09-22\", \"2017-09-25\", \"2017-09-26\", \"2017-09-27\", \"2017-09-28\", \"2017-09-29\", \"2017-10-02\", \"2017-10-03\", \"2017-10-04\", \"2017-10-05\", \"2017-10-06\", \"2017-10-09\", \"2017-10-10\", \"2017-10-11\", \"2017-10-12\", \"2017-10-13\", \"2017-10-16\", \"2017-10-17\", \"2017-10-18\", \"2017-10-19\", \"2017-10-20\", \"2017-10-23\", \"2017-10-24\", \"2017-10-25\", \"2017-10-26\", \"2017-10-27\", \"2017-10-30\", \"2017-10-31\", \"2017-11-01\", \"2017-11-02\", \"2017-11-03\", \"2017-11-06\", \"2017-11-07\", \"2017-11-08\", \"2017-11-09\", \"2017-11-10\", \"2017-11-13\", \"2017-11-14\", \"2017-11-15\", \"2017-11-16\", \"2017-11-17\", \"2017-11-20\", \"2017-11-21\", \"2017-11-22\", \"2017-11-24\", \"2017-11-27\", \"2017-11-28\", \"2017-11-29\", \"2017-11-30\", \"2017-12-01\", \"2017-12-04\", \"2017-12-05\", \"2017-12-06\", \"2017-12-07\", \"2017-12-08\", \"2017-12-11\", \"2017-12-12\", \"2017-12-13\", \"2017-12-14\", \"2017-12-15\", \"2017-12-18\", \"2017-12-19\", \"2017-12-20\", \"2017-12-21\", \"2017-12-22\", \"2017-12-26\", \"2017-12-27\", \"2017-12-28\", \"2017-12-29\"], \"y\": [100.0, 102.35259166037723, 102.75013353850373, 104.04238496415678, 104.59725246534943, 104.15404937716394, 104.32022759049903, 104.18938600945027, 106.1663339188591, 105.4583318498445, 106.19177424177741, 107.18833912641097, 107.59280143549113, 109.46715403288904, 111.06829940724143, 111.78654166222586, 111.1110303562227, 110.65017555708879, 108.780587254298, 108.72841702849514, 108.03893354606733, 108.7515283527583, 108.88909363724211, 110.36349204217326, 110.65474888665415, 111.80438076964157, 113.52006501367566, 113.78838037783945, 116.76257864776049, 116.92710110811402, 116.55248507413889, 114.39104488709089, 115.39552539448002, 116.81284974629081, 115.86155884429598, 111.86075911313473, 111.9223981892787, 109.48142223296529, 109.96175982486078, 110.73380116420583, 110.54659102500403, 110.69917516753472, 110.53354020158493, 110.19249565206393, 110.01622773030533, 109.77281163065062, 109.78466007174062, 110.50176093612896, 113.23278259873423, 112.81020814019848, 114.3669866749879, 114.45268371819728, 114.31286825193314, 110.58186415732317, 111.52427304141153, 110.70741673169894, 112.43803482511888, 114.3879360478652, 116.14359090124644, 116.79464276700328, 116.92480030926053, 116.8889681941903, 122.11994971827988, 123.06042409738805, 120.85473647434748, 121.48280042222162, 122.16346945621109, 124.43697661144539, 123.5012350095308, 120.82778298202976, 122.4292913326436, 122.70502392677403, 122.40855807369341, 123.71130476130293, 123.23651990872693, 124.04647895664635, 125.85110057602411, 127.78511364187838, 126.91472141615607, 126.7201424284472, 129.9904746491634, 132.42940365477415, 131.7676732575831, 130.6283983784042, 127.33682082452846, 130.01889248598323, 130.2076227740903, 133.31423690705063, 134.01111186450834, 133.63836327285222, 134.1354234387776, 132.3868348600553, 133.02373881290453, 129.0250839956625, 131.30199494262698, 131.02792427160622, 131.41659797581607, 130.36380324551087, 132.21982879651068, 134.67024997971583, 136.70784239032488, 139.28336356165153, 139.9442840796124, 139.9297381570178, 140.360073622922, 142.5952557922129, 143.4172991583493, 145.2621287896371, 147.80412749980695, 142.74658656352065, 142.69524526992558, 147.2664713892998, 148.18386291068654, 146.42056146457745, 145.3517741931173, 146.1018474901713, 146.23540973273643, 147.75494931121304, 149.0357892675226, 149.7699689227545, 147.54945092013273, 142.47918902549927, 145.36006015758912, 141.4991364409429, 141.12106579976432, 138.41161901281095, 133.3563212321615, 128.82946913025623, 130.5979040173621, 131.89937762311138, 134.55528091934892, 135.95914594253583, 134.76304190996342, 136.3316054850756, 134.2763579000242, 137.0360952511076, 136.6986060002988, 137.59812042912802, 137.55124781414, 141.27678166985734, 138.7187822578283, 139.51364296728585, 136.47796587822677, 137.09172730865737, 133.71726089330545, 132.83959311262086, 134.26789807959426, 138.7242352825568, 141.26113804087151, 140.94924049910512, 143.10155519475563, 142.46472732716754, 139.59536007436782, 140.61926614387949, 142.51230856553684, 142.14496137375812, 142.58008829543326, 139.0313548157419, 137.98393621552628, 135.51680711170323, 137.46774055025298, 140.24611445440644, 139.91918234088538, 138.45189027965063, 137.76888428470184, 138.63634415957037, 140.50404704901825, 141.75155949036494, 141.509779647232, 139.60558703320604, 138.3989291284397, 140.31763263163478, 138.05522901114546, 142.89465551570274, 142.86822418053467, 143.86218594835546, 145.8565905233188, 146.0500479828315, 146.9095034976986, 145.061422642003, 145.4086077244184, 143.7518823358254, 139.95631431138165, 138.06988410853265, 138.3772092818295, 138.63949466748983, 138.64245919929738, 139.59931058285775, 139.32695886718574, 141.13755210574763, 142.3319665114088, 143.56834191002088, 144.49346995338644, 141.16113135487518, 143.79616082413594, 144.62701518606798, 144.78555786653317, 144.87787641789095, 143.8802189784098, 145.07835604935508, 146.01708305325488, 143.67883811222868, 142.37119305137162, 139.25321464932918, 139.45987825285505, 136.98743841028562, 137.01450801021983, 138.7640956160585, 138.44467533142682, 141.05315747876102, 139.20872157845247, 134.18593093801803, 136.19858772365663, 135.01738262790255, 136.24342880404976, 136.27561453749703, 135.4066752463007, 135.20378114238025, 137.91580770024373, 136.3878624869849, 136.66322740764363, 137.67688840145564, 137.4115704602308, 135.91242825726675, 139.02701366069698, 137.9199924395222, 138.89549342658665, 140.050815941146, 139.78884018306007, 135.84453426444787, 136.1304904472421, 134.88101717083163, 133.8437693065485, 133.90963759061844, 136.95395538220905, 137.2866986286926, 138.57229998045554, 142.00514419546354, 144.75846555760788, 144.30588339661406, 144.58636486924394, 146.82409662826944, 146.59239383076857, 144.3911255187555, 143.5381794630699, 144.071766644315, 142.3599774952428, 140.32233732003226, 138.55168974028777, 139.3306362295096, 138.29596863213675]}, {\"line\": {\"color\": \"rgba(128, 0, 128, 1.0)\", \"dash\": \"solid\", \"shape\": \"linear\", \"width\": 1.3}, \"mode\": \"lines\", \"name\": \"p3\", \"text\": \"\", \"type\": \"scatter\", \"x\": [\"2017-01-03\", \"2017-01-04\", \"2017-01-05\", \"2017-01-06\", \"2017-01-09\", \"2017-01-10\", \"2017-01-11\", \"2017-01-12\", \"2017-01-13\", \"2017-01-17\", \"2017-01-18\", \"2017-01-19\", \"2017-01-20\", \"2017-01-23\", \"2017-01-24\", \"2017-01-25\", \"2017-01-26\", \"2017-01-27\", \"2017-01-30\", \"2017-01-31\", \"2017-02-01\", \"2017-02-02\", \"2017-02-03\", \"2017-02-06\", \"2017-02-07\", \"2017-02-08\", \"2017-02-09\", \"2017-02-10\", \"2017-02-13\", \"2017-02-14\", \"2017-02-15\", \"2017-02-16\", \"2017-02-17\", \"2017-02-21\", \"2017-02-22\", \"2017-02-23\", \"2017-02-24\", \"2017-02-27\", \"2017-02-28\", \"2017-03-01\", \"2017-03-02\", \"2017-03-03\", \"2017-03-06\", \"2017-03-07\", \"2017-03-08\", \"2017-03-09\", \"2017-03-10\", \"2017-03-13\", \"2017-03-14\", \"2017-03-15\", \"2017-03-16\", \"2017-03-17\", \"2017-03-20\", \"2017-03-21\", \"2017-03-22\", \"2017-03-23\", \"2017-03-24\", \"2017-03-27\", \"2017-03-28\", \"2017-03-29\", \"2017-03-30\", \"2017-03-31\", \"2017-04-03\", \"2017-04-04\", \"2017-04-05\", \"2017-04-06\", \"2017-04-07\", \"2017-04-10\", \"2017-04-11\", \"2017-04-12\", \"2017-04-13\", \"2017-04-17\", \"2017-04-18\", \"2017-04-19\", \"2017-04-20\", \"2017-04-21\", \"2017-04-24\", \"2017-04-25\", \"2017-04-26\", \"2017-04-27\", \"2017-04-28\", \"2017-05-01\", \"2017-05-02\", \"2017-05-03\", \"2017-05-04\", \"2017-05-05\", \"2017-05-08\", \"2017-05-09\", \"2017-05-10\", \"2017-05-11\", \"2017-05-12\", \"2017-05-15\", \"2017-05-16\", \"2017-05-17\", \"2017-05-18\", \"2017-05-19\", \"2017-05-22\", \"2017-05-23\", \"2017-05-24\", \"2017-05-25\", \"2017-05-26\", \"2017-05-30\", \"2017-05-31\", \"2017-06-01\", \"2017-06-02\", \"2017-06-05\", \"2017-06-06\", \"2017-06-07\", \"2017-06-08\", \"2017-06-09\", \"2017-06-12\", \"2017-06-13\", \"2017-06-14\", \"2017-06-15\", \"2017-06-16\", \"2017-06-19\", \"2017-06-20\", \"2017-06-21\", \"2017-06-22\", \"2017-06-23\", \"2017-06-26\", \"2017-06-27\", \"2017-06-28\", \"2017-06-29\", \"2017-06-30\", \"2017-07-03\", \"2017-07-05\", \"2017-07-06\", \"2017-07-07\", \"2017-07-10\", \"2017-07-11\", \"2017-07-12\", \"2017-07-13\", \"2017-07-14\", \"2017-07-17\", \"2017-07-18\", \"2017-07-19\", \"2017-07-20\", \"2017-07-21\", \"2017-07-24\", \"2017-07-25\", \"2017-07-26\", \"2017-07-27\", \"2017-07-28\", \"2017-07-31\", \"2017-08-01\", \"2017-08-02\", \"2017-08-03\", \"2017-08-04\", \"2017-08-07\", \"2017-08-08\", \"2017-08-09\", \"2017-08-10\", \"2017-08-11\", \"2017-08-14\", \"2017-08-15\", \"2017-08-16\", \"2017-08-17\", \"2017-08-18\", \"2017-08-21\", \"2017-08-22\", \"2017-08-23\", \"2017-08-24\", \"2017-08-25\", \"2017-08-28\", \"2017-08-29\", \"2017-08-30\", \"2017-08-31\", \"2017-09-01\", \"2017-09-05\", \"2017-09-06\", \"2017-09-07\", \"2017-09-08\", \"2017-09-11\", \"2017-09-12\", \"2017-09-13\", \"2017-09-14\", \"2017-09-15\", \"2017-09-18\", \"2017-09-19\", \"2017-09-20\", \"2017-09-21\", \"2017-09-22\", \"2017-09-25\", \"2017-09-26\", \"2017-09-27\", \"2017-09-28\", \"2017-09-29\", \"2017-10-02\", \"2017-10-03\", \"2017-10-04\", \"2017-10-05\", \"2017-10-06\", \"2017-10-09\", \"2017-10-10\", \"2017-10-11\", \"2017-10-12\", \"2017-10-13\", \"2017-10-16\", \"2017-10-17\", \"2017-10-18\", \"2017-10-19\", \"2017-10-20\", \"2017-10-23\", \"2017-10-24\", \"2017-10-25\", \"2017-10-26\", \"2017-10-27\", \"2017-10-30\", \"2017-10-31\", \"2017-11-01\", \"2017-11-02\", \"2017-11-03\", \"2017-11-06\", \"2017-11-07\", \"2017-11-08\", \"2017-11-09\", \"2017-11-10\", \"2017-11-13\", \"2017-11-14\", \"2017-11-15\", \"2017-11-16\", \"2017-11-17\", \"2017-11-20\", \"2017-11-21\", \"2017-11-22\", \"2017-11-24\", \"2017-11-27\", \"2017-11-28\", \"2017-11-29\", \"2017-11-30\", \"2017-12-01\", \"2017-12-04\", \"2017-12-05\", \"2017-12-06\", \"2017-12-07\", \"2017-12-08\", \"2017-12-11\", \"2017-12-12\", \"2017-12-13\", \"2017-12-14\", \"2017-12-15\", \"2017-12-18\", \"2017-12-19\", \"2017-12-20\", \"2017-12-21\", \"2017-12-22\", \"2017-12-26\", \"2017-12-27\", \"2017-12-28\", \"2017-12-29\"], \"y\": [100.0, 100.2179907149353, 100.47960014641006, 100.74356505123947, 101.0511624525446, 100.38500080550492, 101.28036978725778, 101.33434007712015, 101.69044473171863, 101.82932588645492, 101.45670966982556, 100.86130183056925, 101.67525816265692, 101.76742588411267, 102.5362108432788, 103.08429664261796, 102.95654934946452, 103.1843129674592, 102.39980171764205, 101.63928059683285, 101.64146949430713, 101.5315043365828, 102.0187344733761, 101.78868275060165, 101.7333691899174, 102.10551089987322, 101.86580867401634, 102.15802447040853, 102.82929183398115, 103.14175117615633, 103.28020491357329, 103.60608666757831, 103.72504519101209, 104.01496842186214, 104.05687018444023, 104.33303301091324, 104.58850210250026, 104.61712781015584, 104.22040031220374, 105.02835197959102, 104.16852776956058, 104.49388825487785, 104.08799122593395, 104.22875959609294, 103.5564002607418, 103.9605287285636, 104.36843730362094, 104.06145230545243, 103.9059895949261, 104.5574303816109, 106.45440125708507, 106.62060626096807, 106.54095506252634, 105.75922461352528, 105.97322808958873, 106.02079267299473, 105.78038575080888, 106.10413587192657, 106.54994968084934, 106.5992759563439, 106.90862351357393, 106.5158659739349, 106.8055764790184, 106.85477740657699, 106.75515388732344, 106.48188381320378, 106.31146787559862, 106.39909610518153, 106.07804853782967, 106.0316625863027, 105.18050085590458, 106.039457512073, 106.2066534676413, 106.04516609777028, 106.58370939218158, 106.36209166244114, 108.02889137569885, 108.60675218113809, 108.23377094170003, 108.72040869280552, 108.83119638487825, 109.50424354631272, 110.13142928902397, 110.29012209937814, 111.3767294969549, 111.61394767102499, 111.49501722934639, 111.13101830429825, 110.98447266521777, 110.7088902134447, 110.79806643194534, 110.96967061550036, 111.09509957624233, 108.95767167361774, 108.96364948525235, 109.4422401861434, 110.005607158562, 110.08811237885499, 110.63339439430978, 111.0781896458462, 111.11907842936411, 110.75079339392128, 110.45317554565048, 110.80588961508361, 111.09990733930859, 111.42593673103079, 111.17783698311582, 110.95657325346957, 110.77519529364412, 109.4177941331433, 109.21054583455852, 109.93102025016344, 109.39481031276938, 109.02044971536387, 109.73271841531283, 110.49931106847323, 109.99511425248636, 110.11402638801333, 111.80091557936393, 112.44019454033207, 112.11149335556362, 111.21850193203812, 112.15096216375568, 110.28028801391912, 110.29784510241873, 109.6185599369069, 110.12332541548268, 109.06025434332496, 110.01799201523652, 110.55364880223011, 111.1057581943486, 112.56860117161871, 112.68016532489725, 113.46645231289307, 113.23189311346955, 113.80632013391518, 114.44814595098596, 114.82703546803694, 114.31013596285308, 114.1851202247115, 114.49730800104435, 114.96197415021537, 117.028132784054, 116.88262747010778, 116.22734825384042, 116.80520613504932, 116.55577342507495, 116.9198383592455, 116.83282558138607, 117.03323399029391, 116.42792515887118, 116.32483515337309, 114.50982444228947, 114.3297737725768, 115.48793974593406, 115.40829454031676, 115.36213230844956, 113.66415002281292, 113.67175100201736, 113.86214302868711, 114.32477098006939, 113.88632698318165, 113.704716507034, 113.67472529938615, 113.63176006671448, 114.12326974823397, 114.814056001345, 115.71371702034634, 115.99016241980102, 116.06973300608558, 117.24052913560215, 118.0858362382343, 117.4321798119135, 118.7948777334297, 119.0961831645313, 119.26392008134204, 119.12354436150284, 117.23601095806563, 116.6125162856085, 117.03076847133612, 116.53328697710748, 116.05661211738169, 115.93893777200653, 114.8434089646954, 115.32621267710917, 116.40396129146353, 116.97338409212182, 117.6314919216701, 118.02185345863461, 118.48214138948742, 118.48257996449578, 119.44662980788816, 119.14579425221106, 119.52610737940364, 119.65777515950235, 119.7883897371541, 119.7155449400888, 120.52669894932339, 121.002494957207, 121.557125982294, 121.91698724577226, 121.47804439145719, 121.68329098284975, 121.25663410325338, 121.60362370339111, 120.61234297707395, 121.01570798691152, 124.2574066460501, 124.65624186662336, 125.77124409169383, 126.75402315565046, 125.82976525034528, 125.42958261455219, 126.01937107505343, 125.71221696832609, 125.4510350859529, 124.62209941496644, 124.04856981415031, 124.15164588334177, 123.61290459252471, 122.6810734175673, 123.3990368452535, 122.5311553845927, 122.70089431190927, 123.30083119587934, 123.0204993717392, 124.06121198707854, 123.80892657675848, 124.02168430328729, 121.90828543636043, 122.99827059565693, 123.07227586348175, 121.72413098290744, 120.51262963803642, 121.16343279534382, 121.42309536393499, 122.05515168989662, 122.72598633798792, 122.02143243874552, 122.11846612046435, 122.03090818320597, 122.12884091584128, 123.02383634132501, 123.25085727048064, 123.37628834010968, 122.69426221427904, 122.7288012642898, 122.18264103964951, 122.58060791705829, 122.61828039541413, 122.18133211008431]}, {\"line\": {\"color\": \"rgba(219, 64, 82, 1.0)\", \"dash\": \"solid\", \"shape\": \"linear\", \"width\": 1.3}, \"mode\": \"lines\", \"name\": \"TechPortfolio\", \"text\": \"\", \"type\": \"scatter\", \"x\": [\"2017-01-03\", \"2017-01-04\", \"2017-01-05\", \"2017-01-06\", \"2017-01-09\", \"2017-01-10\", \"2017-01-11\", \"2017-01-12\", \"2017-01-13\", \"2017-01-17\", \"2017-01-18\", \"2017-01-19\", \"2017-01-20\", \"2017-01-23\", \"2017-01-24\", \"2017-01-25\", \"2017-01-26\", \"2017-01-27\", \"2017-01-30\", \"2017-01-31\", \"2017-02-01\", \"2017-02-02\", \"2017-02-03\", \"2017-02-06\", \"2017-02-07\", \"2017-02-08\", \"2017-02-09\", \"2017-02-10\", \"2017-02-13\", \"2017-02-14\", \"2017-02-15\", \"2017-02-16\", \"2017-02-17\", \"2017-02-21\", \"2017-02-22\", \"2017-02-23\", \"2017-02-24\", \"2017-02-27\", \"2017-02-28\", \"2017-03-01\", \"2017-03-02\", \"2017-03-03\", \"2017-03-06\", \"2017-03-07\", \"2017-03-08\", \"2017-03-09\", \"2017-03-10\", \"2017-03-13\", \"2017-03-14\", \"2017-03-15\", \"2017-03-16\", \"2017-03-17\", \"2017-03-20\", \"2017-03-21\", \"2017-03-22\", \"2017-03-23\", \"2017-03-24\", \"2017-03-27\", \"2017-03-28\", \"2017-03-29\", \"2017-03-30\", \"2017-03-31\", \"2017-04-03\", \"2017-04-04\", \"2017-04-05\", \"2017-04-06\", \"2017-04-07\", \"2017-04-10\", \"2017-04-11\", \"2017-04-12\", \"2017-04-13\", \"2017-04-17\", \"2017-04-18\", \"2017-04-19\", \"2017-04-20\", \"2017-04-21\", \"2017-04-24\", \"2017-04-25\", \"2017-04-26\", \"2017-04-27\", \"2017-04-28\", \"2017-05-01\", \"2017-05-02\", \"2017-05-03\", \"2017-05-04\", \"2017-05-05\", \"2017-05-08\", \"2017-05-09\", \"2017-05-10\", \"2017-05-11\", \"2017-05-12\", \"2017-05-15\", \"2017-05-16\", \"2017-05-17\", \"2017-05-18\", \"2017-05-19\", \"2017-05-22\", \"2017-05-23\", \"2017-05-24\", \"2017-05-25\", \"2017-05-26\", \"2017-05-30\", \"2017-05-31\", \"2017-06-01\", \"2017-06-02\", \"2017-06-05\", \"2017-06-06\", \"2017-06-07\", \"2017-06-08\", \"2017-06-09\", \"2017-06-12\", \"2017-06-13\", \"2017-06-14\", \"2017-06-15\", \"2017-06-16\", \"2017-06-19\", \"2017-06-20\", \"2017-06-21\", \"2017-06-22\", \"2017-06-23\", \"2017-06-26\", \"2017-06-27\", \"2017-06-28\", \"2017-06-29\", \"2017-06-30\", \"2017-07-03\", \"2017-07-05\", \"2017-07-06\", \"2017-07-07\", \"2017-07-10\", \"2017-07-11\", \"2017-07-12\", \"2017-07-13\", \"2017-07-14\", \"2017-07-17\", \"2017-07-18\", \"2017-07-19\", \"2017-07-20\", \"2017-07-21\", \"2017-07-24\", \"2017-07-25\", \"2017-07-26\", \"2017-07-27\", \"2017-07-28\", \"2017-07-31\", \"2017-08-01\", \"2017-08-02\", \"2017-08-03\", \"2017-08-04\", \"2017-08-07\", \"2017-08-08\", \"2017-08-09\", \"2017-08-10\", \"2017-08-11\", \"2017-08-14\", \"2017-08-15\", \"2017-08-16\", \"2017-08-17\", \"2017-08-18\", \"2017-08-21\", \"2017-08-22\", \"2017-08-23\", \"2017-08-24\", \"2017-08-25\", \"2017-08-28\", \"2017-08-29\", \"2017-08-30\", \"2017-08-31\", \"2017-09-01\", \"2017-09-05\", \"2017-09-06\", \"2017-09-07\", \"2017-09-08\", \"2017-09-11\", \"2017-09-12\", \"2017-09-13\", \"2017-09-14\", \"2017-09-15\", \"2017-09-18\", \"2017-09-19\", \"2017-09-20\", \"2017-09-21\", \"2017-09-22\", \"2017-09-25\", \"2017-09-26\", \"2017-09-27\", \"2017-09-28\", \"2017-09-29\", \"2017-10-02\", \"2017-10-03\", \"2017-10-04\", \"2017-10-05\", \"2017-10-06\", \"2017-10-09\", \"2017-10-10\", \"2017-10-11\", \"2017-10-12\", \"2017-10-13\", \"2017-10-16\", \"2017-10-17\", \"2017-10-18\", \"2017-10-19\", \"2017-10-20\", \"2017-10-23\", \"2017-10-24\", \"2017-10-25\", \"2017-10-26\", \"2017-10-27\", \"2017-10-30\", \"2017-10-31\", \"2017-11-01\", \"2017-11-02\", \"2017-11-03\", \"2017-11-06\", \"2017-11-07\", \"2017-11-08\", \"2017-11-09\", \"2017-11-10\", \"2017-11-13\", \"2017-11-14\", \"2017-11-15\", \"2017-11-16\", \"2017-11-17\", \"2017-11-20\", \"2017-11-21\", \"2017-11-22\", \"2017-11-24\", \"2017-11-27\", \"2017-11-28\", \"2017-11-29\", \"2017-11-30\", \"2017-12-01\", \"2017-12-04\", \"2017-12-05\", \"2017-12-06\", \"2017-12-07\", \"2017-12-08\", \"2017-12-11\", \"2017-12-12\", \"2017-12-13\", \"2017-12-14\", \"2017-12-15\", \"2017-12-18\", \"2017-12-19\", \"2017-12-20\", \"2017-12-21\", \"2017-12-22\", \"2017-12-26\", \"2017-12-27\", \"2017-12-28\", \"2017-12-29\"], \"y\": [100.0, 99.72032844619649, 99.97431729453523, 100.96539086208635, 101.27050587175405, 101.30618626168682, 102.03710268524704, 101.35844752154782, 101.33996843865067, 101.61740342050503, 101.58912341235676, 101.33892321446734, 101.78518786526327, 101.99540674943802, 102.39548471949918, 103.34552207262999, 103.84274307889241, 105.05350678697931, 104.39640409380786, 103.89237168509986, 106.22301061920028, 105.80071882250151, 106.44496487554753, 106.93388356984137, 107.29988236445207, 107.44752634869084, 108.4335138022007, 108.25586946493627, 109.3369735020845, 110.27786174985015, 110.45755150719734, 110.38033067536905, 110.62069828787205, 110.93990454919305, 111.01265224579234, 110.97088584330072, 111.02710801523826, 110.83034231412219, 110.65533381091055, 112.63755161355942, 111.53115790378618, 112.07858510054879, 111.90443108774008, 112.0867644809446, 112.3361841811029, 111.98884383045696, 112.34848682393772, 112.19758443867853, 111.86565463042032, 112.77450941613702, 112.78550975576498, 112.66776012621781, 113.35152566093485, 112.07237986094758, 113.4146184590465, 113.0698206822597, 113.03720500213403, 113.23742769613378, 114.65260066737441, 114.93561985016699, 115.04638933597016, 115.05024755655708, 114.81836439686468, 115.42565164529881, 114.96473495798429, 114.94575401831284, 114.76720447073889, 114.57311396585767, 113.86713474502908, 113.7396601891198, 113.19034334453248, 113.95359434105518, 113.60889161674295, 113.10271318469273, 114.23341157293932, 114.88335616259468, 116.38397301024672, 117.0822673648924, 116.64242503689866, 117.04364643185485, 117.13585756329124, 119.16625723087239, 119.47990061912196, 119.10853776051096, 118.66232487397492, 119.8656626809619, 121.56842224323943, 122.07252382466862, 121.97392722810343, 121.86372384812225, 122.73280330302683, 122.59935022023991, 123.60703363232462, 119.78062010987772, 120.96069832204512, 121.17028188839343, 122.1884257609934, 122.29188719247392, 122.16495161066273, 123.0821920138605, 123.24419339153935, 123.6340511629015, 122.77816470702203, 123.17069247861517, 125.49816092358293, 125.25866611835647, 125.67843709144317, 125.9727505500281, 125.45206945964284, 121.52520985522904, 119.54315792102264, 120.75442861523067, 119.82642326805207, 119.14959973122036, 118.35352408799402, 120.82373990869648, 119.47026533665692, 120.13464924658285, 120.02238633738168, 121.0725579682429, 120.32312525922988, 118.34866844643773, 119.73733559374833, 117.74490867112189, 118.24821419521925, 117.40804949710247, 118.39986298023292, 117.39716010215871, 118.74614682540764, 119.54855080634883, 119.76067366783187, 120.78963777361453, 122.17214587341121, 123.54000173350632, 124.22653418893192, 124.41186927351025, 125.27266630620377, 125.26849091324878, 124.89047601778994, 125.52700667942709, 126.28616057069095, 126.48554665579992, 124.50707380503725, 123.94987237482202, 123.34073433444637, 123.81679361433973, 126.63605432057543, 125.8655478342905, 126.65000194142438, 127.47423941081041, 128.34085831098685, 128.50760610181993, 125.42356007674442, 127.24616184852984, 129.1602625212542, 129.93922957280967, 130.00541840019162, 127.64276603074585, 127.55902686496788, 127.15630286850899, 129.09726942022797, 128.82681960318453, 128.49298925650828, 128.85577669150715, 129.5656094517397, 130.3720029181776, 131.34400444664936, 132.24497067439245, 131.59220239363037, 130.46540197201355, 130.22061924744546, 130.70130557230124, 129.26249515372282, 131.14726169409977, 130.80332243135913, 130.7067097284913, 129.75200637226658, 130.88821131945926, 130.23895351947868, 130.49266235267973, 128.92698138996374, 127.16563656528996, 126.67443503715728, 125.15577727324447, 126.2845767758261, 127.23915269802895, 126.84138286735029, 127.7113602027669, 127.67378018268123, 127.68135038998203, 127.5949873807213, 129.46772001048097, 129.4528791530619, 129.92392494290414, 129.95007511089864, 130.33902605741287, 130.66823392113278, 131.40041885691662, 132.79002209996946, 132.998397602465, 132.70520864922858, 131.30157707316988, 132.15071404786957, 132.13210875108143, 132.5618009550331, 132.0741627608533, 132.61562463046505, 139.1780429012923, 140.8425992273028, 141.27667280470564, 140.33964349825234, 141.5784418194784, 143.56488796805698, 144.59581274738628, 144.67730392073207, 145.53625995167354, 144.99737544396703, 144.56487887082437, 144.30746362919785, 143.2546165833808, 141.73516839248208, 142.7984190965449, 141.72944104580463, 141.7612688360426, 144.11546375721414, 144.41328339918488, 144.54016491218783, 144.6535228458125, 145.03235940174588, 142.20420593590325, 143.9187815641385, 143.64237813997724, 140.49814788626853, 140.84472276045642, 141.54118726394412, 141.43990916356256, 142.82585774901685, 145.14327630867623, 145.00487748637707, 145.06633365418327, 144.50535887398038, 147.03514623049472, 147.7228729441579, 146.4512996091953, 146.11498832195213, 146.38734007624674, 146.3954941589941, 144.36360458274282, 144.6299366974424, 144.84805586784475, 143.8918496943001]}],\n",
       "                        {\"legend\": {\"bgcolor\": \"#F5F6F9\", \"font\": {\"color\": \"#4D5663\"}}, \"paper_bgcolor\": \"#F5F6F9\", \"plot_bgcolor\": \"#F5F6F9\", \"template\": {\"data\": {\"bar\": [{\"error_x\": {\"color\": \"#2a3f5f\"}, \"error_y\": {\"color\": \"#2a3f5f\"}, \"marker\": {\"line\": {\"color\": \"#E5ECF6\", \"width\": 0.5}}, \"type\": \"bar\"}], \"barpolar\": [{\"marker\": {\"line\": {\"color\": \"#E5ECF6\", \"width\": 0.5}}, \"type\": \"barpolar\"}], \"carpet\": [{\"aaxis\": {\"endlinecolor\": \"#2a3f5f\", \"gridcolor\": \"white\", \"linecolor\": \"white\", \"minorgridcolor\": \"white\", \"startlinecolor\": \"#2a3f5f\"}, \"baxis\": {\"endlinecolor\": \"#2a3f5f\", \"gridcolor\": \"white\", \"linecolor\": \"white\", \"minorgridcolor\": \"white\", \"startlinecolor\": \"#2a3f5f\"}, \"type\": \"carpet\"}], \"choropleth\": [{\"colorbar\": {\"outlinewidth\": 0, \"ticks\": \"\"}, \"type\": \"choropleth\"}], \"contour\": [{\"colorbar\": {\"outlinewidth\": 0, \"ticks\": \"\"}, \"colorscale\": [[0.0, \"#0d0887\"], [0.1111111111111111, \"#46039f\"], [0.2222222222222222, \"#7201a8\"], [0.3333333333333333, \"#9c179e\"], [0.4444444444444444, \"#bd3786\"], [0.5555555555555556, \"#d8576b\"], [0.6666666666666666, \"#ed7953\"], [0.7777777777777778, \"#fb9f3a\"], [0.8888888888888888, \"#fdca26\"], [1.0, \"#f0f921\"]], \"type\": \"contour\"}], \"contourcarpet\": [{\"colorbar\": {\"outlinewidth\": 0, \"ticks\": \"\"}, \"type\": \"contourcarpet\"}], \"heatmap\": [{\"colorbar\": {\"outlinewidth\": 0, \"ticks\": \"\"}, \"colorscale\": [[0.0, \"#0d0887\"], [0.1111111111111111, \"#46039f\"], [0.2222222222222222, \"#7201a8\"], [0.3333333333333333, \"#9c179e\"], [0.4444444444444444, \"#bd3786\"], [0.5555555555555556, \"#d8576b\"], [0.6666666666666666, \"#ed7953\"], [0.7777777777777778, \"#fb9f3a\"], [0.8888888888888888, \"#fdca26\"], [1.0, \"#f0f921\"]], \"type\": \"heatmap\"}], \"heatmapgl\": [{\"colorbar\": {\"outlinewidth\": 0, \"ticks\": \"\"}, \"colorscale\": [[0.0, \"#0d0887\"], [0.1111111111111111, \"#46039f\"], [0.2222222222222222, \"#7201a8\"], [0.3333333333333333, \"#9c179e\"], [0.4444444444444444, \"#bd3786\"], [0.5555555555555556, \"#d8576b\"], [0.6666666666666666, \"#ed7953\"], [0.7777777777777778, \"#fb9f3a\"], [0.8888888888888888, \"#fdca26\"], [1.0, \"#f0f921\"]], \"type\": \"heatmapgl\"}], \"histogram\": [{\"marker\": {\"colorbar\": {\"outlinewidth\": 0, \"ticks\": \"\"}}, \"type\": \"histogram\"}], \"histogram2d\": [{\"colorbar\": {\"outlinewidth\": 0, \"ticks\": \"\"}, \"colorscale\": [[0.0, \"#0d0887\"], [0.1111111111111111, \"#46039f\"], [0.2222222222222222, \"#7201a8\"], [0.3333333333333333, \"#9c179e\"], [0.4444444444444444, \"#bd3786\"], [0.5555555555555556, \"#d8576b\"], [0.6666666666666666, \"#ed7953\"], [0.7777777777777778, \"#fb9f3a\"], [0.8888888888888888, \"#fdca26\"], [1.0, \"#f0f921\"]], \"type\": \"histogram2d\"}], \"histogram2dcontour\": [{\"colorbar\": {\"outlinewidth\": 0, \"ticks\": \"\"}, \"colorscale\": [[0.0, \"#0d0887\"], [0.1111111111111111, \"#46039f\"], [0.2222222222222222, \"#7201a8\"], [0.3333333333333333, \"#9c179e\"], [0.4444444444444444, \"#bd3786\"], [0.5555555555555556, \"#d8576b\"], [0.6666666666666666, \"#ed7953\"], [0.7777777777777778, \"#fb9f3a\"], [0.8888888888888888, \"#fdca26\"], [1.0, \"#f0f921\"]], \"type\": \"histogram2dcontour\"}], \"mesh3d\": [{\"colorbar\": {\"outlinewidth\": 0, \"ticks\": \"\"}, \"type\": \"mesh3d\"}], \"parcoords\": [{\"line\": {\"colorbar\": {\"outlinewidth\": 0, \"ticks\": \"\"}}, \"type\": \"parcoords\"}], \"pie\": [{\"automargin\": true, \"type\": \"pie\"}], \"scatter\": [{\"marker\": {\"colorbar\": {\"outlinewidth\": 0, \"ticks\": \"\"}}, \"type\": \"scatter\"}], \"scatter3d\": [{\"line\": {\"colorbar\": {\"outlinewidth\": 0, \"ticks\": \"\"}}, \"marker\": {\"colorbar\": {\"outlinewidth\": 0, \"ticks\": \"\"}}, \"type\": \"scatter3d\"}], \"scattercarpet\": [{\"marker\": {\"colorbar\": {\"outlinewidth\": 0, \"ticks\": \"\"}}, \"type\": \"scattercarpet\"}], \"scattergeo\": [{\"marker\": {\"colorbar\": {\"outlinewidth\": 0, \"ticks\": \"\"}}, \"type\": \"scattergeo\"}], \"scattergl\": [{\"marker\": {\"colorbar\": {\"outlinewidth\": 0, \"ticks\": \"\"}}, \"type\": \"scattergl\"}], \"scattermapbox\": [{\"marker\": {\"colorbar\": {\"outlinewidth\": 0, \"ticks\": \"\"}}, \"type\": \"scattermapbox\"}], \"scatterpolar\": [{\"marker\": {\"colorbar\": {\"outlinewidth\": 0, \"ticks\": \"\"}}, \"type\": \"scatterpolar\"}], \"scatterpolargl\": [{\"marker\": {\"colorbar\": {\"outlinewidth\": 0, \"ticks\": \"\"}}, \"type\": \"scatterpolargl\"}], \"scatterternary\": [{\"marker\": {\"colorbar\": {\"outlinewidth\": 0, \"ticks\": \"\"}}, \"type\": \"scatterternary\"}], \"surface\": [{\"colorbar\": {\"outlinewidth\": 0, \"ticks\": \"\"}, \"colorscale\": [[0.0, \"#0d0887\"], [0.1111111111111111, \"#46039f\"], [0.2222222222222222, \"#7201a8\"], [0.3333333333333333, \"#9c179e\"], [0.4444444444444444, \"#bd3786\"], [0.5555555555555556, \"#d8576b\"], [0.6666666666666666, \"#ed7953\"], [0.7777777777777778, \"#fb9f3a\"], [0.8888888888888888, \"#fdca26\"], [1.0, \"#f0f921\"]], \"type\": \"surface\"}], \"table\": [{\"cells\": {\"fill\": {\"color\": \"#EBF0F8\"}, \"line\": {\"color\": \"white\"}}, \"header\": {\"fill\": {\"color\": \"#C8D4E3\"}, \"line\": {\"color\": \"white\"}}, \"type\": \"table\"}]}, \"layout\": {\"annotationdefaults\": {\"arrowcolor\": \"#2a3f5f\", \"arrowhead\": 0, \"arrowwidth\": 1}, \"coloraxis\": {\"colorbar\": {\"outlinewidth\": 0, \"ticks\": \"\"}}, \"colorscale\": {\"diverging\": [[0, \"#8e0152\"], [0.1, \"#c51b7d\"], [0.2, \"#de77ae\"], [0.3, \"#f1b6da\"], [0.4, \"#fde0ef\"], [0.5, \"#f7f7f7\"], [0.6, \"#e6f5d0\"], [0.7, \"#b8e186\"], [0.8, \"#7fbc41\"], [0.9, \"#4d9221\"], [1, \"#276419\"]], \"sequential\": [[0.0, \"#0d0887\"], [0.1111111111111111, \"#46039f\"], [0.2222222222222222, \"#7201a8\"], [0.3333333333333333, \"#9c179e\"], [0.4444444444444444, \"#bd3786\"], [0.5555555555555556, \"#d8576b\"], [0.6666666666666666, \"#ed7953\"], [0.7777777777777778, \"#fb9f3a\"], [0.8888888888888888, \"#fdca26\"], [1.0, \"#f0f921\"]], \"sequentialminus\": [[0.0, \"#0d0887\"], [0.1111111111111111, \"#46039f\"], [0.2222222222222222, \"#7201a8\"], [0.3333333333333333, \"#9c179e\"], [0.4444444444444444, \"#bd3786\"], [0.5555555555555556, \"#d8576b\"], [0.6666666666666666, \"#ed7953\"], [0.7777777777777778, \"#fb9f3a\"], [0.8888888888888888, \"#fdca26\"], [1.0, \"#f0f921\"]]}, \"colorway\": [\"#636efa\", \"#EF553B\", \"#00cc96\", \"#ab63fa\", \"#FFA15A\", \"#19d3f3\", \"#FF6692\", \"#B6E880\", \"#FF97FF\", \"#FECB52\"], \"font\": {\"color\": \"#2a3f5f\"}, \"geo\": {\"bgcolor\": \"white\", \"lakecolor\": \"white\", \"landcolor\": \"#E5ECF6\", \"showlakes\": true, \"showland\": true, \"subunitcolor\": \"white\"}, \"hoverlabel\": {\"align\": \"left\"}, \"hovermode\": \"closest\", \"mapbox\": {\"style\": \"light\"}, \"paper_bgcolor\": \"white\", \"plot_bgcolor\": \"#E5ECF6\", \"polar\": {\"angularaxis\": {\"gridcolor\": \"white\", \"linecolor\": \"white\", \"ticks\": \"\"}, \"bgcolor\": \"#E5ECF6\", \"radialaxis\": {\"gridcolor\": \"white\", \"linecolor\": \"white\", \"ticks\": \"\"}}, \"scene\": {\"xaxis\": {\"backgroundcolor\": \"#E5ECF6\", \"gridcolor\": \"white\", \"gridwidth\": 2, \"linecolor\": \"white\", \"showbackground\": true, \"ticks\": \"\", \"zerolinecolor\": \"white\"}, \"yaxis\": {\"backgroundcolor\": \"#E5ECF6\", \"gridcolor\": \"white\", \"gridwidth\": 2, \"linecolor\": \"white\", \"showbackground\": true, \"ticks\": \"\", \"zerolinecolor\": \"white\"}, \"zaxis\": {\"backgroundcolor\": \"#E5ECF6\", \"gridcolor\": \"white\", \"gridwidth\": 2, \"linecolor\": \"white\", \"showbackground\": true, \"ticks\": \"\", \"zerolinecolor\": \"white\"}}, \"shapedefaults\": {\"line\": {\"color\": \"#2a3f5f\"}}, \"ternary\": {\"aaxis\": {\"gridcolor\": \"white\", \"linecolor\": \"white\", \"ticks\": \"\"}, \"baxis\": {\"gridcolor\": \"white\", \"linecolor\": \"white\", \"ticks\": \"\"}, \"bgcolor\": \"#E5ECF6\", \"caxis\": {\"gridcolor\": \"white\", \"linecolor\": \"white\", \"ticks\": \"\"}}, \"title\": {\"x\": 0.05}, \"xaxis\": {\"automargin\": true, \"gridcolor\": \"white\", \"linecolor\": \"white\", \"ticks\": \"\", \"title\": {\"standoff\": 15}, \"zerolinecolor\": \"white\", \"zerolinewidth\": 2}, \"yaxis\": {\"automargin\": true, \"gridcolor\": \"white\", \"linecolor\": \"white\", \"ticks\": \"\", \"title\": {\"standoff\": 15}, \"zerolinecolor\": \"white\", \"zerolinewidth\": 2}}}, \"title\": {\"font\": {\"color\": \"#4D5663\"}, \"text\": \"Portfolio Index Comparison\"}, \"xaxis\": {\"gridcolor\": \"#E1E5ED\", \"showgrid\": true, \"tickfont\": {\"color\": \"#4D5663\"}, \"title\": {\"font\": {\"color\": \"#4D5663\"}, \"text\": \"\"}, \"zerolinecolor\": \"#E1E5ED\"}, \"yaxis\": {\"gridcolor\": \"#E1E5ED\", \"showgrid\": true, \"tickfont\": {\"color\": \"#4D5663\"}, \"title\": {\"font\": {\"color\": \"#4D5663\"}, \"text\": \"\"}, \"zerolinecolor\": \"#E1E5ED\"}},\n",
       "                        {\"showLink\": true, \"linkText\": \"Export to plot.ly\", \"plotlyServerURL\": \"https://plot.ly\", \"responsive\": true}\n",
       "                    ).then(function(){\n",
       "                            \n",
       "var gd = document.getElementById('4380299b-1fb7-4b02-8258-8c351e7f9a8b');\n",
       "var x = new MutationObserver(function (mutations, observer) {{\n",
       "        var display = window.getComputedStyle(gd).display;\n",
       "        if (!display || display === 'none') {{\n",
       "            console.log([gd, 'removed!']);\n",
       "            Plotly.purge(gd);\n",
       "            observer.disconnect();\n",
       "        }}\n",
       "}});\n",
       "\n",
       "// Listen for the removal of the full notebook cells\n",
       "var notebookContainer = gd.closest('#notebook-container');\n",
       "if (notebookContainer) {{\n",
       "    x.observe(notebookContainer, {childList: true});\n",
       "}}\n",
       "\n",
       "// Listen for the clearing of the current output cell\n",
       "var outputEl = gd.closest('.output');\n",
       "if (outputEl) {{\n",
       "    x.observe(outputEl, {childList: true});\n",
       "}}\n",
       "\n",
       "                        })\n",
       "                };\n",
       "                });\n",
       "            </script>\n",
       "        </div>"
      ]
     },
     "metadata": {},
     "output_type": "display_data"
    }
   ],
   "source": [
    "overviewPortfolios()\n",
    "print(tb.tabulate(overviewPortfoliosStats(), headers = ['Name', 'Return', 'Volatility', 'Sharpe Ratio']))\n",
    "\n",
    "comparePortfoliosPlot()"
   ]
  },
  {
   "cell_type": "code",
   "execution_count": 24,
   "metadata": {},
   "outputs": [
    {
     "data": {
      "application/vnd.plotly.v1+json": {
       "config": {
        "plotlyServerURL": "https://plot.ly"
       },
       "data": [
        {
         "mode": "lines",
         "name": "CAPM",
         "type": "scatter",
         "x": [
          0,
          0.01,
          0.02,
          0.03,
          0.04,
          0.05,
          0.06,
          0.07,
          0.08,
          0.09,
          0.1,
          0.11,
          0.12,
          0.13,
          0.14,
          0.15,
          0.16,
          0.17,
          0.18,
          0.19,
          0.2,
          0.21,
          0.22,
          0.23,
          0.24,
          0.25,
          0.26,
          0.27,
          0.28,
          0.29,
          0.3,
          0.31,
          0.32,
          0.33,
          0.34,
          0.35000000000000003,
          0.36,
          0.37,
          0.38,
          0.39,
          0.4,
          0.41000000000000003,
          0.42,
          0.43,
          0.44,
          0.45,
          0.46,
          0.47000000000000003,
          0.48,
          0.49,
          0.5,
          0.51,
          0.52,
          0.53,
          0.54,
          0.55,
          0.56,
          0.5700000000000001,
          0.58,
          0.59,
          0.6,
          0.61,
          0.62,
          0.63,
          0.64,
          0.65,
          0.66,
          0.67,
          0.68,
          0.6900000000000001,
          0.7000000000000001,
          0.71,
          0.72,
          0.73,
          0.74,
          0.75,
          0.76,
          0.77,
          0.78,
          0.79,
          0.8,
          0.81,
          0.8200000000000001,
          0.8300000000000001,
          0.84,
          0.85,
          0.86,
          0.87,
          0.88,
          0.89,
          0.9,
          0.91,
          0.92,
          0.93,
          0.9400000000000001,
          0.9500000000000001,
          0.96,
          0.97,
          0.98,
          0.99,
          1,
          1.01,
          1.02,
          1.03,
          1.04,
          1.05,
          1.06,
          1.07,
          1.08,
          1.09,
          1.1,
          1.11,
          1.12,
          1.1300000000000001,
          1.1400000000000001,
          1.1500000000000001,
          1.16,
          1.17,
          1.18,
          1.19,
          1.2,
          1.21,
          1.22,
          1.23,
          1.24,
          1.25,
          1.26,
          1.27,
          1.28,
          1.29,
          1.3,
          1.31,
          1.32,
          1.33,
          1.34,
          1.35,
          1.36,
          1.37,
          1.3800000000000001,
          1.3900000000000001,
          1.4000000000000001,
          1.41,
          1.42,
          1.43,
          1.44,
          1.45,
          1.46,
          1.47,
          1.48,
          1.49,
          1.5,
          1.51,
          1.52,
          1.53,
          1.54,
          1.55,
          1.56,
          1.57,
          1.58,
          1.59,
          1.6,
          1.61,
          1.62,
          1.6300000000000001,
          1.6400000000000001,
          1.6500000000000001,
          1.6600000000000001,
          1.67,
          1.68,
          1.69,
          1.7,
          1.71,
          1.72,
          1.73,
          1.74,
          1.75,
          1.76,
          1.77,
          1.78,
          1.79,
          1.8,
          1.81,
          1.82,
          1.83,
          1.84,
          1.85,
          1.86,
          1.87,
          1.8800000000000001,
          1.8900000000000001,
          1.9000000000000001,
          1.9100000000000001,
          1.92,
          1.93,
          1.94,
          1.95,
          1.96,
          1.97,
          1.98,
          1.99
         ],
         "y": [
          0.01,
          0.011812614610324587,
          0.013625229220649172,
          0.015437843830973758,
          0.017250458441298345,
          0.01906307305162293,
          0.020875687661947515,
          0.0226883022722721,
          0.024500916882596688,
          0.026313531492921274,
          0.02812614610324586,
          0.029938760713570448,
          0.031751375323895034,
          0.03356398993421962,
          0.03537660454454421,
          0.03718921915486879,
          0.03900183376519338,
          0.04081444837551797,
          0.04262706298584255,
          0.04443967759616714,
          0.04625229220649173,
          0.04806490681681631,
          0.04987752142714089,
          0.05169013603746548,
          0.053502750647790066,
          0.05531536525811465,
          0.05712797986843924,
          0.058940594478763826,
          0.06075320908908841,
          0.06256582369941299,
          0.06437843830973758,
          0.06619105292006217,
          0.06800366753038675,
          0.06981628214071134,
          0.07162889675103593,
          0.07344151136136051,
          0.07525412597168508,
          0.07706674058200967,
          0.07887935519233427,
          0.08069196980265886,
          0.08250458441298344,
          0.08431719902330803,
          0.0861298136336326,
          0.08794242824395719,
          0.08975504285428178,
          0.09156765746460636,
          0.09338027207493095,
          0.09519288668525554,
          0.09700550129558012,
          0.09881811590590471,
          0.1006307305162293,
          0.10244334512655388,
          0.10425595973687847,
          0.10606857434720306,
          0.10788118895752764,
          0.10969380356785223,
          0.11150641817817682,
          0.11331903278850142,
          0.11513164739882598,
          0.11694426200915056,
          0.11875687661947515,
          0.12056949122979974,
          0.12238210584012432,
          0.12419472045044892,
          0.12600733506077352,
          0.1278199496710981,
          0.1296325642814227,
          0.13144517889174728,
          0.13325779350207187,
          0.13507040811239646,
          0.13688302272272104,
          0.1386956373330456,
          0.1405082519433702,
          0.14232086655369477,
          0.14413348116401936,
          0.14594609577434398,
          0.14775871038466856,
          0.14957132499499315,
          0.15138393960531774,
          0.15319655421564232,
          0.1550091688259669,
          0.1568217834362915,
          0.15863439804661608,
          0.16044701265694067,
          0.16225962726726523,
          0.16407224187758981,
          0.1658848564879144,
          0.167697471098239,
          0.16951008570856357,
          0.17132270031888816,
          0.17313531492921275,
          0.17494792953953733,
          0.17676054414986192,
          0.1785731587601865,
          0.1803857733705111,
          0.1821983879808357,
          0.18401100259116027,
          0.18582361720148485,
          0.18763623181180944,
          0.18944884642213403,
          0.1912614610324586,
          0.1930740756427832,
          0.19488669025310779,
          0.19669930486343237,
          0.19851191947375696,
          0.20032453408408155,
          0.20213714869440613,
          0.20394976330473072,
          0.2057623779150553,
          0.2075749925253799,
          0.20938760713570448,
          0.21120022174602907,
          0.21301283635635365,
          0.21482545096667824,
          0.21663806557700285,
          0.21845068018732744,
          0.22026329479765197,
          0.22207590940797656,
          0.22388852401830114,
          0.22570113862862573,
          0.22751375323895032,
          0.2293263678492749,
          0.2311389824595995,
          0.23295159706992408,
          0.23476421168024866,
          0.23657682629057325,
          0.23838944090089786,
          0.24020205551122245,
          0.24201467012154704,
          0.24382728473187162,
          0.2456398993421962,
          0.2474525139525208,
          0.24926512856284538,
          0.25107774317316994,
          0.25289035778349456,
          0.2547029723938191,
          0.25651558700414373,
          0.2583282016144683,
          0.2601408162247929,
          0.2619534308351175,
          0.2637660454454421,
          0.26557866005576664,
          0.2673912746660912,
          0.2692038892764158,
          0.27101650388674037,
          0.272829118497065,
          0.27464173310738954,
          0.27645434771771416,
          0.2782669623280387,
          0.28007957693836333,
          0.28189219154868794,
          0.2837048061590125,
          0.2855174207693371,
          0.2873300353796617,
          0.2891426499899863,
          0.29095526460031085,
          0.29276787921063546,
          0.29458049382096,
          0.29639310843128464,
          0.2982057230416092,
          0.3000183376519338,
          0.30183095226225837,
          0.303643566872583,
          0.30545618148290754,
          0.30726879609323215,
          0.3090814107035567,
          0.31089402531388133,
          0.3127066399242059,
          0.31451925453453045,
          0.31633186914485506,
          0.3181444837551796,
          0.31995709836550423,
          0.3217697129758288,
          0.3235823275861534,
          0.32539494219647797,
          0.3272075568068026,
          0.32902017141712714,
          0.33083278602745175,
          0.3326454006377763,
          0.3344580152481009,
          0.3362706298584255,
          0.3380832444687501,
          0.33989585907907466,
          0.3417084736893993,
          0.34352108829972383,
          0.34533370291004845,
          0.347146317520373,
          0.3489589321306976,
          0.3507715467410222,
          0.3525841613513468,
          0.3543967759616714,
          0.35620939057199597,
          0.3580220051823205,
          0.3598346197926451,
          0.3616472344029697,
          0.36345984901329426,
          0.36527246362361887,
          0.36708507823394343,
          0.36889769284426804,
          0.3707103074545926
         ]
        },
        {
         "mode": "markers",
         "name": "market portfolio",
         "type": "scatter",
         "x": [
          1
         ],
         "y": [
          0.1912614610324586
         ]
        },
        {
         "mode": "markers",
         "name": "p1",
         "type": "scatter",
         "x": [
          1.4392492560112258
         ],
         "y": [
          0.3506037476287806
         ]
        },
        {
         "mode": "markers",
         "name": "p2",
         "type": "scatter",
         "x": [
          1.2984971814831163
         ],
         "y": [
          0.3198043641115952
         ]
        },
        {
         "mode": "markers",
         "name": "p3",
         "type": "scatter",
         "x": [
          0.8779660617538916
         ],
         "y": [
          0.19083663821247165
         ]
        },
        {
         "mode": "markers",
         "name": "TechPortfolio",
         "type": "scatter",
         "x": [
          1.3444612603176358
         ],
         "y": [
          0.3678372785197299
         ]
        }
       ],
       "layout": {
        "template": {
         "data": {
          "bar": [
           {
            "error_x": {
             "color": "#2a3f5f"
            },
            "error_y": {
             "color": "#2a3f5f"
            },
            "marker": {
             "line": {
              "color": "#E5ECF6",
              "width": 0.5
             }
            },
            "type": "bar"
           }
          ],
          "barpolar": [
           {
            "marker": {
             "line": {
              "color": "#E5ECF6",
              "width": 0.5
             }
            },
            "type": "barpolar"
           }
          ],
          "carpet": [
           {
            "aaxis": {
             "endlinecolor": "#2a3f5f",
             "gridcolor": "white",
             "linecolor": "white",
             "minorgridcolor": "white",
             "startlinecolor": "#2a3f5f"
            },
            "baxis": {
             "endlinecolor": "#2a3f5f",
             "gridcolor": "white",
             "linecolor": "white",
             "minorgridcolor": "white",
             "startlinecolor": "#2a3f5f"
            },
            "type": "carpet"
           }
          ],
          "choropleth": [
           {
            "colorbar": {
             "outlinewidth": 0,
             "ticks": ""
            },
            "type": "choropleth"
           }
          ],
          "contour": [
           {
            "colorbar": {
             "outlinewidth": 0,
             "ticks": ""
            },
            "colorscale": [
             [
              0,
              "#0d0887"
             ],
             [
              0.1111111111111111,
              "#46039f"
             ],
             [
              0.2222222222222222,
              "#7201a8"
             ],
             [
              0.3333333333333333,
              "#9c179e"
             ],
             [
              0.4444444444444444,
              "#bd3786"
             ],
             [
              0.5555555555555556,
              "#d8576b"
             ],
             [
              0.6666666666666666,
              "#ed7953"
             ],
             [
              0.7777777777777778,
              "#fb9f3a"
             ],
             [
              0.8888888888888888,
              "#fdca26"
             ],
             [
              1,
              "#f0f921"
             ]
            ],
            "type": "contour"
           }
          ],
          "contourcarpet": [
           {
            "colorbar": {
             "outlinewidth": 0,
             "ticks": ""
            },
            "type": "contourcarpet"
           }
          ],
          "heatmap": [
           {
            "colorbar": {
             "outlinewidth": 0,
             "ticks": ""
            },
            "colorscale": [
             [
              0,
              "#0d0887"
             ],
             [
              0.1111111111111111,
              "#46039f"
             ],
             [
              0.2222222222222222,
              "#7201a8"
             ],
             [
              0.3333333333333333,
              "#9c179e"
             ],
             [
              0.4444444444444444,
              "#bd3786"
             ],
             [
              0.5555555555555556,
              "#d8576b"
             ],
             [
              0.6666666666666666,
              "#ed7953"
             ],
             [
              0.7777777777777778,
              "#fb9f3a"
             ],
             [
              0.8888888888888888,
              "#fdca26"
             ],
             [
              1,
              "#f0f921"
             ]
            ],
            "type": "heatmap"
           }
          ],
          "heatmapgl": [
           {
            "colorbar": {
             "outlinewidth": 0,
             "ticks": ""
            },
            "colorscale": [
             [
              0,
              "#0d0887"
             ],
             [
              0.1111111111111111,
              "#46039f"
             ],
             [
              0.2222222222222222,
              "#7201a8"
             ],
             [
              0.3333333333333333,
              "#9c179e"
             ],
             [
              0.4444444444444444,
              "#bd3786"
             ],
             [
              0.5555555555555556,
              "#d8576b"
             ],
             [
              0.6666666666666666,
              "#ed7953"
             ],
             [
              0.7777777777777778,
              "#fb9f3a"
             ],
             [
              0.8888888888888888,
              "#fdca26"
             ],
             [
              1,
              "#f0f921"
             ]
            ],
            "type": "heatmapgl"
           }
          ],
          "histogram": [
           {
            "marker": {
             "colorbar": {
              "outlinewidth": 0,
              "ticks": ""
             }
            },
            "type": "histogram"
           }
          ],
          "histogram2d": [
           {
            "colorbar": {
             "outlinewidth": 0,
             "ticks": ""
            },
            "colorscale": [
             [
              0,
              "#0d0887"
             ],
             [
              0.1111111111111111,
              "#46039f"
             ],
             [
              0.2222222222222222,
              "#7201a8"
             ],
             [
              0.3333333333333333,
              "#9c179e"
             ],
             [
              0.4444444444444444,
              "#bd3786"
             ],
             [
              0.5555555555555556,
              "#d8576b"
             ],
             [
              0.6666666666666666,
              "#ed7953"
             ],
             [
              0.7777777777777778,
              "#fb9f3a"
             ],
             [
              0.8888888888888888,
              "#fdca26"
             ],
             [
              1,
              "#f0f921"
             ]
            ],
            "type": "histogram2d"
           }
          ],
          "histogram2dcontour": [
           {
            "colorbar": {
             "outlinewidth": 0,
             "ticks": ""
            },
            "colorscale": [
             [
              0,
              "#0d0887"
             ],
             [
              0.1111111111111111,
              "#46039f"
             ],
             [
              0.2222222222222222,
              "#7201a8"
             ],
             [
              0.3333333333333333,
              "#9c179e"
             ],
             [
              0.4444444444444444,
              "#bd3786"
             ],
             [
              0.5555555555555556,
              "#d8576b"
             ],
             [
              0.6666666666666666,
              "#ed7953"
             ],
             [
              0.7777777777777778,
              "#fb9f3a"
             ],
             [
              0.8888888888888888,
              "#fdca26"
             ],
             [
              1,
              "#f0f921"
             ]
            ],
            "type": "histogram2dcontour"
           }
          ],
          "mesh3d": [
           {
            "colorbar": {
             "outlinewidth": 0,
             "ticks": ""
            },
            "type": "mesh3d"
           }
          ],
          "parcoords": [
           {
            "line": {
             "colorbar": {
              "outlinewidth": 0,
              "ticks": ""
             }
            },
            "type": "parcoords"
           }
          ],
          "pie": [
           {
            "automargin": true,
            "type": "pie"
           }
          ],
          "scatter": [
           {
            "marker": {
             "colorbar": {
              "outlinewidth": 0,
              "ticks": ""
             }
            },
            "type": "scatter"
           }
          ],
          "scatter3d": [
           {
            "line": {
             "colorbar": {
              "outlinewidth": 0,
              "ticks": ""
             }
            },
            "marker": {
             "colorbar": {
              "outlinewidth": 0,
              "ticks": ""
             }
            },
            "type": "scatter3d"
           }
          ],
          "scattercarpet": [
           {
            "marker": {
             "colorbar": {
              "outlinewidth": 0,
              "ticks": ""
             }
            },
            "type": "scattercarpet"
           }
          ],
          "scattergeo": [
           {
            "marker": {
             "colorbar": {
              "outlinewidth": 0,
              "ticks": ""
             }
            },
            "type": "scattergeo"
           }
          ],
          "scattergl": [
           {
            "marker": {
             "colorbar": {
              "outlinewidth": 0,
              "ticks": ""
             }
            },
            "type": "scattergl"
           }
          ],
          "scattermapbox": [
           {
            "marker": {
             "colorbar": {
              "outlinewidth": 0,
              "ticks": ""
             }
            },
            "type": "scattermapbox"
           }
          ],
          "scatterpolar": [
           {
            "marker": {
             "colorbar": {
              "outlinewidth": 0,
              "ticks": ""
             }
            },
            "type": "scatterpolar"
           }
          ],
          "scatterpolargl": [
           {
            "marker": {
             "colorbar": {
              "outlinewidth": 0,
              "ticks": ""
             }
            },
            "type": "scatterpolargl"
           }
          ],
          "scatterternary": [
           {
            "marker": {
             "colorbar": {
              "outlinewidth": 0,
              "ticks": ""
             }
            },
            "type": "scatterternary"
           }
          ],
          "surface": [
           {
            "colorbar": {
             "outlinewidth": 0,
             "ticks": ""
            },
            "colorscale": [
             [
              0,
              "#0d0887"
             ],
             [
              0.1111111111111111,
              "#46039f"
             ],
             [
              0.2222222222222222,
              "#7201a8"
             ],
             [
              0.3333333333333333,
              "#9c179e"
             ],
             [
              0.4444444444444444,
              "#bd3786"
             ],
             [
              0.5555555555555556,
              "#d8576b"
             ],
             [
              0.6666666666666666,
              "#ed7953"
             ],
             [
              0.7777777777777778,
              "#fb9f3a"
             ],
             [
              0.8888888888888888,
              "#fdca26"
             ],
             [
              1,
              "#f0f921"
             ]
            ],
            "type": "surface"
           }
          ],
          "table": [
           {
            "cells": {
             "fill": {
              "color": "#EBF0F8"
             },
             "line": {
              "color": "white"
             }
            },
            "header": {
             "fill": {
              "color": "#C8D4E3"
             },
             "line": {
              "color": "white"
             }
            },
            "type": "table"
           }
          ]
         },
         "layout": {
          "annotationdefaults": {
           "arrowcolor": "#2a3f5f",
           "arrowhead": 0,
           "arrowwidth": 1
          },
          "coloraxis": {
           "colorbar": {
            "outlinewidth": 0,
            "ticks": ""
           }
          },
          "colorscale": {
           "diverging": [
            [
             0,
             "#8e0152"
            ],
            [
             0.1,
             "#c51b7d"
            ],
            [
             0.2,
             "#de77ae"
            ],
            [
             0.3,
             "#f1b6da"
            ],
            [
             0.4,
             "#fde0ef"
            ],
            [
             0.5,
             "#f7f7f7"
            ],
            [
             0.6,
             "#e6f5d0"
            ],
            [
             0.7,
             "#b8e186"
            ],
            [
             0.8,
             "#7fbc41"
            ],
            [
             0.9,
             "#4d9221"
            ],
            [
             1,
             "#276419"
            ]
           ],
           "sequential": [
            [
             0,
             "#0d0887"
            ],
            [
             0.1111111111111111,
             "#46039f"
            ],
            [
             0.2222222222222222,
             "#7201a8"
            ],
            [
             0.3333333333333333,
             "#9c179e"
            ],
            [
             0.4444444444444444,
             "#bd3786"
            ],
            [
             0.5555555555555556,
             "#d8576b"
            ],
            [
             0.6666666666666666,
             "#ed7953"
            ],
            [
             0.7777777777777778,
             "#fb9f3a"
            ],
            [
             0.8888888888888888,
             "#fdca26"
            ],
            [
             1,
             "#f0f921"
            ]
           ],
           "sequentialminus": [
            [
             0,
             "#0d0887"
            ],
            [
             0.1111111111111111,
             "#46039f"
            ],
            [
             0.2222222222222222,
             "#7201a8"
            ],
            [
             0.3333333333333333,
             "#9c179e"
            ],
            [
             0.4444444444444444,
             "#bd3786"
            ],
            [
             0.5555555555555556,
             "#d8576b"
            ],
            [
             0.6666666666666666,
             "#ed7953"
            ],
            [
             0.7777777777777778,
             "#fb9f3a"
            ],
            [
             0.8888888888888888,
             "#fdca26"
            ],
            [
             1,
             "#f0f921"
            ]
           ]
          },
          "colorway": [
           "#636efa",
           "#EF553B",
           "#00cc96",
           "#ab63fa",
           "#FFA15A",
           "#19d3f3",
           "#FF6692",
           "#B6E880",
           "#FF97FF",
           "#FECB52"
          ],
          "font": {
           "color": "#2a3f5f"
          },
          "geo": {
           "bgcolor": "white",
           "lakecolor": "white",
           "landcolor": "#E5ECF6",
           "showlakes": true,
           "showland": true,
           "subunitcolor": "white"
          },
          "hoverlabel": {
           "align": "left"
          },
          "hovermode": "closest",
          "mapbox": {
           "style": "light"
          },
          "paper_bgcolor": "white",
          "plot_bgcolor": "#E5ECF6",
          "polar": {
           "angularaxis": {
            "gridcolor": "white",
            "linecolor": "white",
            "ticks": ""
           },
           "bgcolor": "#E5ECF6",
           "radialaxis": {
            "gridcolor": "white",
            "linecolor": "white",
            "ticks": ""
           }
          },
          "scene": {
           "xaxis": {
            "backgroundcolor": "#E5ECF6",
            "gridcolor": "white",
            "gridwidth": 2,
            "linecolor": "white",
            "showbackground": true,
            "ticks": "",
            "zerolinecolor": "white"
           },
           "yaxis": {
            "backgroundcolor": "#E5ECF6",
            "gridcolor": "white",
            "gridwidth": 2,
            "linecolor": "white",
            "showbackground": true,
            "ticks": "",
            "zerolinecolor": "white"
           },
           "zaxis": {
            "backgroundcolor": "#E5ECF6",
            "gridcolor": "white",
            "gridwidth": 2,
            "linecolor": "white",
            "showbackground": true,
            "ticks": "",
            "zerolinecolor": "white"
           }
          },
          "shapedefaults": {
           "line": {
            "color": "#2a3f5f"
           }
          },
          "ternary": {
           "aaxis": {
            "gridcolor": "white",
            "linecolor": "white",
            "ticks": ""
           },
           "baxis": {
            "gridcolor": "white",
            "linecolor": "white",
            "ticks": ""
           },
           "bgcolor": "#E5ECF6",
           "caxis": {
            "gridcolor": "white",
            "linecolor": "white",
            "ticks": ""
           }
          },
          "title": {
           "x": 0.05
          },
          "xaxis": {
           "automargin": true,
           "gridcolor": "white",
           "linecolor": "white",
           "ticks": "",
           "title": {
            "standoff": 15
           },
           "zerolinecolor": "white",
           "zerolinewidth": 2
          },
          "yaxis": {
           "automargin": true,
           "gridcolor": "white",
           "linecolor": "white",
           "ticks": "",
           "title": {
            "standoff": 15
           },
           "zerolinecolor": "white",
           "zerolinewidth": 2
          }
         }
        },
        "title": {
         "text": "CAPM model"
        }
       }
      },
      "text/html": [
       "<div>\n",
       "        \n",
       "        \n",
       "            <div id=\"25177ac4-97fb-46af-931b-8a0325f25968\" class=\"plotly-graph-div\" style=\"height:525px; width:100%;\"></div>\n",
       "            <script type=\"text/javascript\">\n",
       "                require([\"plotly\"], function(Plotly) {\n",
       "                    window.PLOTLYENV=window.PLOTLYENV || {};\n",
       "                    \n",
       "                if (document.getElementById(\"25177ac4-97fb-46af-931b-8a0325f25968\")) {\n",
       "                    Plotly.newPlot(\n",
       "                        '25177ac4-97fb-46af-931b-8a0325f25968',\n",
       "                        [{\"mode\": \"lines\", \"name\": \"CAPM\", \"type\": \"scatter\", \"x\": [0.0, 0.01, 0.02, 0.03, 0.04, 0.05, 0.06, 0.07, 0.08, 0.09, 0.1, 0.11, 0.12, 0.13, 0.14, 0.15, 0.16, 0.17, 0.18, 0.19, 0.2, 0.21, 0.22, 0.23, 0.24, 0.25, 0.26, 0.27, 0.28, 0.29, 0.3, 0.31, 0.32, 0.33, 0.34, 0.35000000000000003, 0.36, 0.37, 0.38, 0.39, 0.4, 0.41000000000000003, 0.42, 0.43, 0.44, 0.45, 0.46, 0.47000000000000003, 0.48, 0.49, 0.5, 0.51, 0.52, 0.53, 0.54, 0.55, 0.56, 0.5700000000000001, 0.58, 0.59, 0.6, 0.61, 0.62, 0.63, 0.64, 0.65, 0.66, 0.67, 0.68, 0.6900000000000001, 0.7000000000000001, 0.71, 0.72, 0.73, 0.74, 0.75, 0.76, 0.77, 0.78, 0.79, 0.8, 0.81, 0.8200000000000001, 0.8300000000000001, 0.84, 0.85, 0.86, 0.87, 0.88, 0.89, 0.9, 0.91, 0.92, 0.93, 0.9400000000000001, 0.9500000000000001, 0.96, 0.97, 0.98, 0.99, 1.0, 1.01, 1.02, 1.03, 1.04, 1.05, 1.06, 1.07, 1.08, 1.09, 1.1, 1.11, 1.12, 1.1300000000000001, 1.1400000000000001, 1.1500000000000001, 1.16, 1.17, 1.18, 1.19, 1.2, 1.21, 1.22, 1.23, 1.24, 1.25, 1.26, 1.27, 1.28, 1.29, 1.3, 1.31, 1.32, 1.33, 1.34, 1.35, 1.36, 1.37, 1.3800000000000001, 1.3900000000000001, 1.4000000000000001, 1.41, 1.42, 1.43, 1.44, 1.45, 1.46, 1.47, 1.48, 1.49, 1.5, 1.51, 1.52, 1.53, 1.54, 1.55, 1.56, 1.57, 1.58, 1.59, 1.6, 1.61, 1.62, 1.6300000000000001, 1.6400000000000001, 1.6500000000000001, 1.6600000000000001, 1.67, 1.68, 1.69, 1.7, 1.71, 1.72, 1.73, 1.74, 1.75, 1.76, 1.77, 1.78, 1.79, 1.8, 1.81, 1.82, 1.83, 1.84, 1.85, 1.86, 1.87, 1.8800000000000001, 1.8900000000000001, 1.9000000000000001, 1.9100000000000001, 1.92, 1.93, 1.94, 1.95, 1.96, 1.97, 1.98, 1.99], \"y\": [0.01, 0.011812614610324587, 0.013625229220649172, 0.015437843830973758, 0.017250458441298345, 0.01906307305162293, 0.020875687661947515, 0.0226883022722721, 0.024500916882596688, 0.026313531492921274, 0.02812614610324586, 0.029938760713570448, 0.031751375323895034, 0.03356398993421962, 0.03537660454454421, 0.03718921915486879, 0.03900183376519338, 0.04081444837551797, 0.04262706298584255, 0.04443967759616714, 0.04625229220649173, 0.04806490681681631, 0.04987752142714089, 0.05169013603746548, 0.053502750647790066, 0.05531536525811465, 0.05712797986843924, 0.058940594478763826, 0.06075320908908841, 0.06256582369941299, 0.06437843830973758, 0.06619105292006217, 0.06800366753038675, 0.06981628214071134, 0.07162889675103593, 0.07344151136136051, 0.07525412597168508, 0.07706674058200967, 0.07887935519233427, 0.08069196980265886, 0.08250458441298344, 0.08431719902330803, 0.0861298136336326, 0.08794242824395719, 0.08975504285428178, 0.09156765746460636, 0.09338027207493095, 0.09519288668525554, 0.09700550129558012, 0.09881811590590471, 0.1006307305162293, 0.10244334512655388, 0.10425595973687847, 0.10606857434720306, 0.10788118895752764, 0.10969380356785223, 0.11150641817817682, 0.11331903278850142, 0.11513164739882598, 0.11694426200915056, 0.11875687661947515, 0.12056949122979974, 0.12238210584012432, 0.12419472045044892, 0.12600733506077352, 0.1278199496710981, 0.1296325642814227, 0.13144517889174728, 0.13325779350207187, 0.13507040811239646, 0.13688302272272104, 0.1386956373330456, 0.1405082519433702, 0.14232086655369477, 0.14413348116401936, 0.14594609577434398, 0.14775871038466856, 0.14957132499499315, 0.15138393960531774, 0.15319655421564232, 0.1550091688259669, 0.1568217834362915, 0.15863439804661608, 0.16044701265694067, 0.16225962726726523, 0.16407224187758981, 0.1658848564879144, 0.167697471098239, 0.16951008570856357, 0.17132270031888816, 0.17313531492921275, 0.17494792953953733, 0.17676054414986192, 0.1785731587601865, 0.1803857733705111, 0.1821983879808357, 0.18401100259116027, 0.18582361720148485, 0.18763623181180944, 0.18944884642213403, 0.1912614610324586, 0.1930740756427832, 0.19488669025310779, 0.19669930486343237, 0.19851191947375696, 0.20032453408408155, 0.20213714869440613, 0.20394976330473072, 0.2057623779150553, 0.2075749925253799, 0.20938760713570448, 0.21120022174602907, 0.21301283635635365, 0.21482545096667824, 0.21663806557700285, 0.21845068018732744, 0.22026329479765197, 0.22207590940797656, 0.22388852401830114, 0.22570113862862573, 0.22751375323895032, 0.2293263678492749, 0.2311389824595995, 0.23295159706992408, 0.23476421168024866, 0.23657682629057325, 0.23838944090089786, 0.24020205551122245, 0.24201467012154704, 0.24382728473187162, 0.2456398993421962, 0.2474525139525208, 0.24926512856284538, 0.25107774317316994, 0.25289035778349456, 0.2547029723938191, 0.25651558700414373, 0.2583282016144683, 0.2601408162247929, 0.2619534308351175, 0.2637660454454421, 0.26557866005576664, 0.2673912746660912, 0.2692038892764158, 0.27101650388674037, 0.272829118497065, 0.27464173310738954, 0.27645434771771416, 0.2782669623280387, 0.28007957693836333, 0.28189219154868794, 0.2837048061590125, 0.2855174207693371, 0.2873300353796617, 0.2891426499899863, 0.29095526460031085, 0.29276787921063546, 0.29458049382096, 0.29639310843128464, 0.2982057230416092, 0.3000183376519338, 0.30183095226225837, 0.303643566872583, 0.30545618148290754, 0.30726879609323215, 0.3090814107035567, 0.31089402531388133, 0.3127066399242059, 0.31451925453453045, 0.31633186914485506, 0.3181444837551796, 0.31995709836550423, 0.3217697129758288, 0.3235823275861534, 0.32539494219647797, 0.3272075568068026, 0.32902017141712714, 0.33083278602745175, 0.3326454006377763, 0.3344580152481009, 0.3362706298584255, 0.3380832444687501, 0.33989585907907466, 0.3417084736893993, 0.34352108829972383, 0.34533370291004845, 0.347146317520373, 0.3489589321306976, 0.3507715467410222, 0.3525841613513468, 0.3543967759616714, 0.35620939057199597, 0.3580220051823205, 0.3598346197926451, 0.3616472344029697, 0.36345984901329426, 0.36527246362361887, 0.36708507823394343, 0.36889769284426804, 0.3707103074545926]}, {\"mode\": \"markers\", \"name\": \"market portfolio\", \"type\": \"scatter\", \"x\": [1], \"y\": [0.1912614610324586]}, {\"mode\": \"markers\", \"name\": \"p1\", \"type\": \"scatter\", \"x\": [1.4392492560112258], \"y\": [0.3506037476287806]}, {\"mode\": \"markers\", \"name\": \"p2\", \"type\": \"scatter\", \"x\": [1.2984971814831163], \"y\": [0.3198043641115952]}, {\"mode\": \"markers\", \"name\": \"p3\", \"type\": \"scatter\", \"x\": [0.8779660617538916], \"y\": [0.19083663821247165]}, {\"mode\": \"markers\", \"name\": \"TechPortfolio\", \"type\": \"scatter\", \"x\": [1.3444612603176358], \"y\": [0.3678372785197299]}],\n",
       "                        {\"template\": {\"data\": {\"bar\": [{\"error_x\": {\"color\": \"#2a3f5f\"}, \"error_y\": {\"color\": \"#2a3f5f\"}, \"marker\": {\"line\": {\"color\": \"#E5ECF6\", \"width\": 0.5}}, \"type\": \"bar\"}], \"barpolar\": [{\"marker\": {\"line\": {\"color\": \"#E5ECF6\", \"width\": 0.5}}, \"type\": \"barpolar\"}], \"carpet\": [{\"aaxis\": {\"endlinecolor\": \"#2a3f5f\", \"gridcolor\": \"white\", \"linecolor\": \"white\", \"minorgridcolor\": \"white\", \"startlinecolor\": \"#2a3f5f\"}, \"baxis\": {\"endlinecolor\": \"#2a3f5f\", \"gridcolor\": \"white\", \"linecolor\": \"white\", \"minorgridcolor\": \"white\", \"startlinecolor\": \"#2a3f5f\"}, \"type\": \"carpet\"}], \"choropleth\": [{\"colorbar\": {\"outlinewidth\": 0, \"ticks\": \"\"}, \"type\": \"choropleth\"}], \"contour\": [{\"colorbar\": {\"outlinewidth\": 0, \"ticks\": \"\"}, \"colorscale\": [[0.0, \"#0d0887\"], [0.1111111111111111, \"#46039f\"], [0.2222222222222222, \"#7201a8\"], [0.3333333333333333, \"#9c179e\"], [0.4444444444444444, \"#bd3786\"], [0.5555555555555556, \"#d8576b\"], [0.6666666666666666, \"#ed7953\"], [0.7777777777777778, \"#fb9f3a\"], [0.8888888888888888, \"#fdca26\"], [1.0, \"#f0f921\"]], \"type\": \"contour\"}], \"contourcarpet\": [{\"colorbar\": {\"outlinewidth\": 0, \"ticks\": \"\"}, \"type\": \"contourcarpet\"}], \"heatmap\": [{\"colorbar\": {\"outlinewidth\": 0, \"ticks\": \"\"}, \"colorscale\": [[0.0, \"#0d0887\"], [0.1111111111111111, \"#46039f\"], [0.2222222222222222, \"#7201a8\"], [0.3333333333333333, \"#9c179e\"], [0.4444444444444444, \"#bd3786\"], [0.5555555555555556, \"#d8576b\"], [0.6666666666666666, \"#ed7953\"], [0.7777777777777778, \"#fb9f3a\"], [0.8888888888888888, \"#fdca26\"], [1.0, \"#f0f921\"]], \"type\": \"heatmap\"}], \"heatmapgl\": [{\"colorbar\": {\"outlinewidth\": 0, \"ticks\": \"\"}, \"colorscale\": [[0.0, \"#0d0887\"], [0.1111111111111111, \"#46039f\"], [0.2222222222222222, \"#7201a8\"], [0.3333333333333333, \"#9c179e\"], [0.4444444444444444, \"#bd3786\"], [0.5555555555555556, \"#d8576b\"], [0.6666666666666666, \"#ed7953\"], [0.7777777777777778, \"#fb9f3a\"], [0.8888888888888888, \"#fdca26\"], [1.0, \"#f0f921\"]], \"type\": \"heatmapgl\"}], \"histogram\": [{\"marker\": {\"colorbar\": {\"outlinewidth\": 0, \"ticks\": \"\"}}, \"type\": \"histogram\"}], \"histogram2d\": [{\"colorbar\": {\"outlinewidth\": 0, \"ticks\": \"\"}, \"colorscale\": [[0.0, \"#0d0887\"], [0.1111111111111111, \"#46039f\"], [0.2222222222222222, \"#7201a8\"], [0.3333333333333333, \"#9c179e\"], [0.4444444444444444, \"#bd3786\"], [0.5555555555555556, \"#d8576b\"], [0.6666666666666666, \"#ed7953\"], [0.7777777777777778, \"#fb9f3a\"], [0.8888888888888888, \"#fdca26\"], [1.0, \"#f0f921\"]], \"type\": \"histogram2d\"}], \"histogram2dcontour\": [{\"colorbar\": {\"outlinewidth\": 0, \"ticks\": \"\"}, \"colorscale\": [[0.0, \"#0d0887\"], [0.1111111111111111, \"#46039f\"], [0.2222222222222222, \"#7201a8\"], [0.3333333333333333, \"#9c179e\"], [0.4444444444444444, \"#bd3786\"], [0.5555555555555556, \"#d8576b\"], [0.6666666666666666, \"#ed7953\"], [0.7777777777777778, \"#fb9f3a\"], [0.8888888888888888, \"#fdca26\"], [1.0, \"#f0f921\"]], \"type\": \"histogram2dcontour\"}], \"mesh3d\": [{\"colorbar\": {\"outlinewidth\": 0, \"ticks\": \"\"}, \"type\": \"mesh3d\"}], \"parcoords\": [{\"line\": {\"colorbar\": {\"outlinewidth\": 0, \"ticks\": \"\"}}, \"type\": \"parcoords\"}], \"pie\": [{\"automargin\": true, \"type\": \"pie\"}], \"scatter\": [{\"marker\": {\"colorbar\": {\"outlinewidth\": 0, \"ticks\": \"\"}}, \"type\": \"scatter\"}], \"scatter3d\": [{\"line\": {\"colorbar\": {\"outlinewidth\": 0, \"ticks\": \"\"}}, \"marker\": {\"colorbar\": {\"outlinewidth\": 0, \"ticks\": \"\"}}, \"type\": \"scatter3d\"}], \"scattercarpet\": [{\"marker\": {\"colorbar\": {\"outlinewidth\": 0, \"ticks\": \"\"}}, \"type\": \"scattercarpet\"}], \"scattergeo\": [{\"marker\": {\"colorbar\": {\"outlinewidth\": 0, \"ticks\": \"\"}}, \"type\": \"scattergeo\"}], \"scattergl\": [{\"marker\": {\"colorbar\": {\"outlinewidth\": 0, \"ticks\": \"\"}}, \"type\": \"scattergl\"}], \"scattermapbox\": [{\"marker\": {\"colorbar\": {\"outlinewidth\": 0, \"ticks\": \"\"}}, \"type\": \"scattermapbox\"}], \"scatterpolar\": [{\"marker\": {\"colorbar\": {\"outlinewidth\": 0, \"ticks\": \"\"}}, \"type\": \"scatterpolar\"}], \"scatterpolargl\": [{\"marker\": {\"colorbar\": {\"outlinewidth\": 0, \"ticks\": \"\"}}, \"type\": \"scatterpolargl\"}], \"scatterternary\": [{\"marker\": {\"colorbar\": {\"outlinewidth\": 0, \"ticks\": \"\"}}, \"type\": \"scatterternary\"}], \"surface\": [{\"colorbar\": {\"outlinewidth\": 0, \"ticks\": \"\"}, \"colorscale\": [[0.0, \"#0d0887\"], [0.1111111111111111, \"#46039f\"], [0.2222222222222222, \"#7201a8\"], [0.3333333333333333, \"#9c179e\"], [0.4444444444444444, \"#bd3786\"], [0.5555555555555556, \"#d8576b\"], [0.6666666666666666, \"#ed7953\"], [0.7777777777777778, \"#fb9f3a\"], [0.8888888888888888, \"#fdca26\"], [1.0, \"#f0f921\"]], \"type\": \"surface\"}], \"table\": [{\"cells\": {\"fill\": {\"color\": \"#EBF0F8\"}, \"line\": {\"color\": \"white\"}}, \"header\": {\"fill\": {\"color\": \"#C8D4E3\"}, \"line\": {\"color\": \"white\"}}, \"type\": \"table\"}]}, \"layout\": {\"annotationdefaults\": {\"arrowcolor\": \"#2a3f5f\", \"arrowhead\": 0, \"arrowwidth\": 1}, \"coloraxis\": {\"colorbar\": {\"outlinewidth\": 0, \"ticks\": \"\"}}, \"colorscale\": {\"diverging\": [[0, \"#8e0152\"], [0.1, \"#c51b7d\"], [0.2, \"#de77ae\"], [0.3, \"#f1b6da\"], [0.4, \"#fde0ef\"], [0.5, \"#f7f7f7\"], [0.6, \"#e6f5d0\"], [0.7, \"#b8e186\"], [0.8, \"#7fbc41\"], [0.9, \"#4d9221\"], [1, \"#276419\"]], \"sequential\": [[0.0, \"#0d0887\"], [0.1111111111111111, \"#46039f\"], [0.2222222222222222, \"#7201a8\"], [0.3333333333333333, \"#9c179e\"], [0.4444444444444444, \"#bd3786\"], [0.5555555555555556, \"#d8576b\"], [0.6666666666666666, \"#ed7953\"], [0.7777777777777778, \"#fb9f3a\"], [0.8888888888888888, \"#fdca26\"], [1.0, \"#f0f921\"]], \"sequentialminus\": [[0.0, \"#0d0887\"], [0.1111111111111111, \"#46039f\"], [0.2222222222222222, \"#7201a8\"], [0.3333333333333333, \"#9c179e\"], [0.4444444444444444, \"#bd3786\"], [0.5555555555555556, \"#d8576b\"], [0.6666666666666666, \"#ed7953\"], [0.7777777777777778, \"#fb9f3a\"], [0.8888888888888888, \"#fdca26\"], [1.0, \"#f0f921\"]]}, \"colorway\": [\"#636efa\", \"#EF553B\", \"#00cc96\", \"#ab63fa\", \"#FFA15A\", \"#19d3f3\", \"#FF6692\", \"#B6E880\", \"#FF97FF\", \"#FECB52\"], \"font\": {\"color\": \"#2a3f5f\"}, \"geo\": {\"bgcolor\": \"white\", \"lakecolor\": \"white\", \"landcolor\": \"#E5ECF6\", \"showlakes\": true, \"showland\": true, \"subunitcolor\": \"white\"}, \"hoverlabel\": {\"align\": \"left\"}, \"hovermode\": \"closest\", \"mapbox\": {\"style\": \"light\"}, \"paper_bgcolor\": \"white\", \"plot_bgcolor\": \"#E5ECF6\", \"polar\": {\"angularaxis\": {\"gridcolor\": \"white\", \"linecolor\": \"white\", \"ticks\": \"\"}, \"bgcolor\": \"#E5ECF6\", \"radialaxis\": {\"gridcolor\": \"white\", \"linecolor\": \"white\", \"ticks\": \"\"}}, \"scene\": {\"xaxis\": {\"backgroundcolor\": \"#E5ECF6\", \"gridcolor\": \"white\", \"gridwidth\": 2, \"linecolor\": \"white\", \"showbackground\": true, \"ticks\": \"\", \"zerolinecolor\": \"white\"}, \"yaxis\": {\"backgroundcolor\": \"#E5ECF6\", \"gridcolor\": \"white\", \"gridwidth\": 2, \"linecolor\": \"white\", \"showbackground\": true, \"ticks\": \"\", \"zerolinecolor\": \"white\"}, \"zaxis\": {\"backgroundcolor\": \"#E5ECF6\", \"gridcolor\": \"white\", \"gridwidth\": 2, \"linecolor\": \"white\", \"showbackground\": true, \"ticks\": \"\", \"zerolinecolor\": \"white\"}}, \"shapedefaults\": {\"line\": {\"color\": \"#2a3f5f\"}}, \"ternary\": {\"aaxis\": {\"gridcolor\": \"white\", \"linecolor\": \"white\", \"ticks\": \"\"}, \"baxis\": {\"gridcolor\": \"white\", \"linecolor\": \"white\", \"ticks\": \"\"}, \"bgcolor\": \"#E5ECF6\", \"caxis\": {\"gridcolor\": \"white\", \"linecolor\": \"white\", \"ticks\": \"\"}}, \"title\": {\"x\": 0.05}, \"xaxis\": {\"automargin\": true, \"gridcolor\": \"white\", \"linecolor\": \"white\", \"ticks\": \"\", \"title\": {\"standoff\": 15}, \"zerolinecolor\": \"white\", \"zerolinewidth\": 2}, \"yaxis\": {\"automargin\": true, \"gridcolor\": \"white\", \"linecolor\": \"white\", \"ticks\": \"\", \"title\": {\"standoff\": 15}, \"zerolinecolor\": \"white\", \"zerolinewidth\": 2}}}, \"title\": {\"text\": \"CAPM model\"}},\n",
       "                        {\"responsive\": true}\n",
       "                    ).then(function(){\n",
       "                            \n",
       "var gd = document.getElementById('25177ac4-97fb-46af-931b-8a0325f25968');\n",
       "var x = new MutationObserver(function (mutations, observer) {{\n",
       "        var display = window.getComputedStyle(gd).display;\n",
       "        if (!display || display === 'none') {{\n",
       "            console.log([gd, 'removed!']);\n",
       "            Plotly.purge(gd);\n",
       "            observer.disconnect();\n",
       "        }}\n",
       "}});\n",
       "\n",
       "// Listen for the removal of the full notebook cells\n",
       "var notebookContainer = gd.closest('#notebook-container');\n",
       "if (notebookContainer) {{\n",
       "    x.observe(notebookContainer, {childList: true});\n",
       "}}\n",
       "\n",
       "// Listen for the clearing of the current output cell\n",
       "var outputEl = gd.closest('.output');\n",
       "if (outputEl) {{\n",
       "    x.observe(outputEl, {childList: true});\n",
       "}}\n",
       "\n",
       "                        })\n",
       "                };\n",
       "                });\n",
       "            </script>\n",
       "        </div>"
      ]
     },
     "metadata": {},
     "output_type": "display_data"
    }
   ],
   "source": [
    "capmPlot()"
   ]
  },
  {
   "cell_type": "code",
   "execution_count": 12,
   "metadata": {},
   "outputs": [
    {
     "data": {
      "application/vnd.jupyter.widget-view+json": {
       "model_id": "78a2a9d294744f75adb2ded0c2bef559",
       "version_major": 2,
       "version_minor": 0
      },
      "text/plain": [
       "interactive(children=(Dropdown(description='name', options=('p1', 'p2', 'p3', 'TechPortfolio'), value='p1'), I…"
      ]
     },
     "metadata": {},
     "output_type": "display_data"
    },
    {
     "data": {
      "text/plain": [
       "<function __main__.weightOpt(name, nr_randomnumbers, riskfree)>"
      ]
     },
     "execution_count": 12,
     "metadata": {},
     "output_type": "execute_result"
    }
   ],
   "source": [
    "wg.interact_manual(weightOpt, name=portfolio_dict.keys(), nr_randomnumbers = wg.IntSlider(min=10, max=6000, description='Nr Trials', value = 2000), riskfree = wg.FloatSlider(min=0, max=0.20, description='Risk-free rate', value = 0.01, step = 0.0001))"
   ]
  },
  {
   "cell_type": "code",
   "execution_count": null,
   "metadata": {},
   "outputs": [],
   "source": []
  }
 ],
 "metadata": {
  "kernelspec": {
   "display_name": "Python 3",
   "language": "python",
   "name": "python3"
  },
  "language_info": {
   "codemirror_mode": {
    "name": "ipython",
    "version": 3
   },
   "file_extension": ".py",
   "mimetype": "text/x-python",
   "name": "python",
   "nbconvert_exporter": "python",
   "pygments_lexer": "ipython3",
   "version": "3.7.6"
  }
 },
 "nbformat": 4,
 "nbformat_minor": 4
}
