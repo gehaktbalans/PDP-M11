{
 "cells": [
  {
   "cell_type": "code",
   "execution_count": 119,
   "metadata": {},
   "outputs": [],
   "source": [
    "%matplotlib inline\n",
    "import matplotlib.pyplot as plt\n",
    "import numpy as np\n",
    "import pandas as pd"
   ]
  },
  {
   "cell_type": "code",
   "execution_count": 120,
   "metadata": {},
   "outputs": [
    {
     "name": "stdout",
     "output_type": "stream",
     "text": [
      "\n",
      "\n",
      "Index(['Region', 'Country', 'Item Type', 'Sales Channel', 'Order Priority',\n",
      "       'Order Date', 'Order ID', 'Ship Date', 'Units Sold', 'Unit Price',\n",
      "       'Unit Cost', 'Total Revenue', 'Total Cost', 'Total Profit'],\n",
      "      dtype='object')\n",
      "\n",
      "\n",
      "           Order ID    Units Sold    Unit Price     Unit Cost  Total Revenue  \\\n",
      "count  1.000000e+04  10000.000000  10000.000000  10000.000000   1.000000e+04   \n",
      "mean   5.498719e+08   5002.855900    268.143139    188.806639   1.333355e+06   \n",
      "std    2.607835e+08   2873.246454    217.944092    176.445907   1.465026e+06   \n",
      "min    1.000892e+08      2.000000      9.330000      6.920000   1.679400e+02   \n",
      "25%    3.218067e+08   2530.750000    109.280000     56.670000   2.885511e+05   \n",
      "50%    5.485663e+08   4962.000000    205.700000    117.110000   8.000512e+05   \n",
      "75%    7.759981e+08   7472.000000    437.200000    364.690000   1.819143e+06   \n",
      "max    9.999342e+08  10000.000000    668.270000    524.960000   6.680027e+06   \n",
      "\n",
      "         Total Cost  Total Profit  \n",
      "count  1.000000e+04  1.000000e+04  \n",
      "mean   9.382658e+05  3.950893e+05  \n",
      "std    1.145914e+06  3.775550e+05  \n",
      "min    1.245600e+02  4.338000e+01  \n",
      "25%    1.647855e+05  9.832914e+04  \n",
      "50%    4.816058e+05  2.890990e+05  \n",
      "75%    1.183822e+06  5.664227e+05  \n",
      "max    5.241726e+06  1.738178e+06  \n",
      "0                                   Chad\n",
      "1                                 Latvia\n",
      "2                               Pakistan\n",
      "3       Democratic Republic of the Congo\n",
      "4                         Czech Republic\n",
      "                      ...               \n",
      "9995                                Laos\n",
      "9996                       Liechtenstein\n",
      "9997    Democratic Republic of the Congo\n",
      "9998                        South Africa\n",
      "9999                            Mongolia\n",
      "Name: Country, Length: 10000, dtype: object\n"
     ]
    },
    {
     "data": {
      "image/png": "[encoded data removed]",
      "text/plain": [
       "<Figure size 432x288 with 1 Axes>"
      ]
     },
     "metadata": {
      "needs_background": "light"
     },
     "output_type": "display_data"
    }
   ],
   "source": [
    "salesRecord_df = pd.read_csv('SalesRecords.csv') \n",
    "# print(salesRecord_df.head())\n",
    "# print(salesRecord_df[100:200])\n",
    "# print(salesRecord_df.iloc[1:4, 1:4])\n",
    "# print(salesRecord_df.loc[5:20, 'Region':'Country'])\n",
    "# print(salesRecord_df.groupby('Country')['Total Revenue'].mean())\n",
    "CountryAverage_df = salesRecord_df.groupby('Region').aggregate({'Total Profit':'mean',\n",
    "                                                   'Total Revenue':'mean',\n",
    "                                                   'Total Cost':'mean'})\n",
    "\n",
    "plt.plot(salesRecord_df.groupby('Region')['Total Profit'].mean())\n",
    "print('\\n')\n",
    "print(salesRecord_df.columns)\n",
    "print('\\n')\n",
    "print(salesRecord_df.describe())\n",
    "print(salesRecord_df['Country'])"
   ]
  },
  {
   "cell_type": "markdown",
   "metadata": {},
   "source": [
    "print(salesRecord_df.loc['Country' == 'South Africa'])"
   ]
  },
  {
   "cell_type": "code",
   "execution_count": null,
   "metadata": {},
   "outputs": [],
   "source": []
  },
  {
   "cell_type": "code",
   "execution_count": null,
   "metadata": {},
   "outputs": [],
   "source": []
  }
 ],
 "metadata": {
  "kernelspec": {
   "display_name": "Python 3",
   "language": "python",
   "name": "python3"
  },
  "language_info": {
   "codemirror_mode": {
    "name": "ipython",
    "version": 3
   },
   "file_extension": ".py",
   "mimetype": "text/x-python",
   "name": "python",
   "nbconvert_exporter": "python",
   "pygments_lexer": "ipython3",
   "version": "3.7.4"
  }
 },
 "nbformat": 4,
 "nbformat_minor": 2
}
