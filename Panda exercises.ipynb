{
 "cells": [
  {
   "cell_type": "code",
   "execution_count": 2,
   "metadata": {},
   "outputs": [],
   "source": [
    "import numpy as np\n",
    "import pandas as pd"
   ]
  },
  {
   "cell_type": "code",
   "execution_count": 3,
   "metadata": {},
   "outputs": [
    {
     "name": "stdout",
     "output_type": "stream",
     "text": [
      "a      1\n",
      "b    234\n",
      "c    432\n",
      "d    213\n",
      "f      3\n",
      "g     42\n",
      "h     21\n",
      "dtype: int64\n",
      "a    1\n",
      "b    2\n",
      "c    3\n",
      "d    4\n",
      "dtype: int64\n"
     ]
    }
   ],
   "source": [
    "data = pd.Series([1, 234, 432, 213, 3, 42,21 ], index = ['a', 'b', 'c', 'd', 'f', 'g', 'h'])\n",
    "print(data)\n",
    "data_dict = {'a' : 1,\n",
    "             'b' : 2,\n",
    "             'c' : 3,\n",
    "             'd' : 4}\n",
    "data2 = pd.Series(data_dict)\n",
    "print(data2)"
   ]
  },
  {
   "cell_type": "code",
   "execution_count": 4,
   "metadata": {},
   "outputs": [
    {
     "name": "stdout",
     "output_type": "stream",
     "text": [
      "   a   b\n",
      "0  0   0\n",
      "1  1   2\n",
      "2  2   4\n",
      "3  3   6\n",
      "4  4   8\n",
      "5  5  10\n",
      "6  6  12\n",
      "7  7  14\n",
      "8  8  16\n",
      "9  9  18\n",
      "     a  b    c\n",
      "0  2.0  4  NaN\n",
      "1  NaN  4  5.0\n"
     ]
    }
   ],
   "source": [
    "data = [{'a' :i, 'b':2 *i,} for i in range(10)]\n",
    "data_df = pd.DataFrame(data)\n",
    "print(data_df)\n",
    "data_df2 = pd.DataFrame([{'a':2, 'b':4}, {'b': 4, 'c' : 5}])\n",
    "print(data_df2)"
   ]
  },
  {
   "cell_type": "code",
   "execution_count": 26,
   "metadata": {},
   "outputs": [
    {
     "name": "stdout",
     "output_type": "stream",
     "text": [
      "              Segment                   Country    Product Discount Band  \\\n",
      "0          Government                    Canada  Carretera          None   \n",
      "1          Government                   Germany  Carretera          None   \n",
      "2           Midmarket                    France  Carretera          None   \n",
      "3           Midmarket                   Germany  Carretera          None   \n",
      "4           Midmarket                    Mexico  Carretera          None   \n",
      "..                ...                       ...        ...           ...   \n",
      "695    Small Business                    France   Amarilla          High   \n",
      "696    Small Business                    Mexico   Amarilla          High   \n",
      "697        Government                    Mexico    Montana          High   \n",
      "698        Government                    Canada      Paseo          High   \n",
      "699  Channel Partners  United States of America        VTT          High   \n",
      "\n",
      "     Units Sold  Manufacturing Price  Sale Price  Gross Sales  Discounts  \\\n",
      "0        1618.5                    3          20      32370.0       0.00   \n",
      "1        1321.0                    3          20      26420.0       0.00   \n",
      "2        2178.0                    3          15      32670.0       0.00   \n",
      "3         888.0                    3          15      13320.0       0.00   \n",
      "4        2470.0                    3          15      37050.0       0.00   \n",
      "..          ...                  ...         ...          ...        ...   \n",
      "695      2475.0                  260         300     742500.0  111375.00   \n",
      "696       546.0                  260         300     163800.0   24570.00   \n",
      "697      1368.0                    5           7       9576.0    1436.40   \n",
      "698       723.0                   10           7       5061.0     759.15   \n",
      "699      1806.0                  250          12      21672.0    3250.80   \n",
      "\n",
      "         Sales      COGS    Profit       Date  Month Number Month Name  Year  \n",
      "0     32370.00   16185.0  16185.00 2014-01-01             1    January  2014  \n",
      "1     26420.00   13210.0  13210.00 2014-01-01             1    January  2014  \n",
      "2     32670.00   21780.0  10890.00 2014-06-01             6       June  2014  \n",
      "3     13320.00    8880.0   4440.00 2014-06-01             6       June  2014  \n",
      "4     37050.00   24700.0  12350.00 2014-06-01             6       June  2014  \n",
      "..         ...       ...       ...        ...           ...        ...   ...  \n",
      "695  631125.00  618750.0  12375.00 2014-03-01             3      March  2014  \n",
      "696  139230.00  136500.0   2730.00 2014-10-01            10    October  2014  \n",
      "697    8139.60    6840.0   1299.60 2014-02-01             2   February  2014  \n",
      "698    4301.85    3615.0    686.85 2014-04-01             4      April  2014  \n",
      "699   18421.20    5418.0  13003.20 2014-05-01             5        May  2014  \n",
      "\n",
      "[700 rows x 16 columns]\n"
     ]
    }
   ],
   "source": [
    "file = 'Financial_Sample.xlsx'\n",
    "finance_df = pd.read_excel(file, 'Sheet1')\n",
    "print(finance_df)"
   ]
  },
  {
   "cell_type": "code",
   "execution_count": 56,
   "metadata": {},
   "outputs": [
    {
     "name": "stdout",
     "output_type": "stream",
     "text": [
      "     Country           Segment    Product\n",
      "1    Germany        Government  Carretera\n",
      "3    Germany         Midmarket  Carretera\n",
      "5    Germany        Government  Carretera\n",
      "6    Germany         Midmarket    Montana\n",
      "9    Germany  Channel Partners    Montana\n",
      "..       ...               ...        ...\n",
      "676  Germany        Enterprise      Paseo\n",
      "677  Germany         Midmarket      Paseo\n",
      "689  Germany         Midmarket        VTT\n",
      "691  Germany         Midmarket        VTT\n",
      "693  Germany        Enterprise        VTT\n",
      "\n",
      "[140 rows x 3 columns]\n"
     ]
    }
   ],
   "source": [
    "# selection\n",
    "# print(finance_df.keys())\n",
    "# print(finance_df[15:20])\n",
    "# print(finance_df['Country'])ckkim\n",
    "# print(finance_df.Country)\n",
    "# print(finance_df.T)\n",
    "# print(finance_df.iloc[5:20, 0:3])\n",
    "# print(finance_df.loc[:10, :'Country'])\n",
    "print(finance_df.loc[finance_df.Country == 'Germany', ['Country', 'Segment', 'Product']])"
   ]
  },
  {
   "cell_type": "code",
   "execution_count": 61,
   "metadata": {},
   "outputs": [
    {
     "name": "stdout",
     "output_type": "stream",
     "text": [
      "Country\n",
      "Canada                      25208.777750\n",
      "France                      27007.291286\n",
      "Germany                     26288.491571\n",
      "Mexico                      20768.022214\n",
      "United States of America    21396.719036\n",
      "Name: Profit, dtype: float64\n",
      "<pandas.core.groupby.generic.SeriesGroupBy object at 0x0000028436D78948>\n"
     ]
    }
   ],
   "source": [
    "print(finance_df.groupby('Country')['Profit'].mean());\n",
    "      "
   ]
  },
  {
   "cell_type": "code",
   "execution_count": null,
   "metadata": {},
   "outputs": [],
   "source": []
  }
 ],
 "metadata": {
  "kernelspec": {
   "display_name": "Python 3",
   "language": "python",
   "name": "python3"
  },
  "language_info": {
   "codemirror_mode": {
    "name": "ipython",
    "version": 3
   },
   "file_extension": ".py",
   "mimetype": "text/x-python",
   "name": "python",
   "nbconvert_exporter": "python",
   "pygments_lexer": "ipython3",
   "version": "3.7.6"
  }
 },
 "nbformat": 4,
 "nbformat_minor": 2
}
