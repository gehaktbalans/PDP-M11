{
 "cells": [
  {
   "cell_type": "code",
   "execution_count": 5,
   "metadata": {},
   "outputs": [],
   "source": [
    "import numpy as np"
   ]
  },
  {
   "cell_type": "code",
   "execution_count": 13,
   "metadata": {},
   "outputs": [
    {
     "name": "stdout",
     "output_type": "stream",
     "text": [
      "[  11   23  415   25 2143]\n",
      "[ 0  1  2  3  4  5  6  7  8  9 10 11 12 13 14 15 16 17 18 19]\n",
      "[[5 0 3 3]\n",
      " [7 9 3 5]\n",
      " [2 4 7 6]]\n",
      "2\n",
      "(3, 4)\n",
      "12\n"
     ]
    }
   ],
   "source": [
    "# creating arrays in numPy\n",
    "a = np.array([11,23,415,25,2143])\n",
    "b = np.arange(20)\n",
    "\n",
    "np.random.seed(0)\n",
    "c = np.random.randint(10, size = (3,4))\n",
    "\n",
    "print(a)\n",
    "print(b)\n",
    "print(c)\n",
    "\n",
    "print(c.ndim)\n",
    "print(c.shape)\n",
    "print(c.size)"
   ]
  },
  {
   "cell_type": "code",
   "execution_count": 24,
   "metadata": {},
   "outputs": [
    {
     "name": "stdout",
     "output_type": "stream",
     "text": [
      "[ 5  6  7  8  9 10 11 12 13 14 15 16 17 18 19]\n",
      "[ 8  9 10 11 12 13 14 15 16]\n",
      "[ 5  6  7  8  9 10 11 12 13 14 15 16 17 18 19]\n",
      "[[1 2 3]\n",
      " [4 5 6]\n",
      " [7 8 9]]\n",
      "[1 2 3]\n",
      "[[1]\n",
      " [2]\n",
      " [3]]\n",
      "[[1 2 3]]\n",
      "[[1 2 3]]\n"
     ]
    }
   ],
   "source": [
    "# slicing\n",
    "# x[start:stop:step]\n",
    "print(b[5:])\n",
    "print(b[8:17])\n",
    "\n",
    "# copy arrays\n",
    "b1 = b[5:].copy()\n",
    "print(b1)\n",
    "\n",
    "# reshaping arrays\n",
    "grid = np.arange(1, 10).reshape((3,3))\n",
    "print(grid)\n",
    "\n",
    "grid2 = np.array([1,2,3])\n",
    "print(grid2)\n",
    "print(grid2.reshape((3,1)))\n",
    "print(grid2.reshape((1,3)))\n",
    "print(grid2[np.newaxis, :])"
   ]
  },
  {
   "cell_type": "code",
   "execution_count": 41,
   "metadata": {},
   "outputs": [
    {
     "name": "stdout",
     "output_type": "stream",
     "text": [
      "[0 1 2 0 1 2]\n",
      "[[1 2 3 1 2 3]\n",
      " [1 2 3 1 2 3]]\n",
      "[[1 2 3]\n",
      " [1 2 3]\n",
      " [1 2 3]\n",
      " [1 2 3]]\n",
      "[[1 2 3 1 2 3]\n",
      " [1 2 3 1 2 3]]\n",
      "[array([0, 1]), array([2, 3, 4]), array([5, 6, 7, 8, 9])]\n",
      "[[ 0  1  2  3]\n",
      " [ 4  5  6  7]\n",
      " [ 8  9 10 11]\n",
      " [12 13 14 15]]\n",
      "[[0 1 2 3]\n",
      " [4 5 6 7]]\n",
      "[[ 8  9 10 11]\n",
      " [12 13 14 15]]\n",
      "[[ 0  1]\n",
      " [ 4  5]\n",
      " [ 8  9]\n",
      " [12 13]]\n",
      "[[ 2  3]\n",
      " [ 6  7]\n",
      " [10 11]\n",
      " [14 15]]\n"
     ]
    }
   ],
   "source": [
    "# concatenation and splitting\n",
    "x = np.arange(3)\n",
    "y = np.arange(3)\n",
    "print(np.concatenate([x,y]))\n",
    "\n",
    "grid = np.array([[1,2,3], [1,2,3]])\n",
    "\n",
    "print(np.concatenate([grid, grid], axis = 1))\n",
    "print(np.vstack([grid,grid]))\n",
    "print(np.hstack([grid,grid]))\n",
    "\n",
    "x = np.arange(10)\n",
    "y = np.split(x, [2,5])\n",
    "print(y)\n",
    "\n",
    "p = np.arange(16)\n",
    "q = p.reshape([4,4])\n",
    "print(q)\n",
    "\n",
    "upper, lower = np.vsplit(q, [2])\n",
    "print(upper)\n",
    "print(lower)\n",
    "left, right = np.hsplit(q, [2])\n",
    "print(left)\n",
    "print(right)"
   ]
  },
  {
   "cell_type": "code",
   "execution_count": 50,
   "metadata": {},
   "outputs": [
    {
     "name": "stdout",
     "output_type": "stream",
     "text": [
      "[[0 1 2]\n",
      " [3 4 5]\n",
      " [6 7 8]]\n",
      "[[ 0  1  4]\n",
      " [ 9 16 25]\n",
      " [36 49 64]]\n",
      "[[ 0.          0.84147098  0.90929743]\n",
      " [ 0.14112001 -0.7568025  -0.95892427]\n",
      " [-0.2794155   0.6569866   0.98935825]]\n",
      "190\n",
      "109641728\n",
      "[  0   1   3   6  10  15  21  28  36  45  55  66  78  91 105 120 136 153\n",
      " 171 190]\n"
     ]
    }
   ],
   "source": [
    "# Universal functions (Ufuncs)\n",
    "x = np.arange(9).reshape([3,3])\n",
    "print(x)\n",
    "print(x**2)\n",
    "print(np.sin(x))\n",
    "\n",
    "# aggregates\n",
    "y = np.arange(20)\n",
    "print(np.add.reduce(y))\n",
    "print(np.multiply.reduce(y[1:]))\n",
    "print(np.add.accumulate(y))"
   ]
  },
  {
   "cell_type": "code",
   "execution_count": 55,
   "metadata": {},
   "outputs": [
    {
     "name": "stdout",
     "output_type": "stream",
     "text": [
      "[2 2 2]\n",
      "[-2  0  2]\n",
      "[[1. 2. 3.]\n",
      " [1. 2. 3.]\n",
      " [1. 2. 3.]]\n"
     ]
    }
   ],
   "source": [
    "# broadcasting: apply ufucts on arrays of different sizes\n",
    "# rule 1: if the two arrays differ in their number of dimentsions, \n",
    "# the shape of the one with fewer dimensions is padded with ones on it leading (left) size\n",
    "\n",
    "# rule 2: if the shape of the two arrays does not match in any dimension,\n",
    "# the array with shape equal to 1 in that dimension is stretched to match the other shape\n",
    "\n",
    "# rule 3: if in any dimension the sizes disagree and neither is is equal to 1, an error is rased\n",
    "a = np.array([0,1,2])\n",
    "b = np.array([2,1,0])\n",
    "print(a+b)\n",
    "print(a-b)\n",
    "\n",
    "c = np.ones([3,3])\n",
    "d = np.arange(3)\n",
    "print(c+d)"
   ]
  },
  {
   "cell_type": "code",
   "execution_count": 60,
   "metadata": {},
   "outputs": [
    {
     "name": "stdout",
     "output_type": "stream",
     "text": [
      "[ 0  1  2  3  4  5  6  7  8  9 10 11 12 13 14 15 16 17 18 19]\n",
      "[ True False  True False  True False  True False  True False  True False\n",
      "  True False  True False  True False  True False]\n",
      "[ 0  2  4  6  8 10 12 14 16 18]\n"
     ]
    }
   ],
   "source": [
    "# masks\n",
    "x = np.arange(20)\n",
    "print(x)\n",
    "c = x%2 == 0\n",
    "print(c)\n",
    "print(x[c])"
   ]
  },
  {
   "cell_type": "code",
   "execution_count": 70,
   "metadata": {},
   "outputs": [
    {
     "name": "stdout",
     "output_type": "stream",
     "text": [
      "[   1   34 1523]\n",
      "[[ 0  1  2  3]\n",
      " [ 4  5  6  7]\n",
      " [ 8  9 10 11]]\n",
      "[10  8  9]\n",
      "[[ 6  4  5]\n",
      " [10  8  9]]\n",
      "[[ 0  2]\n",
      " [ 4  6]\n",
      " [ 8 10]]\n",
      "[  0.           5.26315789  10.52631579  15.78947368  21.05263158\n",
      "  26.31578947  31.57894737  36.84210526  42.10526316  47.36842105\n",
      "  52.63157895  57.89473684  63.15789474  68.42105263  73.68421053\n",
      "  78.94736842  84.21052632  89.47368421  94.73684211 100.        ]\n"
     ]
    }
   ],
   "source": [
    "# fancy indexing\n",
    "x = np.array([1,2,45,12,34,1523,31,23,3])\n",
    "y = np.array([0,4,5])\n",
    "print(x[y])\n",
    "\n",
    "# combined indexing\n",
    "x = np.arange(12).reshape([3,4])\n",
    "print(x)\n",
    "print(x[2, [2,0,1]])\n",
    "print(x[1:, [2,0,1]])\n",
    "mask = np.array([1,0,1,0], dtype=bool)\n",
    "row = np.arange(3)\n",
    "print(x[row[:, np.newaxis], mask])\n",
    "\n",
    "# linspace\n",
    "z = np.linspace(0, 100, 20)\n",
    "print(z)\n",
    "/\n"
   ]
  }
 ],
 "metadata": {
  "kernelspec": {
   "display_name": "Python 3",
   "language": "python",
   "name": "python3"
  },
  "language_info": {
   "codemirror_mode": {
    "name": "ipython",
    "version": 3
   },
   "file_extension": ".py",
   "mimetype": "text/x-python",
   "name": "python",
   "nbconvert_exporter": "python",
   "pygments_lexer": "ipython3",
   "version": "3.7.4"
  }
 },
 "nbformat": 4,
 "nbformat_minor": 2
}
