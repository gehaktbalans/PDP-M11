{
 "cells": [
  {
   "cell_type": "code",
   "execution_count": 23,
   "metadata": {},
   "outputs": [
    {
     "name": "stdout",
     "output_type": "stream",
     "text": [
      "Restaurant name is: Turk and cuisine type is: Kebab\n",
      "Restaurant name is: Italie and cuisine type is: pizza\n",
      "Restaurant name is: MC and cuisine type is: hamburger\n",
      "The restaurant is open!\n",
      "200\n",
      "400\n",
      "0\n"
     ]
    }
   ],
   "source": [
    "class Restaurant():\n",
    "    \"\"\"Model of a Restaurant\"\"\"\n",
    "    def __init__(self, restaurant_name, cuisine_type):\n",
    "        self.restaurant_name = restaurant_name\n",
    "        self.cuisine_type = cuisine_type\n",
    "        self.number_served = 0\n",
    "    \n",
    "    def set_number_served(self, served):\n",
    "        self.number_served = served\n",
    "    \n",
    "    def increment_number_served(self, served):\n",
    "        self.number_served += served\n",
    "        \n",
    "    \n",
    "    def describe_restaurant(self):\n",
    "        print(\"Restaurant name is: \" + self.restaurant_name + \" and cuisine type is: \" + self.cuisine_type)\n",
    "              \n",
    "    def open_restaurant(self):\n",
    "        print(\"The restaurant is open!\")\n",
    "\n",
    "restaurant1 = Restaurant(\"Doner\", 'Kebab')\n",
    "restaurant2 = Restaurant('Italie', 'pizza')\n",
    "restaurant3 = Restaurant('MC', 'hamburger')\n",
    "\n",
    "restaurant1.describe_restaurant()\n",
    "restaurant2.describe_restaurant()\n",
    "restaurant3.describe_restaurant()\n",
    "\n",
    "restaurant1.open_restaurant()\n",
    "\n",
    "restaurant1.set_number_served(200)\n",
    "print(str(restaurant1.number_served))\n",
    "restaurant1.increment_number_served(200)\n",
    "print(str(restaurant1.number_served))\n",
    "restaurant1.number_served = 0\n",
    "print(str(restaurant1.number_served))"
   ]
  },
  {
   "cell_type": "code",
   "execution_count": 28,
   "metadata": {},
   "outputs": [
    {
     "name": "stdout",
     "output_type": "stream",
     "text": [
      "Daniel Chen\n",
      "Hello Daniel\n",
      "Mr. Peanutbutter\n",
      "2\n",
      "0\n"
     ]
    }
   ],
   "source": [
    "class User():\n",
    "    \"\"\"model of an user\"\"\"\n",
    "    def __init__(self, first_name, last_name):\n",
    "        self.first_name = first_name\n",
    "        self.last_name = last_name\n",
    "        self.login_attempts = 0\n",
    "        \n",
    "    def increment_login_attempts(self):\n",
    "        self.login_attempts += 1\n",
    "    \n",
    "    def reset_login_attempts(self):\n",
    "        self.login_attempts = 0\n",
    "    \n",
    "    def describe_user(self):\n",
    "        print(self.first_name + \" \" + self.last_name)\n",
    "    \n",
    "    def greet_user(self):\n",
    "        print(\"Hello \" + self.first_name)\n",
    "\n",
    "persoon1 = User(\"Daniel\", \"Chen\")\n",
    "persoon2 = User(\"Test\", \"one\")\n",
    "persoon3 = User(\"Test\", \"two\")\n",
    "\n",
    "persoon1.describe_user()\n",
    "persoon1.greet_user()\n",
    "persoon2.describe_user()\n",
    "\n",
    "persoon1.increment_login_attempts()\n",
    "persoon1.increment_login_attempts()\n",
    "print(str(persoon1.login_attempts))\n",
    "persoon1.reset_login_attempts()\n",
    "print(str(persoon1.login_attempts))\n",
    "\n",
    "\n"
   ]
  },
  {
   "cell_type": "code",
   "execution_count": null,
   "metadata": {
    "collapsed": true
   },
   "outputs": [],
   "source": []
  }
 ],
 "metadata": {
  "kernelspec": {
   "display_name": "Python 3",
   "language": "python",
   "name": "python3"
  },
  "language_info": {
   "codemirror_mode": {
    "name": "ipython",
    "version": 3
   },
   "file_extension": ".py",
   "mimetype": "text/x-python",
   "name": "python",
   "nbconvert_exporter": "python",
   "pygments_lexer": "ipython3",
   "version": "3.7.6"
  }
 },
 "nbformat": 4,
 "nbformat_minor": 2
}
